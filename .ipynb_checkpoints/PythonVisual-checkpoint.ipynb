{
 "cells": [
  {
   "cell_type": "markdown",
   "metadata": {},
   "source": [
    "# Visualization in Python\n",
    "The options to visualize data in python are as abundant. Most of the functionality we are going to use is found in `matplotlib.pyplot`. \n",
    "*Warning: the package `pylab` contains functions from `matplotlib.pyplot` and `numpy`, making it feel much more useful. You can use either package, but be aware, some sources say that using `pylab` is no longer recommended. However, it shouldn't be a problem until it is.*\n",
    "\n",
    "**The information below draws liberally from** https://matplotlib.org/users/pyplot_tutorial.html\n",
    "## Functions in Python\n",
    "### Plot()\n",
    "Let's see what `plot()` is like in `matplotlib.pyplot`. The syntax is similar to MATLAB's:\n",
    "\n",
    "```plot(x,y,’<options>’)```\n",
    "\n",
    "`options` allow you to specify line:\n",
    "- type (`.`, `-`, `--`, `o`, `s`)\n",
    "- color (`r`, `g`, `b`, `c`, `m`, `y`, `k`, `w`). \n",
    "\n",
    "Plot will connect the plotted points by default.\n",
    "\n",
    "Plot comes with many different optional arguments: [Plot Arguments](https://matplotlib.org/stable/api/_as_gen/matplotlib.pyplot.plot.html)"
   ]
  },
  {
   "cell_type": "code",
   "execution_count": 1,
   "metadata": {},
   "outputs": [
    {
     "data": {
      "text/plain": [
       "Text(0, 0.5, 'altitude (km)')"
      ]
     },
     "execution_count": 1,
     "metadata": {},
     "output_type": "execute_result"
    },
    {
     "data": {
      "image/png": "[encoded data removed]",
      "text/plain": [
       "<Figure size 640x480 with 1 Axes>"
      ]
     },
     "metadata": {},
     "output_type": "display_data"
    }
   ],
   "source": [
    "import numpy as np\n",
    "import matplotlib.pyplot as mp\n",
    "G = 6.67*10**(-11)\n",
    "M = 5.98*10**(24)\n",
    "R = 6.371*10**6\n",
    "x = np.arange(1.5,90,1)\n",
    "y = (G*M*(3600*x)**2/(4*np.pi**2))**(1/3)-R\n",
    "ploth = mp.plot(x,y/1000, x,y,'--r')\n",
    "mp.xlabel(\"period (hr)\")\n",
    "mp.ylabel(\"altitude (km)\")"
   ]
  },
  {
   "cell_type": "markdown",
   "metadata": {},
   "source": [
    "`plot` returns an object called `lines` that contains properties about the plot you just produced. You can visit [2D lines](https://matplotlib.org/stable/api/_as_gen/matplotlib.lines.Line2D.html) documentation for the details."
   ]
  },
  {
   "cell_type": "code",
   "execution_count": 2,
   "metadata": {
    "scrolled": true
   },
   "outputs": [
    {
     "data": {
      "text/plain": [
       "[<matplotlib.lines.Line2D at 0x26573d67290>,\n",
       " <matplotlib.lines.Line2D at 0x26573d66e40>]"
      ]
     },
     "execution_count": 2,
     "metadata": {},
     "output_type": "execute_result"
    }
   ],
   "source": [
    "ploth"
   ]
  },
  {
   "cell_type": "code",
   "execution_count": 3,
   "metadata": {},
   "outputs": [
    {
     "data": {
      "text/plain": [
       "array([  283.03274312,  2982.71428589,  5334.84557302,  7469.94586702,\n",
       "        9451.16419982, 11315.1375642 , 13085.50977154, 14778.65941375,\n",
       "       16406.52320561, 17978.14001158, 19500.56226002, 20979.42649013,\n",
       "       22419.32759374, 23824.07382247, 25196.86614143, 26540.42779772,\n",
       "       27857.10009629, 29148.91461933, 30417.64863956, 31664.86829737,\n",
       "       32891.96270687, 34100.17122882, 35290.60552112, 36464.267546  ,\n",
       "       37622.06440961, 38764.82069301, 39893.28877719, 41008.15754919,\n",
       "       42110.05979081, 43199.57848724, 44277.25224332, 45343.5799582 ,\n",
       "       46399.02487928, 47444.01813414, 48478.96182055, 49504.23172091,\n",
       "       50520.17969568, 51527.13580133, 52525.41017072, 53515.29468809,\n",
       "       54497.0644854 , 55470.97928298, 56437.28459397, 57396.21280924,\n",
       "       58347.98417693, 59292.80768906, 60230.88188577, 61162.39558642,\n",
       "       62087.52855558, 63006.45211086, 63919.32967881, 64826.3173041 ,\n",
       "       65727.56411686, 66623.21276222, 67513.39979586, 68398.25604865,\n",
       "       69277.90696357, 70152.4729071 , 71022.06945779, 71886.80767375,\n",
       "       72746.79434108, 73602.13220482, 74452.92018393, 75299.25357165,\n",
       "       76141.22422243, 76978.92072649, 77812.42857304, 78641.83030313,\n",
       "       79467.20565269, 80288.63168685, 81106.18292586, 81919.93146354,\n",
       "       82729.94707854, 83536.29733914, 84339.04770195, 85138.26160491,\n",
       "       85934.00055508, 86726.32421154, 87515.2904637 , 88300.95550529,\n",
       "       89083.37390454, 89862.59867044, 90638.68131568, 91411.67191621,\n",
       "       92181.61916789, 92948.57044012, 93712.57182689, 94473.66819528,\n",
       "       95231.90323161])"
      ]
     },
     "execution_count": 3,
     "metadata": {},
     "output_type": "execute_result"
    }
   ],
   "source": [
    "ploth[0].get_xdata()\n",
    "ploth[0].get_ydata()"
   ]
  },
  {
   "cell_type": "markdown",
   "metadata": {},
   "source": [
    "These plot lines allow you to set properties of the lines with finer control."
   ]
  },
  {
   "cell_type": "code",
   "execution_count": null,
   "metadata": {},
   "outputs": [],
   "source": [
    "ploth[0].get_linewidth()\n",
    "#ploth[0].get_markersize()"
   ]
  },
  {
   "cell_type": "code",
   "execution_count": 13,
   "metadata": {},
   "outputs": [
    {
     "name": "stderr",
     "output_type": "stream",
     "text": [
      "C:\\Users\\tomke\\AppData\\Local\\Temp\\ipykernel_4176\\3050291633.py:2: UserWarning: No artists with labels found to put in legend.  Note that artists whose label start with an underscore are ignored when legend() is called with no argument.\n",
      "  mp.legend()\n"
     ]
    },
    {
     "data": {
      "image/png": "[encoded data removed]",
      "text/plain": [
       "<Figure size 640x480 with 1 Axes>"
      ]
     },
     "metadata": {},
     "output_type": "display_data"
    }
   ],
   "source": [
    "ploth[0].set_linewidth(4)"
   ]
  },
  {
   "cell_type": "code",
   "execution_count": null,
   "metadata": {},
   "outputs": [],
   "source": [
    "ploth = mp.plot(x,y/1000,'r--', markersize = 2)\n",
    "mp.xlabel(\"period (hr)\")\n",
    "mp.ylabel(\"altitude (km)\")\n",
    "#ploth[0].set_linewidth(9)"
   ]
  },
  {
   "cell_type": "markdown",
   "metadata": {},
   "source": [
    "### Scatter()\n",
    "`scatter()` functions just as `plot()` but it won't connect the dots by default. `scatter` comes with different option arguments: [Scatter Arguments](https://www.geeksforgeeks.org/matplotlib-pyplot-scatter-in-python/#)"
   ]
  },
  {
   "cell_type": "code",
   "execution_count": null,
   "metadata": {},
   "outputs": [],
   "source": [
    "v = np.sqrt(G*M/(R+y))\n",
    "mp.scatter(v,y/1000,color='blue',s=x)\n",
    "mp.xlabel('velocity')\n",
    "mp.ylabel('altitude')"
   ]
  },
  {
   "cell_type": "code",
   "execution_count": null,
   "metadata": {},
   "outputs": [],
   "source": [
    "type(x)"
   ]
  },
  {
   "cell_type": "markdown",
   "metadata": {},
   "source": [
    "You can even include texts and annonations within the graph itself"
   ]
  },
  {
   "cell_type": "code",
   "execution_count": null,
   "metadata": {},
   "outputs": [],
   "source": [
    "#subplots does create an array of plots, but the default arguments to subplots is col=1, row=1\n",
    "fig, ax = mp.subplots() \n",
    "\n",
    "t = np.arange(0.1, 24,0.4)\n",
    "y = (G*M*(3600*t)**2/(4*np.pi**2))**(1/3)-R\n",
    "ax.scatter(t, y/1000)\n",
    "\n",
    "mp.xlabel('period (hr)')\n",
    "mp.ylabel('altitude (km)')\n",
    "t0 = 1.5\n",
    "y0= (G*M*(3600*t0)**2/(4*np.pi**2))**(1/3)-R\n",
    "ax.scatter(t0,y0/1000)\n",
    "ax.annotate('no satellites below this point', xy=(1.5,0), xytext=(5, 5000),\\\n",
    "            arrowprops=dict(facecolor='black',shrink=0.15),)\n"
   ]
  },
  {
   "cell_type": "markdown",
   "metadata": {},
   "source": [
    "### Just a note:\n",
    "You may need to use `show()` to display the plot. \n",
    "\n",
    "**Why is that? That seems unnecessary?**\n",
    "Maybe, but this does allow you to create the entire figure (specifying labels, titles, etc) before it being displayed. You should probably only call `show()` at the end of the program\n",
    "\n",
    "**But I want to see it now!**\n",
    "Using `draw()` will draw the graph immediately (that is if you use pyplot instead of pylab)\n",
    "\n",
    "### Histograms\n",
    "Producing histograms in python can be confusing. There is a `histogram` function in `numpy`, but it will not graph the histogram for you."
   ]
  },
  {
   "cell_type": "code",
   "execution_count": null,
   "metadata": {},
   "outputs": [],
   "source": [
    "# ensures consistent seeding\n",
    "rng = np.random.RandomState(10) \n",
    "hist, bins = np.histogram(rng.normal(size=1000))\n",
    "print(hist)\n",
    "print(bins)"
   ]
  },
  {
   "cell_type": "markdown",
   "metadata": {},
   "source": [
    "You have to load up `matplotlib.pyplot` to graph the histogram (though it does use `np.histogram` to do this)."
   ]
  },
  {
   "cell_type": "code",
   "execution_count": null,
   "metadata": {},
   "outputs": [],
   "source": [
    "#creates two normal distributions\n",
    "a = np.hstack((rng.normal(size=1000), rng.normal(5, 2, size=1000))) \n",
    "# arguments are passed to mp.hist\n",
    "h1=mp.hist(a, bins='auto')  \n",
    "mp.title(\"Histogram with 'auto' bins\")\n",
    "mp.xlabel('value')\n",
    "#mp.show()"
   ]
  },
  {
   "cell_type": "markdown",
   "metadata": {},
   "source": [
    "### Multiple figures and axes\n",
    "You can define subplot in a very similar manner as in MATLAB by using the `subplot` command in `matplotlib`. Below is an example of how it works. We will graph several different types of plots in one figure"
   ]
  },
  {
   "cell_type": "code",
   "execution_count": null,
   "metadata": {},
   "outputs": [],
   "source": [
    "# Fixing random state for reproducibility\n",
    "np.random.seed(19680801)\n",
    "\n",
    "# make up some data in the interval\n",
    "y = np.random.normal(loc=0.5, scale=0.4, size=1000) #normal distribution with a mean of 0.5 and a standard dev. of 0.4\n",
    "y = y[(y > 0) & (y < 1)]\n",
    "y.sort()\n",
    "x = np.arange(len(y))\n",
    "\n",
    "# plot with various axes scales\n",
    "mp.figure(1)\n",
    "# can graph in subplots. Below, 221 specifies a two by two grid, the 1 being the first spot in the grid.\n",
    "# linear\n",
    "mp.subplot(221)\n",
    "mp.plot(x, y)\n",
    "mp.yscale('linear')\n",
    "mp.title('linear')\n",
    "mp.grid(True)\n",
    "\n",
    "# log\n",
    "mp.subplot(222)\n",
    "mp.plot(x, y)\n",
    "mp.yscale('log')\n",
    "mp.title('log')\n",
    "mp.grid(True)\n",
    "\n",
    "# symmetric log\n",
    "mp.subplot(223)\n",
    "mp.plot(x, y - y.mean())\n",
    "mp.yscale('symlog', linthresh=0.01)\n",
    "mp.title('symlog')\n",
    "mp.grid(True)\n",
    "\n",
    "# yyaxis\n",
    "mp.subplot(224)\n",
    "ax = mp.gca() #grabs current axis\n",
    "ax2 = ax.twinx() # makes a twin axis in some plot\n",
    "# using ax.plot allows you to plot using a specific axis\n",
    "ax.plot(x, y)\n",
    "ax2.plot(x,3*y**2,'b--')\n",
    "\n",
    "mp.title('yyaxis')\n",
    "mp.grid(True)\n",
    "\n",
    "\n",
    "## strictly for formatting purposes_____\n",
    "from matplotlib.ticker import NullFormatter \n",
    "# Format the minor tick labels of the y-axis into empty strings with\n",
    "# `NullFormatter`, to avoid cumbering the axis with too many labels.\n",
    "mp.gca().yaxis.set_minor_formatter(NullFormatter())\n",
    "# Adjust the subplot layout, because the logit one may take more space\n",
    "# than usual, due to y-tick labels like \"1 - 10^{-3}\"\n",
    "mp.subplots_adjust(top=0.92, bottom=0.08, left=0.10, right=0.95, hspace=0.35,wspace=0.35)\n",
    "#______\n",
    "mp.show()"
   ]
  },
  {
   "cell_type": "markdown",
   "metadata": {},
   "source": [
    "## 3-Dimensional Plotting\n",
    "Originally `matplotlib` was built only with 2-D plotting capabilities, but 3-D capabilities have been added. The following example was taken from [here](https://jakevdp.github.io/PythonDataScienceHandbook/04.12-three-dimensional-plotting.html). Please visit that sight for further details."
   ]
  },
  {
   "cell_type": "code",
   "execution_count": null,
   "metadata": {},
   "outputs": [],
   "source": [
    "# Preamble for setting up 3D graphing\n",
    "#from mpl_toolkits import mplot3d\n",
    "%matplotlib inline\n",
    "import numpy as np\n",
    "import matplotlib.pyplot as plt"
   ]
  },
  {
   "cell_type": "code",
   "execution_count": null,
   "metadata": {},
   "outputs": [],
   "source": [
    "fig = plt.figure()\n",
    "ax = plt.axes(projection='3d')"
   ]
  },
  {
   "cell_type": "code",
   "execution_count": null,
   "metadata": {},
   "outputs": [],
   "source": [
    "# Preamble for setting up 3D graphing\n",
    "%matplotlib inline\n",
    "import numpy as np\n",
    "import matplotlib.pyplot as plt\n",
    "fig = plt.figure()\n",
    "ax = plt.axes(projection='3d')\n",
    "# Data for a three-dimensional line\n",
    "zline = np.linspace(0, 15, 1000)\n",
    "xline = np.sin(zline)\n",
    "yline = np.cos(zline)\n",
    "ax.plot3D(xline, yline, zline, 'gray')\n",
    "# Data for three-dimensional scattered points\n",
    "zdata = 15 * np.random.random(100)\n",
    "xdata = np.sin(zdata) + 0.1 * np.random.randn(100)\n",
    "ydata = np.cos(zdata) + 0.1 * np.random.randn(100)\n",
    "ax.scatter3D(xdata, ydata, zdata, c=zdata, cmap='Greens')\n",
    "plt.show()"
   ]
  },
  {
   "cell_type": "markdown",
   "metadata": {},
   "source": [
    "# Animations in Python\n",
    "`matplotlib` contains functions used to animate plots. These functions are in the submodule (subpackage) `matplotlib.animation`. To see what functions are available, you can import this module and use the `dir` method"
   ]
  },
  {
   "cell_type": "code",
   "execution_count": null,
   "metadata": {},
   "outputs": [],
   "source": [
    "import matplotlib.animation as ma\n",
    "dir(ma)"
   ]
  },
  {
   "cell_type": "markdown",
   "metadata": {
    "jupyter": {
     "source_hidden": true
    }
   },
   "source": [
    "we'll look at `FuncAnimation` in detail after we have talked about python functions."
   ]
  },
  {
   "cell_type": "code",
   "execution_count": null,
   "metadata": {
    "jupyter": {
     "source_hidden": true
    }
   },
   "outputs": [],
   "source": []
  },
  {
   "cell_type": "markdown",
   "metadata": {},
   "source": [
    "# Exercise: Sunspot Analysis\n",
    "\n",
    "Create three different visualizations to explore solar activity over the past 300+ years.\n",
    "\n",
    "## Load the data:\n",
    "```python\n",
    "import numpy as np\n",
    "import matplotlib.pyplot as mp\n",
    "\n",
    "sunspots = np.genfromtxt(\"data/sunspotsbyyear.csv\", delimiter=',', filling_values=np.nan)\n",
    "years = sunspots[:, 0]\n",
    "num_spots = sunspots[:, 1]\n",
    "stdev = sunspots[:, 2]\n",
    "```\n",
    "\n",
    "## Task 1: Line Plot of Solar Activity\n",
    "Create a line plot showing how sunspot counts have varied over time.\n",
    "- Plot `num_spots` vs. `years`\n",
    "- Use a thin line (linewidth=0.8)\n",
    "- Title: \"Annual Sunspot Count (1700-2023)\"\n",
    "- Axis labels: \"Year\" and \"Number of Sunspots\"\n",
    "- Enable grid\n",
    "\n",
    "You should see a repeating pattern in the data.\n",
    "\n",
    "## Task 2: Scatter Plot with Error Bars\n",
    "Show the same data with measurement uncertainty included.\n",
    "- Use: `mp.errorbar(...)`\n",
    "- Title: \"Sunspot Counts with Measurement Uncertainty\"\n",
    "- Same axis labels as Task 1\n",
    "- Enable grid\n",
    "\n",
    "The `yerr=stdev` parameter adds vertical error bars showing the standard deviation.\n",
    "\n",
    "## Task 3: Histogram of Sunspot Distribution\n",
    "Examine how sunspot counts are distributed.\n",
    "- Create a histogram of `num_spots`\n",
    "- Use 25 bins\n",
    "- Title: \"Distribution of Annual Sunspot Counts\"\n",
    "- Axis labels: \"Number of Sunspots\" and \"Frequency\"\n",
    "\n",
    "## Reflection Questions:\n",
    "1. From the line plot, estimate how many years pass between peaks in sunspot activity.\n",
    "2. Does the error bar plot show larger uncertainty during high or low sunspot activity?\n",
    "3. Looking at the histogram, is low sunspot activity or high sunspot activity more common?\n",
    "\n",
    "**Tip:** Create each plot separately using `mp.figure()` before each one."
   ]
  },
  {
   "cell_type": "code",
   "execution_count": null,
   "metadata": {},
   "outputs": [],
   "source": []
  }
 ],
 "metadata": {
  "kernelspec": {
   "display_name": "Python 3 (ipykernel)",
   "language": "python",
   "name": "python3"
  },
  "language_info": {
   "codemirror_mode": {
    "name": "ipython",
    "version": 3
   },
   "file_extension": ".py",
   "mimetype": "text/x-python",
   "name": "python",
   "nbconvert_exporter": "python",
   "pygments_lexer": "ipython3",
   "version": "3.12.7"
  }
 },
 "nbformat": 4,
 "nbformat_minor": 4
}
