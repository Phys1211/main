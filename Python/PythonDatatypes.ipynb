{
 "cells": [
  {
   "cell_type": "markdown",
   "metadata": {},
   "source": [
    "# Data Types\n",
    "The basic data types in python include types that contain numbers, *text*, **sequences**, and boolean. Many of these data types have *methods* associated with them. Methods are functions associated with certain classes, like data types. Date types often use methods with the syntax\n",
    "```python\n",
    "varname.method(<input arguments>)\n",
    "```\n",
    "where `method` returns an altered `varname`, but does not always edit the original `varname` directly\n",
    "## Numeric\n",
    "Python has three data types for numbers."
   ]
  },
  {
   "cell_type": "code",
   "execution_count": null,
   "metadata": {},
   "outputs": [],
   "source": [
    "x = 137.\n",
    "y = 1.618\n",
    "z = 3+5j\n",
    "print(type(x))\n",
    "print(type(y))\n",
    "print(type(z))\n",
    "print(x/y)"
   ]
  },
  {
   "cell_type": "markdown",
   "metadata": {},
   "source": [
    "Notice that Python automatically recognizes the data type for each type of number. There is no need to explicitly specify it."
   ]
  },
  {
   "cell_type": "markdown",
   "metadata": {},
   "source": [
    "## Booleans\n",
    "Booleans are essential for `if`, `for`, and `while` loops. These variables take 1 of two values: True or False."
   ]
  },
  {
   "cell_type": "code",
   "execution_count": null,
   "metadata": {},
   "outputs": [],
   "source": [
    "int(1>3)"
   ]
  },
  {
   "cell_type": "code",
   "execution_count": null,
   "metadata": {
    "scrolled": true
   },
   "outputs": [],
   "source": [
    "print((3 == 3) + 2)   # Is five equal 5 to the result of 3 + 2?\n",
    "int(5 == 6)"
   ]
  },
  {
   "cell_type": "code",
   "execution_count": null,
   "metadata": {},
   "outputs": [],
   "source": [
    "j = \"hel\"\n",
    "j + \"lo\" == \"hello\""
   ]
  },
  {
   "cell_type": "code",
   "execution_count": null,
   "metadata": {},
   "outputs": [],
   "source": [
    "x=68\n",
    "x*9"
   ]
  },
  {
   "cell_type": "markdown",
   "metadata": {},
   "source": [
    "### Arrays\n",
    "Arrays are a datatype found in `numpy`; therefore, you must always import `numpy` **before** using them. Arrays in Python are:\n",
    "1. fixed in size\n",
    "1. all elements must be of the same type\n",
    "1. multi-dimensional\n",
    "\n",
    "The *array* command is stored in the package _numpy_. Arrays can always be used in arithmetic operations, and they store data more efficiently than lists, so when storing lots of data, use arrays."
   ]
  },
  {
   "cell_type": "code",
   "execution_count": null,
   "metadata": {},
   "outputs": [],
   "source": [
    "from numpy import array\n",
    "a = array([[11,12,13,14,15],[16,17,18,19,20],[21,22,23,24,25],[26,27,28,29,30],[31,32,33,34,35]])\n",
    "print(a)"
   ]
  },
  {
   "cell_type": "markdown",
   "metadata": {},
   "source": [
    "![python indexing](figures/pythonarray.jpg)"
   ]
  },
  {
   "cell_type": "markdown",
   "metadata": {},
   "source": [
    "You can slice lists and arrays with a colon **:**\n",
    "\n",
    "- a[m:n] = subset of *a* starting at index *m* up to but not including *n*\n",
    "- a[m:n,p:q] = subset of a 2-D array *a* starting in row *m* and column *p* up to but not including row *n* and column *q* \n",
    "- a[m:n:step,p:q:step]  = subset of array *a* choosing an element at each step\n",
    "\n",
    "Omitting numbers before colon means start at the beginning and after the colon means go to end"
   ]
  },
  {
   "cell_type": "code",
   "execution_count": null,
   "metadata": {},
   "outputs": [],
   "source": [
    "a[0,1]"
   ]
  },
  {
   "cell_type": "code",
   "execution_count": null,
   "metadata": {},
   "outputs": [],
   "source": [
    "a[1:3,2:4]"
   ]
  },
  {
   "cell_type": "code",
   "execution_count": null,
   "metadata": {},
   "outputs": [],
   "source": [
    "a[::2,::2]"
   ]
  },
  {
   "cell_type": "markdown",
   "metadata": {},
   "source": [
    "### Useful Functions\n",
    "Some functions in *numpy* help creating and importing arrays. You may also turn lists into arrays."
   ]
  },
  {
   "cell_type": "code",
   "execution_count": null,
   "metadata": {},
   "outputs": [],
   "source": [
    "import numpy as np\n",
    "A=np.zeros([3,3],int)\n",
    "B=np.ones([3,3],float)\n",
    "print(A)\n",
    "print(B)"
   ]
  },
  {
   "cell_type": "code",
   "execution_count": null,
   "metadata": {},
   "outputs": [],
   "source": [
    "list1 = [3,5,1,3,5,6]\n",
    "print(list1)"
   ]
  },
  {
   "cell_type": "code",
   "execution_count": null,
   "metadata": {},
   "outputs": [],
   "source": [
    "np.array(list1,float)"
   ]
  },
  {
   "cell_type": "markdown",
   "metadata": {},
   "source": [
    "Wait a minute! Are you saying I can only get 1D arrays from lists? Well, no. Let's use **lists of lists**"
   ]
  },
  {
   "cell_type": "code",
   "execution_count": null,
   "metadata": {},
   "outputs": [],
   "source": [
    "list2 = [[1,4,8],[3,4,9],[-1,4,2]]\n",
    "print(4*list2)\n",
    "list2[1][2]"
   ]
  },
  {
   "cell_type": "code",
   "execution_count": null,
   "metadata": {},
   "outputs": [],
   "source": [
    "newarray = np.array(list2)\n",
    "print(3*newarray)"
   ]
  },
  {
   "cell_type": "markdown",
   "metadata": {},
   "source": [
    "You can load data from files **fairly** easily with *loadtxt*. Documentation on *dtype* and the notation used below is available at https://docs.scipy.org/doc/numpy-1.15.0/reference/generated/numpy.dtype.html"
   ]
  },
  {
   "cell_type": "code",
   "execution_count": null,
   "metadata": {
    "scrolled": true
   },
   "outputs": [],
   "source": [
    "test=np.loadtxt(\"data/globaltemps.txt\", dtype={'names': ('year','temp'),\n",
    "...                      'formats': ('i4', 'f4')})\n",
    "print(test)"
   ]
  },
  {
   "cell_type": "code",
   "execution_count": null,
   "metadata": {},
   "outputs": [],
   "source": [
    "id=test['temp']>0.5\n",
    "print(id)\n",
    "tp=test['year'][id]\n",
    "print(tp)"
   ]
  },
  {
   "cell_type": "code",
   "execution_count": null,
   "metadata": {},
   "outputs": [],
   "source": [
    "test['temp']"
   ]
  },
  {
   "cell_type": "code",
   "execution_count": null,
   "metadata": {},
   "outputs": [],
   "source": [
    "t = test.tolist()\n",
    "print(test.tolist()) # convert array to list\n",
    "print(t)"
   ]
  },
  {
   "cell_type": "markdown",
   "metadata": {},
   "source": [
    "# Exercise: Working with Measurement Arrays\n",
    "A physics lab collected voltage measurements (in volts) at different time intervals. "
   ]
  },
  {
   "cell_type": "code",
   "execution_count": 1,
   "metadata": {},
   "outputs": [],
   "source": [
    "import numpy as np\n",
    "# Given data: Voltage measurements every 0.1 seconds for 2.1 seconds\n",
    "times = np.arange(0.0,2.1,0.1) #What is arange??\n",
    "voltages = np.array([0.0, 0.5, 1.4, 2.1, 2.6, 2.9, 3.0, 2.9, 2.6, 2.1, 1.4, \n",
    "                    0.9, 0.3, -0.1, -0.4, -0.6, -0.7, -0.6, -0.4, -0.1, 0.2])"
   ]
  },
  {
   "cell_type": "markdown",
   "metadata": {},
   "source": [
    "**Questions**\n",
    "1. Calculate the maximum and minimum voltages and their corresponding time indices.\n",
    "2. Create a new array containing only the positive voltage measurements.\n",
    "3. Calculate the average voltage for the first ten values.\n",
    "4. Create a slice that contains every third measurement starting at index 2."
   ]
  },
  {
   "cell_type": "code",
   "execution_count": null,
   "metadata": {},
   "outputs": [],
   "source": []
  },
  {
   "cell_type": "markdown",
   "metadata": {},
   "source": [
    "## Sequences\n",
    "Sequences in Python include `lists`, `tuples` (`ranges`), and `strings`. Lists are a simple way of storing related data, much like arrays or tables in MATLAB. Tuples act much like lists, but are immutable, meaning once created they *cannot* be modified. Ranges refer to the built-in function `range` (and its many similar cousins: `arange`, `xrange`, etc). `range` is used to create a range of values. `strings` allow for text to be stored and manipulated.\n",
    "### Lists"
   ]
  },
  {
   "cell_type": "code",
   "execution_count": null,
   "metadata": {},
   "outputs": [],
   "source": [
    "list1=['photon', 'W+ boson', 'W- boson', 'Z boson', 'gluon', 'graviton'];"
   ]
  },
  {
   "cell_type": "code",
   "execution_count": null,
   "metadata": {},
   "outputs": [],
   "source": []
  },
  {
   "cell_type": "code",
   "execution_count": null,
   "metadata": {},
   "outputs": [],
   "source": [
    "list1.pop()\n",
    "print(notreal)"
   ]
  },
  {
   "cell_type": "code",
   "execution_count": null,
   "metadata": {},
   "outputs": [],
   "source": [
    "list1"
   ]
  },
  {
   "cell_type": "code",
   "execution_count": null,
   "metadata": {},
   "outputs": [],
   "source": [
    "x = list1.append(notreal)\n",
    "print(x)\n",
    "print(list1)"
   ]
  },
  {
   "cell_type": "code",
   "execution_count": null,
   "metadata": {},
   "outputs": [],
   "source": [
    "print(list1[0:4])\n",
    "'photon' in list1"
   ]
  },
  {
   "cell_type": "markdown",
   "metadata": {},
   "source": [
    "### Tuples"
   ]
  },
  {
   "cell_type": "code",
   "execution_count": null,
   "metadata": {},
   "outputs": [],
   "source": [
    "tuple1 = ('photon', 'W+ boson', 'W- boson', 'Z boson', 'gluon', 'graviton')"
   ]
  },
  {
   "cell_type": "code",
   "execution_count": null,
   "metadata": {},
   "outputs": [],
   "source": [
    "tuple1[3:5]"
   ]
  },
  {
   "cell_type": "code",
   "execution_count": null,
   "metadata": {},
   "outputs": [],
   "source": [
    "tuple1[6]='gamma'"
   ]
  },
  {
   "cell_type": "code",
   "execution_count": null,
   "metadata": {},
   "outputs": [],
   "source": [
    "(em,weak1,weak2,weak3,strong,gravity)=tuple1\n",
    "print(weak2)\n",
    "print(strong)"
   ]
  },
  {
   "cell_type": "markdown",
   "metadata": {},
   "source": [
    "you often need to switch the values of two variables, tuples gives you an easy way:"
   ]
  },
  {
   "cell_type": "code",
   "execution_count": null,
   "metadata": {},
   "outputs": [],
   "source": [
    "a='switch'\n",
    "b=3.1415\n",
    "(a,b)=(b,a)\n",
    "print(a)\n",
    "print(b)"
   ]
  },
  {
   "cell_type": "code",
   "execution_count": null,
   "metadata": {},
   "outputs": [],
   "source": [
    "for k in tuple1:\n",
    "    print(k)"
   ]
  },
  {
   "cell_type": "markdown",
   "metadata": {},
   "source": [
    "`range` is a type much like a `tuple` in that you specify the values at its creation and cannot/should not be altered after creation."
   ]
  },
  {
   "cell_type": "code",
   "execution_count": null,
   "metadata": {},
   "outputs": [],
   "source": [
    "r1=range(6)\n",
    "r2=range(1,19)\n",
    "r3=range(1,44,4)\n",
    "print(r1)\n",
    "print(r2)\n",
    "print(r3[3])\n",
    "print(type(r3))"
   ]
  },
  {
   "cell_type": "markdown",
   "metadata": {},
   "source": [
    "### Strings\n",
    "`str` is the only data type used to contain text in Python"
   ]
  },
  {
   "cell_type": "code",
   "execution_count": null,
   "metadata": {},
   "outputs": [],
   "source": [
    "text1 = \"There is no difference between characters and strings. \"\n",
    "text2 = 'Single or double quotes give you the same thing'\n",
    "print(type(text1))\n",
    "print(type(text2))\n",
    "print(text1[9])\n",
    "print(text2[0:6])\n",
    "print(text1*2)"
   ]
  },
  {
   "cell_type": "markdown",
   "metadata": {},
   "source": [
    "`str` is quite the flexible data type in Python. Below are some examples of ways to use strings. Many more methods can be found at [string methods](https://www.programiz.com/python-programming/methods/string/join)"
   ]
  },
  {
   "cell_type": "code",
   "execution_count": null,
   "metadata": {},
   "outputs": [],
   "source": [
    "gettysburg = \"Four score and seven years ago our fathers brought forth on this continent, a new nation, conceived in Liberty, and dedicated to the proposition that all men are created equal. Now we are engaged in a great civil war, testing whether that nation, or any nation so conceived and dedicated, can long endure. We are met on a great battle-field of that war. We have come to dedicate a portion of that field, as a final resting place for those who here gave their lives that that nation might live. It is altogether fitting and proper that we should do this. But, in a larger sense, we can not dedicate -- we can not consecrate -- we can not hallow -- this ground. The brave men, living and dead, who struggled here, have consecrated it, far above our poor power to add or detract. The world will little note, nor long remember what we say here, but it can never forget what they did here. It is for us the living, rather, to be dedicated here to the unfinished work which they who fought here have thus far so nobly advanced. It is rather for us to be here dedicated to the great task remaining before us -- that from these honored dead we take increased devotion to that cause for which they gave the last full measure of devotion -- that we here highly resolve that these dead shall not have died in vain -- that this nation, under God, shall have a new birth of freedom -- and that government of the people, by the people, for the people, shall not perish from the earth.\"\n",
    "substr= \" we \"\n",
    "print(gettysburg.count(substr)) # count 'we's in the address\n",
    "print(gettysburg.casefold().count(substr)) # counts we's regardless of capitalization\n",
    "print(gettysburg.find(substr))\n",
    "print(gettysburg[181:183])\n",
    "gettysburg.replace(\"Four \",\"Three \")\n",
    "print(gettysburg)"
   ]
  },
  {
   "cell_type": "markdown",
   "metadata": {},
   "source": [
    "# Exercise: More `str` Analysis\n",
    "Using the Gettysburg Address variable `gettysburg`, answer the following:\n",
    "1. How many words does the Gettysburg Address contain?\n",
    "2. Does the speech contain the word \"Liberty\"? Where?\n",
    "3. Replace all the periods '.' with exclamation points '!' and print the speech."
   ]
  },
  {
   "cell_type": "markdown",
   "metadata": {},
   "source": [
    "## Dictionaries\n",
    "The basic data container in Python is a list. A `list` can hold a variety of data types. Once a `list` exists, it can be appended, have elements deleted, and be transformed into `arrays` or `tuples`. Of course, there are more sophisicated ways of storing/accessing/processing data in Python. Let's look at two: `dictionaries` and `dataframes`. Content below is generously sampled from http://openbookproject.net/thinkcs/python/english3e/dictionaries.html.\n",
    "Dictionaries are lists of values that are indexed by `keys`. In other languages, these dictionaries are often referred to associative arrays because it is a way to associate `keys` with values. Examples of using dictionaries:\n",
    "* English to Spainish dictionary"
   ]
  },
  {
   "cell_type": "code",
   "execution_count": null,
   "metadata": {},
   "outputs": [],
   "source": [
    "entosp = {\"one\":\"uno\",\"two\":\"dos\",\"three\":\"tres\"} # `key:value` elements\n",
    "entosp[\"one\"]"
   ]
  },
  {
   "cell_type": "markdown",
   "metadata": {},
   "source": [
    "* Inventory of supplies"
   ]
  },
  {
   "cell_type": "code",
   "execution_count": null,
   "metadata": {},
   "outputs": [],
   "source": [
    "office = {\"highlighters\":200,\"pencils\":300,\"pens\":500}\n",
    "office['pens']"
   ]
  },
  {
   "cell_type": "markdown",
   "metadata": {},
   "source": [
    "You could construct a dictionary for a encryption code:"
   ]
  },
  {
   "cell_type": "code",
   "execution_count": null,
   "metadata": {},
   "outputs": [],
   "source": [
    "codex = { \"a\": 1, \"b\": 2, \"c\": 3, \"d\": 4, \"e\": 5, \"f\": 6, \"g\": 7, \"h\": 8, \"i\": 9, \"j\": 10,\"k\": 11,\"l\": 12,\"m\": 13,\"n\": 14,\n",
    "         \"o\": 15,\"p\": 16,\"q\": 17,\"r\": 18,\"s\": 19,\"t\": 20,\"u\": 21,\"v\": 22,\"w\": 23,\"x\": 24,\"y\": 25}\n",
    "print(codex)\n",
    "print(codex[\"g\"])"
   ]
  },
  {
   "cell_type": "markdown",
   "metadata": {},
   "source": [
    "You can add new keys after the initial definiton:"
   ]
  },
  {
   "cell_type": "code",
   "execution_count": null,
   "metadata": {},
   "outputs": [],
   "source": [
    "codex[\"z\"]=26\n",
    "print(codex)"
   ]
  },
  {
   "cell_type": "markdown",
   "metadata": {},
   "source": [
    "You can update the values in the dictionary"
   ]
  },
  {
   "cell_type": "code",
   "execution_count": null,
   "metadata": {},
   "outputs": [],
   "source": [
    "office[\"pens\"]+=200\n",
    "print(office)"
   ]
  },
  {
   "cell_type": "markdown",
   "metadata": {},
   "source": [
    "You can find out how many `key:values` pairs a dictionary has"
   ]
  },
  {
   "cell_type": "code",
   "execution_count": null,
   "metadata": {},
   "outputs": [],
   "source": [
    "len(codex)"
   ]
  },
  {
   "cell_type": "markdown",
   "metadata": {},
   "source": [
    "### Dictionary Methods\n",
    "Dictionaries are a type of class in Python, and classes have functions associated with them called `methods`. Methods allow you to perform operations on and with the dictionary. \n",
    "You can always get the keys and the values from any dictionary, using the methods `keys` and `values`"
   ]
  },
  {
   "cell_type": "code",
   "execution_count": null,
   "metadata": {},
   "outputs": [],
   "source": [
    "print(office.values())\n",
    "print(office.keys())\n",
    "print(list(office.values()))"
   ]
  },
  {
   "cell_type": "markdown",
   "metadata": {},
   "source": [
    "You can run over all the keys to process the values or run through the values explicitly."
   ]
  },
  {
   "cell_type": "code",
   "execution_count": null,
   "metadata": {},
   "outputs": [],
   "source": [
    "print(\"Let's count in Spanish\")\n",
    "for k in entosp.keys():   # The order of the k's is not defined\n",
    "   print(entosp[k])\n"
   ]
  },
  {
   "cell_type": "code",
   "execution_count": null,
   "metadata": {},
   "outputs": [],
   "source": [
    "print(\"Let's look at the code\")\n",
    "for k in codex:   # The order of the k's is defined\n",
    "   print(k,\"oops\") # "
   ]
  },
  {
   "cell_type": "markdown",
   "metadata": {},
   "source": [
    "The method `items` can be used to iterate over the keys and values or to grab both the keys and the values."
   ]
  },
  {
   "cell_type": "code",
   "execution_count": null,
   "metadata": {},
   "outputs": [],
   "source": [
    "list(office.items())"
   ]
  },
  {
   "cell_type": "code",
   "execution_count": null,
   "metadata": {},
   "outputs": [],
   "source": [
    "for (k,v) in codex.items():\n",
    "    print(k, \"=\", v)"
   ]
  },
  {
   "cell_type": "markdown",
   "metadata": {},
   "source": [
    "## Sets\n",
    "Sets are much like `tuples`. A `set` is a collection which is unordered and unindexed. In Python, sets are written with curly brackets. Once sets are created, they may not be changed or accessed directly, but you may run through them in a `for` statement. A set is useful because Python has methods that allow you to perform set theory operations on this datatype."
   ]
  },
  {
   "cell_type": "code",
   "execution_count": null,
   "metadata": {},
   "outputs": [],
   "source": [
    "thisset = {\"apple\", \"banana\", \"cherry\"}\n",
    "print(thisset)"
   ]
  },
  {
   "cell_type": "code",
   "execution_count": null,
   "metadata": {},
   "outputs": [],
   "source": [
    "thisset = {\"apple\", \"banana\", \"cherry\"}\n",
    "for x in thisset:\n",
    "  print(x)"
   ]
  },
  {
   "cell_type": "code",
   "execution_count": null,
   "metadata": {},
   "outputs": [],
   "source": [
    "thisset = {\"apple\", \"banana\", \"cherry\"}\n",
    "print(\"banana\" in thisset)"
   ]
  },
  {
   "cell_type": "code",
   "execution_count": null,
   "metadata": {},
   "outputs": [],
   "source": [
    "thisset = {\"apple\", \"banana\", \"cherry\"}\n",
    "thisset.add(\"orange\")\n",
    "#thisset.append(\"kiwi\")\n",
    "print(thisset)"
   ]
  },
  {
   "cell_type": "code",
   "execution_count": null,
   "metadata": {},
   "outputs": [],
   "source": [
    "thisset2 = {\"apple\", \"banana\", \"cherry\"}\n",
    "thisset2.update({\"orange\", \"mango\", \"grapes\"})\n",
    "print(thisset2)"
   ]
  },
  {
   "cell_type": "markdown",
   "metadata": {},
   "source": [
    "Let's try some of the set operations like intersection, difference, and union"
   ]
  },
  {
   "cell_type": "code",
   "execution_count": null,
   "metadata": {},
   "outputs": [],
   "source": [
    "thisset.intersection(thisset2)"
   ]
  },
  {
   "cell_type": "code",
   "execution_count": null,
   "metadata": {},
   "outputs": [],
   "source": [
    "thisset.difference(thisset2)"
   ]
  },
  {
   "cell_type": "code",
   "execution_count": null,
   "metadata": {},
   "outputs": [],
   "source": [
    "thisset.union(thisset2)"
   ]
  },
  {
   "cell_type": "code",
   "execution_count": null,
   "metadata": {},
   "outputs": [],
   "source": [
    "thisset[1]"
   ]
  },
  {
   "cell_type": "code",
   "execution_count": null,
   "metadata": {},
   "outputs": [],
   "source": []
  },
  {
   "cell_type": "markdown",
   "metadata": {},
   "source": [
    "# Exercise: Simple Harmonic Motion Lab Data\n",
    "Assume you've just completed a simple harmonic motion lab measuring both pendulums and spring systems. The data has been organized for analysis using dictionaries."
   ]
  },
  {
   "cell_type": "code",
   "execution_count": 9,
   "metadata": {},
   "outputs": [],
   "source": [
    "import numpy as np\n",
    "\n",
    "# Simple Harmonic Motion Lab - organized experimental data\n",
    "lab_data = {\n",
    "    \"pendulum\": {\n",
    "        \"lengths\": [0.25, 0.50, 0.75, 1.00, 1.25],  # meters\n",
    "        \"periods\": [1.0, 1.42, 1.74, 2.01, 2.24],   # seconds\n",
    "        \"setup_status\": \"complete\"\n",
    "    },\n",
    "    \"spring_system\": {\n",
    "        \"masses\": np.array([0.1, 0.2, 0.3, 0.4, 0.5]),      # kg\n",
    "        \"periods\": np.array([0.63, 0.89, 1.09, 1.26, 1.41]), # seconds  \n",
    "        \"spring_constant\": 25.0,  # N/m (theoretical)\n",
    "        \"setup_status\": \"complete\"\n",
    "    },\n",
    "    \"lab_info\": {\n",
    "        \"date\": \"2025-09-15\",\n",
    "        \"temperature\": 22.5,  # Celsius\n",
    "        \"group_members\": 4,\n",
    "        \"lab_complete\": True\n",
    "    }\n",
    "}\n",
    "\n",
    "g_assumed = 9.81  # m/s^2"
   ]
  },
  {
   "cell_type": "markdown",
   "metadata": {},
   "source": [
    "**Questions**\n",
    "1. Extract the values of the masses used in the spring experiment. Extract the periods measured in the spring experiment. Calculate the spring constants from the data. Create a new field `exp_spring_constant` in the dictionary. What is the percent error of the average calculated spring constant given the theoretical spring constant?\n",
    "2. How many pendulum lengths were used in the pendulum experiment? Find the longest pendulum length used. What was the period of the longest pendulum?\n",
    "3. Write a summary statement including the completion date, temperature, and number of group members using an f string.\n",
    "   "
   ]
  },
  {
   "cell_type": "code",
   "execution_count": null,
   "metadata": {},
   "outputs": [],
   "source": []
  }
 ],
 "metadata": {
  "kernelspec": {
   "display_name": "Python 3 (ipykernel)",
   "language": "python",
   "name": "python3"
  },
  "language_info": {
   "codemirror_mode": {
    "name": "ipython",
    "version": 3
   },
   "file_extension": ".py",
   "mimetype": "text/x-python",
   "name": "python",
   "nbconvert_exporter": "python",
   "pygments_lexer": "ipython3",
   "version": "3.12.7"
  }
 },
 "nbformat": 4,
 "nbformat_minor": 4
}
