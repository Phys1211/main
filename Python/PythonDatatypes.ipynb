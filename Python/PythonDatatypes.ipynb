{
 "cells": [
  {
   "cell_type": "markdown",
   "metadata": {},
   "source": [
    "# Data Types\n",
    "The basic data types in python include types that contain numbers, *text*, **sequences**, and boolean. Many of these data types have *methods* associated with them. Methods are functions associated with certain classes, like data types. Date types often use methods with the syntax\n",
    "```python\n",
    "varname.method(<input arguments>)\n",
    "```\n",
    "where `method` returns an altered `varname`, but does not always edit the original `varname` directly\n",
    "## Numeric\n",
    "Python has three data types for numbers."
   ]
  },
  {
   "cell_type": "code",
   "execution_count": 60,
   "metadata": {},
   "outputs": [
    {
     "name": "stdout",
     "output_type": "stream",
     "text": [
      "<class 'float'>\n",
      "<class 'float'>\n",
      "<class 'complex'>\n",
      "84.67243510506798\n"
     ]
    }
   ],
   "source": [
    "x = 137.\n",
    "y = 1.618\n",
    "z = 3+5j\n",
    "print(type(x))\n",
    "print(type(y))\n",
    "print(type(z))\n",
    "print(x/y)"
   ]
  },
  {
   "cell_type": "markdown",
   "metadata": {},
   "source": [
    "Notice that Python automatically recognizes the data type for each type of number. There is no need to explicitly specify it."
   ]
  },
  {
   "cell_type": "markdown",
   "metadata": {},
   "source": [
    "## Booleans\n",
    "Booleans are essential for `if`, `for`, and `while` loops. These variables take 1 of two values: True or False."
   ]
  },
  {
   "cell_type": "code",
   "execution_count": 66,
   "metadata": {},
   "outputs": [
    {
     "data": {
      "text/plain": [
       "0"
      ]
     },
     "execution_count": 66,
     "metadata": {},
     "output_type": "execute_result"
    }
   ],
   "source": [
    "int(1>3)"
   ]
  },
  {
   "cell_type": "code",
   "execution_count": 68,
   "metadata": {
    "scrolled": true
   },
   "outputs": [
    {
     "name": "stdout",
     "output_type": "stream",
     "text": [
      "3\n"
     ]
    },
    {
     "data": {
      "text/plain": [
       "0"
      ]
     },
     "execution_count": 68,
     "metadata": {},
     "output_type": "execute_result"
    }
   ],
   "source": [
    "print((3 == 3) + 2)   # Is five equal 5 to the result of 3 + 2?\n",
    "int(5 == 6)"
   ]
  },
  {
   "cell_type": "code",
   "execution_count": 76,
   "metadata": {},
   "outputs": [
    {
     "data": {
      "text/plain": [
       "True"
      ]
     },
     "execution_count": 76,
     "metadata": {},
     "output_type": "execute_result"
    }
   ],
   "source": [
    "j = \"hel\"\n",
    "j + \"lo\" == \"hello\""
   ]
  },
  {
   "cell_type": "code",
   "execution_count": 82,
   "metadata": {},
   "outputs": [
    {
     "data": {
      "text/plain": [
       "612"
      ]
     },
     "execution_count": 82,
     "metadata": {},
     "output_type": "execute_result"
    }
   ],
   "source": [
    "x=68\n",
    "x*9"
   ]
  },
  {
   "cell_type": "markdown",
   "metadata": {},
   "source": [
    "### Arrays\n",
    "Arrays are a datatype found in `numpy`; therefore, you must always import `numpy` **before** using them. Arrays in Python are:\n",
    "1. fixed in size\n",
    "1. all elements must be of the same type\n",
    "1. multi-dimensional\n",
    "\n",
    "The *array* command is stored in the package _numpy_. Arrays can always be used in arithmetic operations, and they store data more efficiently than lists, so when storing lots of data, use arrays."
   ]
  },
  {
   "cell_type": "code",
   "execution_count": 86,
   "metadata": {},
   "outputs": [
    {
     "name": "stdout",
     "output_type": "stream",
     "text": [
      "[[11 12 13 14 15]\n",
      " [16 17 18 19 20]\n",
      " [21 22 23 24 25]\n",
      " [26 27 28 29 30]\n",
      " [31 32 33 34 35]]\n"
     ]
    }
   ],
   "source": [
    "from numpy import array\n",
    "a = array([[11,12,13,14,15],[16,17,18,19,20],[21,22,23,24,25],[26,27,28,29,30],[31,32,33,34,35]])\n",
    "print(a)"
   ]
  },
  {
   "cell_type": "markdown",
   "metadata": {},
   "source": [
    "![python indexing](figures/pythonarray.jpg)"
   ]
  },
  {
   "cell_type": "markdown",
   "metadata": {},
   "source": [
    "You can slice lists and arrays with a colon **:**\n",
    "\n",
    "- a[m:n] = subset of *a* starting at index *m* up to but not including *n*\n",
    "- a[m:n,p:q] = subset of a 2-D array *a* starting in row *m* and column *p* up to but not including row *n* and column *q* \n",
    "- a[m:n:step,p:q:step]  = subset of array *a* choosing an element at each step\n",
    "\n",
    "Omitting numbers before colon means start at the beginning and after the colon means go to end"
   ]
  },
  {
   "cell_type": "code",
   "execution_count": 90,
   "metadata": {},
   "outputs": [
    {
     "data": {
      "text/plain": [
       "12"
      ]
     },
     "execution_count": 90,
     "metadata": {},
     "output_type": "execute_result"
    }
   ],
   "source": [
    "a[0,1]"
   ]
  },
  {
   "cell_type": "code",
   "execution_count": 94,
   "metadata": {},
   "outputs": [
    {
     "data": {
      "text/plain": [
       "array([[18, 19],\n",
       "       [23, 24]])"
      ]
     },
     "execution_count": 94,
     "metadata": {},
     "output_type": "execute_result"
    }
   ],
   "source": [
    "a[1:3,2:4]"
   ]
  },
  {
   "cell_type": "code",
   "execution_count": 100,
   "metadata": {},
   "outputs": [
    {
     "data": {
      "text/plain": [
       "array([[11, 13, 15],\n",
       "       [21, 23, 25],\n",
       "       [31, 33, 35]])"
      ]
     },
     "execution_count": 100,
     "metadata": {},
     "output_type": "execute_result"
    }
   ],
   "source": [
    "a[::2,::2]"
   ]
  },
  {
   "cell_type": "markdown",
   "metadata": {},
   "source": [
    "### Useful Functions\n",
    "Some functions in *numpy* help creating and importing arrays. You may also turn lists into arrays."
   ]
  },
  {
   "cell_type": "code",
   "execution_count": 102,
   "metadata": {},
   "outputs": [
    {
     "name": "stdout",
     "output_type": "stream",
     "text": [
      "[[0 0 0]\n",
      " [0 0 0]\n",
      " [0 0 0]]\n",
      "[[1. 1. 1.]\n",
      " [1. 1. 1.]\n",
      " [1. 1. 1.]]\n"
     ]
    }
   ],
   "source": [
    "import numpy as np\n",
    "A=np.zeros([3,3],int)\n",
    "B=np.ones([3,3],float)\n",
    "print(A)\n",
    "print(B)"
   ]
  },
  {
   "cell_type": "code",
   "execution_count": 104,
   "metadata": {},
   "outputs": [
    {
     "name": "stdout",
     "output_type": "stream",
     "text": [
      "[3, 5, 1, 3, 5, 6]\n"
     ]
    }
   ],
   "source": [
    "list1 = [3,5,1,3,5,6]\n",
    "print(list1)"
   ]
  },
  {
   "cell_type": "code",
   "execution_count": 106,
   "metadata": {},
   "outputs": [
    {
     "data": {
      "text/plain": [
       "array([3., 5., 1., 3., 5., 6.])"
      ]
     },
     "execution_count": 106,
     "metadata": {},
     "output_type": "execute_result"
    }
   ],
   "source": [
    "np.array(list1,float)"
   ]
  },
  {
   "cell_type": "markdown",
   "metadata": {},
   "source": [
    "Wait a minute! Are you saying I can only get 1D arrays from lists? Well, no. Let's use **lists of lists**"
   ]
  },
  {
   "cell_type": "code",
   "execution_count": 116,
   "metadata": {},
   "outputs": [
    {
     "name": "stdout",
     "output_type": "stream",
     "text": [
      "[[1, 4, 8], [3, 4, 9], [-1, 4, 2], [1, 4, 8], [3, 4, 9], [-1, 4, 2], [1, 4, 8], [3, 4, 9], [-1, 4, 2], [1, 4, 8], [3, 4, 9], [-1, 4, 2]]\n"
     ]
    },
    {
     "data": {
      "text/plain": [
       "9"
      ]
     },
     "execution_count": 116,
     "metadata": {},
     "output_type": "execute_result"
    }
   ],
   "source": [
    "list2 = [[1,4,8],[3,4,9],[-1,4,2]]\n",
    "print(4*list2)\n",
    "list2[1][2]"
   ]
  },
  {
   "cell_type": "code",
   "execution_count": 120,
   "metadata": {},
   "outputs": [
    {
     "name": "stdout",
     "output_type": "stream",
     "text": [
      "[[ 3 12 24]\n",
      " [ 9 12 27]\n",
      " [-3 12  6]]\n"
     ]
    }
   ],
   "source": [
    "newarray = np.array(list2)\n",
    "print(3*newarray)"
   ]
  },
  {
   "cell_type": "markdown",
   "metadata": {},
   "source": [
    "You can load data from files **fairly** easily with *loadtxt*. Documentation on *dtype* and the notation used below is available at https://docs.scipy.org/doc/numpy-1.15.0/reference/generated/numpy.dtype.html"
   ]
  },
  {
   "cell_type": "code",
   "execution_count": 122,
   "metadata": {
    "scrolled": true
   },
   "outputs": [
    {
     "name": "stdout",
     "output_type": "stream",
     "text": [
      "[(1850, -0.17) (1851, -0.09) (1852, -0.1 ) (1853, -0.12) (1854, -0.11)\n",
      " (1855, -0.12) (1856, -0.25) (1857, -0.28) (1858, -0.21) (1859, -0.09)\n",
      " (1860, -0.23) (1861, -0.25) (1862, -0.3 ) (1863, -0.15) (1864, -0.19)\n",
      " (1865, -0.13) (1866, -0.1 ) (1867, -0.17) (1868, -0.14) (1869, -0.11)\n",
      " (1870, -0.17) (1871, -0.17) (1872, -0.17) (1873, -0.19) (1874, -0.21)\n",
      " (1875, -0.2 ) (1876, -0.22) (1877,  0.05) (1878,  0.06) (1879, -0.12)\n",
      " (1880, -0.17) (1881, -0.13) (1882, -0.13) (1883, -0.22) (1884, -0.31)\n",
      " (1885, -0.32) (1886, -0.26) (1887, -0.31) (1888, -0.17) (1889, -0.08)\n",
      " (1890, -0.28) (1891, -0.19) (1892, -0.25) (1893, -0.32) (1894, -0.23)\n",
      " (1895, -0.19) (1896, -0.06) (1897, -0.07) (1898, -0.23) (1899, -0.16)\n",
      " (1900, -0.08) (1901, -0.13) (1902, -0.23) (1903, -0.32) (1904, -0.43)\n",
      " (1905, -0.24) (1906, -0.21) (1907, -0.34) (1908, -0.4 ) (1909, -0.44)\n",
      " (1910, -0.4 ) (1911, -0.41) (1912, -0.33) (1913, -0.33) (1914, -0.14)\n",
      " (1915, -0.1 ) (1916, -0.31) (1917, -0.44) (1918, -0.29) (1919, -0.24)\n",
      " (1920, -0.25) (1921, -0.18) (1922, -0.25) (1923, -0.24) (1924, -0.23)\n",
      " (1925, -0.2 ) (1926, -0.09) (1927, -0.18) (1928, -0.17) (1929, -0.31)\n",
      " (1930, -0.11) (1931, -0.06) (1932, -0.12) (1933, -0.25) (1934, -0.11)\n",
      " (1935, -0.16) (1936, -0.12) (1937,  0.01) (1938,  0.01) (1939,  0.01)\n",
      " (1940,  0.15) (1941,  0.22) (1942,  0.09) (1943,  0.1 ) (1944,  0.23)\n",
      " (1945,  0.14) (1946, -0.04) (1947, -0.01) (1948, -0.06) (1949, -0.06)\n",
      " (1950, -0.13) (1951, -0.01) (1952,  0.05) (1953,  0.13) (1954, -0.07)\n",
      " (1955, -0.13) (1956, -0.17) (1957,  0.06) (1958,  0.09) (1959,  0.07)\n",
      " (1960,  0.03) (1961,  0.07) (1962,  0.05) (1963,  0.08) (1964, -0.15)\n",
      " (1965, -0.06) (1966, -0.02) (1967,  0.02) (1968, -0.06) (1969,  0.1 )\n",
      " (1970,  0.06) (1971, -0.05) (1972,  0.03) (1973,  0.2 ) (1974, -0.05)\n",
      " (1975,  0.02) (1976, -0.03) (1977,  0.21) (1978,  0.11) (1979,  0.22)\n",
      " (1980,  0.29) (1981,  0.35) (1982,  0.19) (1983,  0.35) (1984,  0.2 )\n",
      " (1985,  0.17) (1986,  0.22) (1987,  0.34) (1988,  0.42) (1989,  0.3 )\n",
      " (1990,  0.45) (1991,  0.42) (1992,  0.24) (1993,  0.27) (1994,  0.32)\n",
      " (1995,  0.48) (1996,  0.36) (1997,  0.5 ) (1998,  0.63) (1999,  0.42)\n",
      " (2000,  0.43) (2001,  0.55) (2002,  0.62) (2003,  0.63) (2004,  0.55)\n",
      " (2005,  0.7 ) (2006,  0.66) (2007,  0.66) (2008,  0.55) (2009,  0.66)\n",
      " (2010,  0.73) (2011,  0.63) (2012,  0.66) (2013,  0.68) (2014,  0.77)\n",
      " (2015,  0.92) (2016,  1.03) (2017,  0.95) (2018,  0.86) (2019,  0.98)\n",
      " (2020,  1.01) (2021,  0.86) (2022,  0.91) (2023,  1.18)]\n"
     ]
    }
   ],
   "source": [
    "test=np.loadtxt(\"data/globaltemps.txt\", dtype={'names': ('year','temp'),\n",
    "...                      'formats': ('i4', 'f4')})\n",
    "print(test)"
   ]
  },
  {
   "cell_type": "code",
   "execution_count": 126,
   "metadata": {},
   "outputs": [
    {
     "name": "stdout",
     "output_type": "stream",
     "text": [
      "[False False False False False False False False False False False False\n",
      " False False False False False False False False False False False False\n",
      " False False False False False False False False False False False False\n",
      " False False False False False False False False False False False False\n",
      " False False False False False False False False False False False False\n",
      " False False False False False False False False False False False False\n",
      " False False False False False False False False False False False False\n",
      " False False False False False False False False False False False False\n",
      " False False False False False False False False False False False False\n",
      " False False False False False False False False False False False False\n",
      " False False False False False False False False False False False False\n",
      " False False False False False False False False False False False False\n",
      " False False False False  True False False  True  True  True  True  True\n",
      "  True  True  True  True  True  True  True  True  True  True  True  True\n",
      "  True  True  True  True  True  True]\n",
      "[1998 2001 2002 2003 2004 2005 2006 2007 2008 2009 2010 2011 2012 2013\n",
      " 2014 2015 2016 2017 2018 2019 2020 2021 2022 2023]\n"
     ]
    }
   ],
   "source": [
    "id=test['temp']>0.5\n",
    "print(id)\n",
    "tp=test['year'][id]\n",
    "print(tp)"
   ]
  },
  {
   "cell_type": "code",
   "execution_count": 128,
   "metadata": {},
   "outputs": [
    {
     "data": {
      "text/plain": [
       "array([-0.17, -0.09, -0.1 , -0.12, -0.11, -0.12, -0.25, -0.28, -0.21,\n",
       "       -0.09, -0.23, -0.25, -0.3 , -0.15, -0.19, -0.13, -0.1 , -0.17,\n",
       "       -0.14, -0.11, -0.17, -0.17, -0.17, -0.19, -0.21, -0.2 , -0.22,\n",
       "        0.05,  0.06, -0.12, -0.17, -0.13, -0.13, -0.22, -0.31, -0.32,\n",
       "       -0.26, -0.31, -0.17, -0.08, -0.28, -0.19, -0.25, -0.32, -0.23,\n",
       "       -0.19, -0.06, -0.07, -0.23, -0.16, -0.08, -0.13, -0.23, -0.32,\n",
       "       -0.43, -0.24, -0.21, -0.34, -0.4 , -0.44, -0.4 , -0.41, -0.33,\n",
       "       -0.33, -0.14, -0.1 , -0.31, -0.44, -0.29, -0.24, -0.25, -0.18,\n",
       "       -0.25, -0.24, -0.23, -0.2 , -0.09, -0.18, -0.17, -0.31, -0.11,\n",
       "       -0.06, -0.12, -0.25, -0.11, -0.16, -0.12,  0.01,  0.01,  0.01,\n",
       "        0.15,  0.22,  0.09,  0.1 ,  0.23,  0.14, -0.04, -0.01, -0.06,\n",
       "       -0.06, -0.13, -0.01,  0.05,  0.13, -0.07, -0.13, -0.17,  0.06,\n",
       "        0.09,  0.07,  0.03,  0.07,  0.05,  0.08, -0.15, -0.06, -0.02,\n",
       "        0.02, -0.06,  0.1 ,  0.06, -0.05,  0.03,  0.2 , -0.05,  0.02,\n",
       "       -0.03,  0.21,  0.11,  0.22,  0.29,  0.35,  0.19,  0.35,  0.2 ,\n",
       "        0.17,  0.22,  0.34,  0.42,  0.3 ,  0.45,  0.42,  0.24,  0.27,\n",
       "        0.32,  0.48,  0.36,  0.5 ,  0.63,  0.42,  0.43,  0.55,  0.62,\n",
       "        0.63,  0.55,  0.7 ,  0.66,  0.66,  0.55,  0.66,  0.73,  0.63,\n",
       "        0.66,  0.68,  0.77,  0.92,  1.03,  0.95,  0.86,  0.98,  1.01,\n",
       "        0.86,  0.91,  1.18], dtype=float32)"
      ]
     },
     "execution_count": 128,
     "metadata": {},
     "output_type": "execute_result"
    }
   ],
   "source": [
    "test['temp']"
   ]
  },
  {
   "cell_type": "code",
   "execution_count": 130,
   "metadata": {},
   "outputs": [
    {
     "name": "stdout",
     "output_type": "stream",
     "text": [
      "[(1850, -0.17000000178813934), (1851, -0.09000000357627869), (1852, -0.10000000149011612), (1853, -0.11999999731779099), (1854, -0.10999999940395355), (1855, -0.11999999731779099), (1856, -0.25), (1857, -0.2800000011920929), (1858, -0.20999999344348907), (1859, -0.09000000357627869), (1860, -0.23000000417232513), (1861, -0.25), (1862, -0.30000001192092896), (1863, -0.15000000596046448), (1864, -0.1899999976158142), (1865, -0.12999999523162842), (1866, -0.10000000149011612), (1867, -0.17000000178813934), (1868, -0.14000000059604645), (1869, -0.10999999940395355), (1870, -0.17000000178813934), (1871, -0.17000000178813934), (1872, -0.17000000178813934), (1873, -0.1899999976158142), (1874, -0.20999999344348907), (1875, -0.20000000298023224), (1876, -0.2199999988079071), (1877, 0.05000000074505806), (1878, 0.05999999865889549), (1879, -0.11999999731779099), (1880, -0.17000000178813934), (1881, -0.12999999523162842), (1882, -0.12999999523162842), (1883, -0.2199999988079071), (1884, -0.3100000023841858), (1885, -0.3199999928474426), (1886, -0.25999999046325684), (1887, -0.3100000023841858), (1888, -0.17000000178813934), (1889, -0.07999999821186066), (1890, -0.2800000011920929), (1891, -0.1899999976158142), (1892, -0.25), (1893, -0.3199999928474426), (1894, -0.23000000417232513), (1895, -0.1899999976158142), (1896, -0.05999999865889549), (1897, -0.07000000029802322), (1898, -0.23000000417232513), (1899, -0.1599999964237213), (1900, -0.07999999821186066), (1901, -0.12999999523162842), (1902, -0.23000000417232513), (1903, -0.3199999928474426), (1904, -0.4300000071525574), (1905, -0.23999999463558197), (1906, -0.20999999344348907), (1907, -0.3400000035762787), (1908, -0.4000000059604645), (1909, -0.4399999976158142), (1910, -0.4000000059604645), (1911, -0.4099999964237213), (1912, -0.33000001311302185), (1913, -0.33000001311302185), (1914, -0.14000000059604645), (1915, -0.10000000149011612), (1916, -0.3100000023841858), (1917, -0.4399999976158142), (1918, -0.28999999165534973), (1919, -0.23999999463558197), (1920, -0.25), (1921, -0.18000000715255737), (1922, -0.25), (1923, -0.23999999463558197), (1924, -0.23000000417232513), (1925, -0.20000000298023224), (1926, -0.09000000357627869), (1927, -0.18000000715255737), (1928, -0.17000000178813934), (1929, -0.3100000023841858), (1930, -0.10999999940395355), (1931, -0.05999999865889549), (1932, -0.11999999731779099), (1933, -0.25), (1934, -0.10999999940395355), (1935, -0.1599999964237213), (1936, -0.11999999731779099), (1937, 0.009999999776482582), (1938, 0.009999999776482582), (1939, 0.009999999776482582), (1940, 0.15000000596046448), (1941, 0.2199999988079071), (1942, 0.09000000357627869), (1943, 0.10000000149011612), (1944, 0.23000000417232513), (1945, 0.14000000059604645), (1946, -0.03999999910593033), (1947, -0.009999999776482582), (1948, -0.05999999865889549), (1949, -0.05999999865889549), (1950, -0.12999999523162842), (1951, -0.009999999776482582), (1952, 0.05000000074505806), (1953, 0.12999999523162842), (1954, -0.07000000029802322), (1955, -0.12999999523162842), (1956, -0.17000000178813934), (1957, 0.05999999865889549), (1958, 0.09000000357627869), (1959, 0.07000000029802322), (1960, 0.029999999329447746), (1961, 0.07000000029802322), (1962, 0.05000000074505806), (1963, 0.07999999821186066), (1964, -0.15000000596046448), (1965, -0.05999999865889549), (1966, -0.019999999552965164), (1967, 0.019999999552965164), (1968, -0.05999999865889549), (1969, 0.10000000149011612), (1970, 0.05999999865889549), (1971, -0.05000000074505806), (1972, 0.029999999329447746), (1973, 0.20000000298023224), (1974, -0.05000000074505806), (1975, 0.019999999552965164), (1976, -0.029999999329447746), (1977, 0.20999999344348907), (1978, 0.10999999940395355), (1979, 0.2199999988079071), (1980, 0.28999999165534973), (1981, 0.3499999940395355), (1982, 0.1899999976158142), (1983, 0.3499999940395355), (1984, 0.20000000298023224), (1985, 0.17000000178813934), (1986, 0.2199999988079071), (1987, 0.3400000035762787), (1988, 0.41999998688697815), (1989, 0.30000001192092896), (1990, 0.44999998807907104), (1991, 0.41999998688697815), (1992, 0.23999999463558197), (1993, 0.27000001072883606), (1994, 0.3199999928474426), (1995, 0.47999998927116394), (1996, 0.36000001430511475), (1997, 0.5), (1998, 0.6299999952316284), (1999, 0.41999998688697815), (2000, 0.4300000071525574), (2001, 0.550000011920929), (2002, 0.6200000047683716), (2003, 0.6299999952316284), (2004, 0.550000011920929), (2005, 0.699999988079071), (2006, 0.6600000262260437), (2007, 0.6600000262260437), (2008, 0.550000011920929), (2009, 0.6600000262260437), (2010, 0.7300000190734863), (2011, 0.6299999952316284), (2012, 0.6600000262260437), (2013, 0.6800000071525574), (2014, 0.7699999809265137), (2015, 0.9200000166893005), (2016, 1.0299999713897705), (2017, 0.949999988079071), (2018, 0.8600000143051147), (2019, 0.9800000190734863), (2020, 1.0099999904632568), (2021, 0.8600000143051147), (2022, 0.9100000262260437), (2023, 1.1799999475479126)]\n",
      "[(1850, -0.17000000178813934), (1851, -0.09000000357627869), (1852, -0.10000000149011612), (1853, -0.11999999731779099), (1854, -0.10999999940395355), (1855, -0.11999999731779099), (1856, -0.25), (1857, -0.2800000011920929), (1858, -0.20999999344348907), (1859, -0.09000000357627869), (1860, -0.23000000417232513), (1861, -0.25), (1862, -0.30000001192092896), (1863, -0.15000000596046448), (1864, -0.1899999976158142), (1865, -0.12999999523162842), (1866, -0.10000000149011612), (1867, -0.17000000178813934), (1868, -0.14000000059604645), (1869, -0.10999999940395355), (1870, -0.17000000178813934), (1871, -0.17000000178813934), (1872, -0.17000000178813934), (1873, -0.1899999976158142), (1874, -0.20999999344348907), (1875, -0.20000000298023224), (1876, -0.2199999988079071), (1877, 0.05000000074505806), (1878, 0.05999999865889549), (1879, -0.11999999731779099), (1880, -0.17000000178813934), (1881, -0.12999999523162842), (1882, -0.12999999523162842), (1883, -0.2199999988079071), (1884, -0.3100000023841858), (1885, -0.3199999928474426), (1886, -0.25999999046325684), (1887, -0.3100000023841858), (1888, -0.17000000178813934), (1889, -0.07999999821186066), (1890, -0.2800000011920929), (1891, -0.1899999976158142), (1892, -0.25), (1893, -0.3199999928474426), (1894, -0.23000000417232513), (1895, -0.1899999976158142), (1896, -0.05999999865889549), (1897, -0.07000000029802322), (1898, -0.23000000417232513), (1899, -0.1599999964237213), (1900, -0.07999999821186066), (1901, -0.12999999523162842), (1902, -0.23000000417232513), (1903, -0.3199999928474426), (1904, -0.4300000071525574), (1905, -0.23999999463558197), (1906, -0.20999999344348907), (1907, -0.3400000035762787), (1908, -0.4000000059604645), (1909, -0.4399999976158142), (1910, -0.4000000059604645), (1911, -0.4099999964237213), (1912, -0.33000001311302185), (1913, -0.33000001311302185), (1914, -0.14000000059604645), (1915, -0.10000000149011612), (1916, -0.3100000023841858), (1917, -0.4399999976158142), (1918, -0.28999999165534973), (1919, -0.23999999463558197), (1920, -0.25), (1921, -0.18000000715255737), (1922, -0.25), (1923, -0.23999999463558197), (1924, -0.23000000417232513), (1925, -0.20000000298023224), (1926, -0.09000000357627869), (1927, -0.18000000715255737), (1928, -0.17000000178813934), (1929, -0.3100000023841858), (1930, -0.10999999940395355), (1931, -0.05999999865889549), (1932, -0.11999999731779099), (1933, -0.25), (1934, -0.10999999940395355), (1935, -0.1599999964237213), (1936, -0.11999999731779099), (1937, 0.009999999776482582), (1938, 0.009999999776482582), (1939, 0.009999999776482582), (1940, 0.15000000596046448), (1941, 0.2199999988079071), (1942, 0.09000000357627869), (1943, 0.10000000149011612), (1944, 0.23000000417232513), (1945, 0.14000000059604645), (1946, -0.03999999910593033), (1947, -0.009999999776482582), (1948, -0.05999999865889549), (1949, -0.05999999865889549), (1950, -0.12999999523162842), (1951, -0.009999999776482582), (1952, 0.05000000074505806), (1953, 0.12999999523162842), (1954, -0.07000000029802322), (1955, -0.12999999523162842), (1956, -0.17000000178813934), (1957, 0.05999999865889549), (1958, 0.09000000357627869), (1959, 0.07000000029802322), (1960, 0.029999999329447746), (1961, 0.07000000029802322), (1962, 0.05000000074505806), (1963, 0.07999999821186066), (1964, -0.15000000596046448), (1965, -0.05999999865889549), (1966, -0.019999999552965164), (1967, 0.019999999552965164), (1968, -0.05999999865889549), (1969, 0.10000000149011612), (1970, 0.05999999865889549), (1971, -0.05000000074505806), (1972, 0.029999999329447746), (1973, 0.20000000298023224), (1974, -0.05000000074505806), (1975, 0.019999999552965164), (1976, -0.029999999329447746), (1977, 0.20999999344348907), (1978, 0.10999999940395355), (1979, 0.2199999988079071), (1980, 0.28999999165534973), (1981, 0.3499999940395355), (1982, 0.1899999976158142), (1983, 0.3499999940395355), (1984, 0.20000000298023224), (1985, 0.17000000178813934), (1986, 0.2199999988079071), (1987, 0.3400000035762787), (1988, 0.41999998688697815), (1989, 0.30000001192092896), (1990, 0.44999998807907104), (1991, 0.41999998688697815), (1992, 0.23999999463558197), (1993, 0.27000001072883606), (1994, 0.3199999928474426), (1995, 0.47999998927116394), (1996, 0.36000001430511475), (1997, 0.5), (1998, 0.6299999952316284), (1999, 0.41999998688697815), (2000, 0.4300000071525574), (2001, 0.550000011920929), (2002, 0.6200000047683716), (2003, 0.6299999952316284), (2004, 0.550000011920929), (2005, 0.699999988079071), (2006, 0.6600000262260437), (2007, 0.6600000262260437), (2008, 0.550000011920929), (2009, 0.6600000262260437), (2010, 0.7300000190734863), (2011, 0.6299999952316284), (2012, 0.6600000262260437), (2013, 0.6800000071525574), (2014, 0.7699999809265137), (2015, 0.9200000166893005), (2016, 1.0299999713897705), (2017, 0.949999988079071), (2018, 0.8600000143051147), (2019, 0.9800000190734863), (2020, 1.0099999904632568), (2021, 0.8600000143051147), (2022, 0.9100000262260437), (2023, 1.1799999475479126)]\n"
     ]
    }
   ],
   "source": [
    "t = test.tolist()\n",
    "print(test.tolist()) # convert array to list\n",
    "print(t)"
   ]
  },
  {
   "cell_type": "markdown",
   "metadata": {},
   "source": [
    "## Sequences\n",
    "Sequences in Python include `lists`, `tuples` (`ranges`), and `strings`. Lists are a simple way of storing related data, much like arrays or tables in MATLAB. Tuples act much like lists, but are immutable, meaning once created they *cannot* be modified. Ranges refer to the built-in function `range` (and its many similar cousins: `arange`, `xrange`, etc). `range` is used to create a range of values. `strings` allow for text to be stored and manipulated.\n",
    "### Lists"
   ]
  },
  {
   "cell_type": "code",
   "execution_count": 132,
   "metadata": {},
   "outputs": [],
   "source": [
    "list1=['photon', 'W+ boson', 'W- boson', 'Z boson', 'gluon', 'graviton'];"
   ]
  },
  {
   "cell_type": "code",
   "execution_count": 144,
   "metadata": {},
   "outputs": [
    {
     "ename": "SyntaxError",
     "evalue": "invalid syntax (1307423452.py, line 1)",
     "output_type": "error",
     "traceback": [
      "\u001b[1;36m  Cell \u001b[1;32mIn[144], line 1\u001b[1;36m\u001b[0m\n\u001b[1;33m    notreal = .\u001b[0m\n\u001b[1;37m              ^\u001b[0m\n\u001b[1;31mSyntaxError\u001b[0m\u001b[1;31m:\u001b[0m invalid syntax\n"
     ]
    }
   ],
   "source": []
  },
  {
   "cell_type": "code",
   "execution_count": 142,
   "metadata": {},
   "outputs": [
    {
     "name": "stdout",
     "output_type": "stream",
     "text": [
      "graviton\n"
     ]
    }
   ],
   "source": [
    "list1.pop()\n",
    "print(notreal)"
   ]
  },
  {
   "cell_type": "code",
   "execution_count": 138,
   "metadata": {},
   "outputs": [
    {
     "data": {
      "text/plain": [
       "['photon', 'W+ boson', 'W- boson', 'Z boson', 'gluon']"
      ]
     },
     "execution_count": 138,
     "metadata": {},
     "output_type": "execute_result"
    }
   ],
   "source": [
    "list1"
   ]
  },
  {
   "cell_type": "code",
   "execution_count": 140,
   "metadata": {},
   "outputs": [
    {
     "name": "stdout",
     "output_type": "stream",
     "text": [
      "None\n",
      "['photon', 'W+ boson', 'W- boson', 'Z boson', 'gluon', 'graviton']\n"
     ]
    }
   ],
   "source": [
    "x = list1.append(notreal)\n",
    "print(x)\n",
    "print(list1)"
   ]
  },
  {
   "cell_type": "code",
   "execution_count": null,
   "metadata": {},
   "outputs": [],
   "source": [
    "print(list1[0:4])\n",
    "'photon' in list1"
   ]
  },
  {
   "cell_type": "markdown",
   "metadata": {},
   "source": [
    "### Tuples"
   ]
  },
  {
   "cell_type": "code",
   "execution_count": 146,
   "metadata": {},
   "outputs": [],
   "source": [
    "tuple1 = ('photon', 'W+ boson', 'W- boson', 'Z boson', 'gluon', 'graviton')"
   ]
  },
  {
   "cell_type": "code",
   "execution_count": 148,
   "metadata": {},
   "outputs": [
    {
     "data": {
      "text/plain": [
       "('Z boson', 'gluon')"
      ]
     },
     "execution_count": 148,
     "metadata": {},
     "output_type": "execute_result"
    }
   ],
   "source": [
    "tuple1[3:5]"
   ]
  },
  {
   "cell_type": "code",
   "execution_count": 150,
   "metadata": {},
   "outputs": [
    {
     "ename": "TypeError",
     "evalue": "'tuple' object does not support item assignment",
     "output_type": "error",
     "traceback": [
      "\u001b[1;31m---------------------------------------------------------------------------\u001b[0m",
      "\u001b[1;31mTypeError\u001b[0m                                 Traceback (most recent call last)",
      "Cell \u001b[1;32mIn[150], line 1\u001b[0m\n\u001b[1;32m----> 1\u001b[0m tuple1[\u001b[38;5;241m6\u001b[39m]\u001b[38;5;241m=\u001b[39m\u001b[38;5;124m'\u001b[39m\u001b[38;5;124mgamma\u001b[39m\u001b[38;5;124m'\u001b[39m\n",
      "\u001b[1;31mTypeError\u001b[0m: 'tuple' object does not support item assignment"
     ]
    }
   ],
   "source": [
    "tuple1[6]='gamma'"
   ]
  },
  {
   "cell_type": "code",
   "execution_count": 152,
   "metadata": {},
   "outputs": [
    {
     "name": "stdout",
     "output_type": "stream",
     "text": [
      "W- boson\n",
      "gluon\n"
     ]
    }
   ],
   "source": [
    "(em,weak1,weak2,weak3,strong,gravity)=tuple1\n",
    "print(weak2)\n",
    "print(strong)"
   ]
  },
  {
   "cell_type": "markdown",
   "metadata": {},
   "source": [
    "you often need to switch the values of two variables, tuples gives you an easy way:"
   ]
  },
  {
   "cell_type": "code",
   "execution_count": 154,
   "metadata": {},
   "outputs": [
    {
     "name": "stdout",
     "output_type": "stream",
     "text": [
      "3.1415\n",
      "switch\n"
     ]
    }
   ],
   "source": [
    "a='switch'\n",
    "b=3.1415\n",
    "(a,b)=(b,a)\n",
    "print(a)\n",
    "print(b)"
   ]
  },
  {
   "cell_type": "code",
   "execution_count": 156,
   "metadata": {},
   "outputs": [
    {
     "name": "stdout",
     "output_type": "stream",
     "text": [
      "photon\n",
      "W+ boson\n",
      "W- boson\n",
      "Z boson\n",
      "gluon\n",
      "graviton\n"
     ]
    }
   ],
   "source": [
    "for k in tuple1:\n",
    "    print(k)"
   ]
  },
  {
   "cell_type": "markdown",
   "metadata": {},
   "source": [
    "`range` is a type much like a `tuple` in that you specify the values at its creation and cannot/should not be altered after creation."
   ]
  },
  {
   "cell_type": "code",
   "execution_count": 158,
   "metadata": {},
   "outputs": [
    {
     "name": "stdout",
     "output_type": "stream",
     "text": [
      "range(0, 6)\n",
      "range(1, 19)\n",
      "13\n",
      "<class 'range'>\n"
     ]
    }
   ],
   "source": [
    "r1=range(6)\n",
    "r2=range(1,19)\n",
    "r3=range(1,44,4)\n",
    "print(r1)\n",
    "print(r2)\n",
    "print(r3[3])\n",
    "print(type(r3))"
   ]
  },
  {
   "cell_type": "markdown",
   "metadata": {},
   "source": [
    "### Strings\n",
    "str is the only data type used to contain text in Python"
   ]
  },
  {
   "cell_type": "code",
   "execution_count": 162,
   "metadata": {},
   "outputs": [
    {
     "name": "stdout",
     "output_type": "stream",
     "text": [
      "<class 'str'>\n",
      "<class 'str'>\n",
      "n\n",
      "Single\n",
      "There is no difference between characters and strings. There is no difference between characters and strings. \n"
     ]
    }
   ],
   "source": [
    "text1 = \"There is no difference between characters and strings. \"\n",
    "text2 = 'Single or double quotes give you the same thing'\n",
    "print(type(text1))\n",
    "print(type(text2))\n",
    "print(text1[9])\n",
    "print(text2[0:6])\n",
    "print(text1*2)"
   ]
  },
  {
   "cell_type": "markdown",
   "metadata": {},
   "source": [
    "`str` is quite the flexible data type in Python. Below are some examples of ways to use strings. Many more methods can be found at [string methods](https://www.programiz.com/python-programming/methods/string/join)"
   ]
  },
  {
   "cell_type": "code",
   "execution_count": 196,
   "metadata": {},
   "outputs": [
    {
     "name": "stdout",
     "output_type": "stream",
     "text": [
      "8\n",
      "10\n",
      "180\n",
      "we\n",
      "Four score and seven years ago our fathers brought forth on this continent, a new nation, conceived in Liberty, and dedicated to the proposition that all men are created equal. Now we are engaged in a great civil war, testing whether that nation, or any nation so conceived and dedicated, can long endure. We are met on a great battle-field of that war. We have come to dedicate a portion of that field, as a final resting place for those who here gave their lives that that nation might live. It is altogether fitting and proper that we should do this. But, in a larger sense, we can not dedicate -- we can not consecrate -- we can not hallow -- this ground. The brave men, living and dead, who struggled here, have consecrated it, far above our poor power to add or detract. The world will little note, nor long remember what we say here, but it can never forget what they did here. It is for us the living, rather, to be dedicated here to the unfinished work which they who fought here have thus far so nobly advanced. It is rather for us to be here dedicated to the great task remaining before us -- that from these honored dead we take increased devotion to that cause for which they gave the last full measure of devotion -- that we here highly resolve that these dead shall not have died in vain -- that this nation, under God, shall have a new birth of freedom -- and that government of the people, by the people, for the people, shall not perish from the earth.\n"
     ]
    }
   ],
   "source": [
    "gettysburg = \"Four score and seven years ago our fathers brought forth on this continent, a new nation, conceived in Liberty, and dedicated to the proposition that all men are created equal. Now we are engaged in a great civil war, testing whether that nation, or any nation so conceived and dedicated, can long endure. We are met on a great battle-field of that war. We have come to dedicate a portion of that field, as a final resting place for those who here gave their lives that that nation might live. It is altogether fitting and proper that we should do this. But, in a larger sense, we can not dedicate -- we can not consecrate -- we can not hallow -- this ground. The brave men, living and dead, who struggled here, have consecrated it, far above our poor power to add or detract. The world will little note, nor long remember what we say here, but it can never forget what they did here. It is for us the living, rather, to be dedicated here to the unfinished work which they who fought here have thus far so nobly advanced. It is rather for us to be here dedicated to the great task remaining before us -- that from these honored dead we take increased devotion to that cause for which they gave the last full measure of devotion -- that we here highly resolve that these dead shall not have died in vain -- that this nation, under God, shall have a new birth of freedom -- and that government of the people, by the people, for the people, shall not perish from the earth.\"\n",
    "substr= \" we \"\n",
    "print(gettysburg.count(substr)) # count 'we's in the address\n",
    "print(gettysburg.casefold().count(substr)) # counts we's regardless of capitalization\n",
    "print(gettysburg.find(substr))\n",
    "print(gettysburg[181:183])\n",
    "gettysburg.replace(\"Four \",\"NOPE \")\n",
    "print(gettysburg)"
   ]
  },
  {
   "cell_type": "markdown",
   "metadata": {},
   "source": [
    "## Dictionaries\n",
    "The basic data container in Python is a list. A `list` can hold a variety of data types. Once a `list` exists, it can be appended, have elements deleted, and be transformed into `arrays` or `tuples`. Of course, there are more sophisicated ways of storing/accessing/processing data in Python. Let's look at two: `dictionaries` and `dataframes`. Content below is generously sampled from http://openbookproject.net/thinkcs/python/english3e/dictionaries.html.\n",
    "Dictionaries are lists of values that are indexed by `keys`. In other languages, these dictionaries are often referred to associative arrays because it is a way to associate `keys` with values. Examples of using dictionaries:\n",
    "* English to Spainish dictionary"
   ]
  },
  {
   "cell_type": "code",
   "execution_count": null,
   "metadata": {},
   "outputs": [],
   "source": [
    "entosp = {\"one\":\"uno\",\"two\":\"dos\",\"three\":\"tres\"} # `key:value` elements\n",
    "entosp[\"one\"]"
   ]
  },
  {
   "cell_type": "markdown",
   "metadata": {},
   "source": [
    "* Inventory of supplies"
   ]
  },
  {
   "cell_type": "code",
   "execution_count": null,
   "metadata": {},
   "outputs": [],
   "source": [
    "office = {\"highlighters\":200,\"pencils\":300,\"pens\":500}\n",
    "office['pens']"
   ]
  },
  {
   "cell_type": "markdown",
   "metadata": {},
   "source": [
    "You could construct a dictionary for a encryption code:"
   ]
  },
  {
   "cell_type": "code",
   "execution_count": null,
   "metadata": {},
   "outputs": [],
   "source": [
    "codex = { \"a\": 1, \"b\": 2, \"c\": 3, \"d\": 4, \"e\": 5, \"f\": 6, \"g\": 7, \"h\": 8, \"i\": 9, \"j\": 10,\"k\": 11,\"l\": 12,\"m\": 13,\"n\": 14,\n",
    "         \"o\": 15,\"p\": 16,\"q\": 17,\"r\": 18,\"s\": 19,\"t\": 20,\"u\": 21,\"v\": 22,\"w\": 23,\"x\": 24,\"y\": 25}\n",
    "print(codex)\n",
    "print(codex[\"g\"])"
   ]
  },
  {
   "cell_type": "markdown",
   "metadata": {},
   "source": [
    "You can add new keys after the initial definiton:"
   ]
  },
  {
   "cell_type": "code",
   "execution_count": null,
   "metadata": {},
   "outputs": [],
   "source": [
    "codex[\"z\"]=26\n",
    "print(codex)"
   ]
  },
  {
   "cell_type": "markdown",
   "metadata": {},
   "source": [
    "You can update the values in the dictionary"
   ]
  },
  {
   "cell_type": "code",
   "execution_count": null,
   "metadata": {},
   "outputs": [],
   "source": [
    "office[\"pens\"]+=200\n",
    "print(office)"
   ]
  },
  {
   "cell_type": "markdown",
   "metadata": {},
   "source": [
    "You can find out how many `key:values` pairs a dictionary has"
   ]
  },
  {
   "cell_type": "code",
   "execution_count": null,
   "metadata": {},
   "outputs": [],
   "source": [
    "len(codex)"
   ]
  },
  {
   "cell_type": "markdown",
   "metadata": {},
   "source": [
    "### Dictionary Methods\n",
    "Dictionaries are a type of class in Python, and classes have functions associated with them called `methods`. Methods allow you to perform operations on and with the dictionary. \n",
    "You can always get the keys and the values from any dictionary, using the methods `keys` and `values`"
   ]
  },
  {
   "cell_type": "code",
   "execution_count": null,
   "metadata": {},
   "outputs": [],
   "source": [
    "print(office.values())\n",
    "print(office.keys())\n",
    "print(list(office.values()))"
   ]
  },
  {
   "cell_type": "markdown",
   "metadata": {},
   "source": [
    "You can run over all the keys to process the values or run through the values explicitly."
   ]
  },
  {
   "cell_type": "code",
   "execution_count": null,
   "metadata": {},
   "outputs": [],
   "source": [
    "print(\"Let's count in Spanish\")\n",
    "for k in entosp.keys():   # The order of the k's is not defined\n",
    "   print(entosp[k])\n"
   ]
  },
  {
   "cell_type": "code",
   "execution_count": null,
   "metadata": {},
   "outputs": [],
   "source": [
    "print(\"Let's look at the code\")\n",
    "for k in codex:   # The order of the k's is defined\n",
    "   print(k,\"oops\") # "
   ]
  },
  {
   "cell_type": "markdown",
   "metadata": {},
   "source": [
    "The method `items` can be used to iterate over the keys and values or to grab both the keys and the values."
   ]
  },
  {
   "cell_type": "code",
   "execution_count": null,
   "metadata": {},
   "outputs": [],
   "source": [
    "list(office.items())"
   ]
  },
  {
   "cell_type": "code",
   "execution_count": null,
   "metadata": {},
   "outputs": [],
   "source": [
    "for (k,v) in codex.items():\n",
    "    print(k, \"=\", v)"
   ]
  },
  {
   "cell_type": "markdown",
   "metadata": {},
   "source": [
    "## Sets\n",
    "Sets are much like `tuples`. A `set` is a collection which is unordered and unindexed. In Python, sets are written with curly brackets. Once sets are created, they may not be changed or accessed directly, but you may run through them in a `for` statement. A set is useful because Python has methods that allow you to perform set theory operations on this datatype."
   ]
  },
  {
   "cell_type": "code",
   "execution_count": 172,
   "metadata": {},
   "outputs": [
    {
     "name": "stdout",
     "output_type": "stream",
     "text": [
      "{'cherry', 'apple', 'banana'}\n"
     ]
    }
   ],
   "source": [
    "thisset = {\"apple\", \"banana\", \"cherry\"}\n",
    "print(thisset)"
   ]
  },
  {
   "cell_type": "code",
   "execution_count": 174,
   "metadata": {},
   "outputs": [
    {
     "name": "stdout",
     "output_type": "stream",
     "text": [
      "cherry\n",
      "apple\n",
      "banana\n"
     ]
    }
   ],
   "source": [
    "thisset = {\"apple\", \"banana\", \"cherry\"}\n",
    "for x in thisset:\n",
    "  print(x)"
   ]
  },
  {
   "cell_type": "code",
   "execution_count": 176,
   "metadata": {},
   "outputs": [
    {
     "name": "stdout",
     "output_type": "stream",
     "text": [
      "True\n"
     ]
    }
   ],
   "source": [
    "thisset = {\"apple\", \"banana\", \"cherry\"}\n",
    "print(\"banana\" in thisset)"
   ]
  },
  {
   "cell_type": "code",
   "execution_count": 178,
   "metadata": {},
   "outputs": [
    {
     "name": "stdout",
     "output_type": "stream",
     "text": [
      "{'orange', 'cherry', 'apple', 'banana'}\n"
     ]
    }
   ],
   "source": [
    "thisset = {\"apple\", \"banana\", \"cherry\"}\n",
    "thisset.add(\"orange\")\n",
    "#thisset.append(\"kiwi\")\n",
    "print(thisset)"
   ]
  },
  {
   "cell_type": "code",
   "execution_count": 180,
   "metadata": {},
   "outputs": [
    {
     "name": "stdout",
     "output_type": "stream",
     "text": [
      "{'grapes', 'mango', 'orange', 'cherry', 'apple', 'banana'}\n"
     ]
    }
   ],
   "source": [
    "thisset2 = {\"apple\", \"banana\", \"cherry\"}\n",
    "thisset2.update({\"orange\", \"mango\", \"grapes\"})\n",
    "print(thisset2)"
   ]
  },
  {
   "cell_type": "markdown",
   "metadata": {},
   "source": [
    "Let's try some of the set operations like intersection, difference, and union"
   ]
  },
  {
   "cell_type": "code",
   "execution_count": 182,
   "metadata": {},
   "outputs": [
    {
     "data": {
      "text/plain": [
       "{'apple', 'banana', 'cherry', 'orange'}"
      ]
     },
     "execution_count": 182,
     "metadata": {},
     "output_type": "execute_result"
    }
   ],
   "source": [
    "thisset.intersection(thisset2)"
   ]
  },
  {
   "cell_type": "code",
   "execution_count": 188,
   "metadata": {},
   "outputs": [
    {
     "data": {
      "text/plain": [
       "set()"
      ]
     },
     "execution_count": 188,
     "metadata": {},
     "output_type": "execute_result"
    }
   ],
   "source": [
    "thisset.difference(thisset2)"
   ]
  },
  {
   "cell_type": "code",
   "execution_count": 190,
   "metadata": {},
   "outputs": [
    {
     "data": {
      "text/plain": [
       "{'apple', 'banana', 'cherry', 'grapes', 'mango', 'orange'}"
      ]
     },
     "execution_count": 190,
     "metadata": {},
     "output_type": "execute_result"
    }
   ],
   "source": [
    "thisset.union(thisset2)"
   ]
  },
  {
   "cell_type": "code",
   "execution_count": 192,
   "metadata": {},
   "outputs": [
    {
     "ename": "TypeError",
     "evalue": "'set' object is not subscriptable",
     "output_type": "error",
     "traceback": [
      "\u001b[1;31m---------------------------------------------------------------------------\u001b[0m",
      "\u001b[1;31mTypeError\u001b[0m                                 Traceback (most recent call last)",
      "Cell \u001b[1;32mIn[192], line 1\u001b[0m\n\u001b[1;32m----> 1\u001b[0m thisset[\u001b[38;5;241m1\u001b[39m]\n",
      "\u001b[1;31mTypeError\u001b[0m: 'set' object is not subscriptable"
     ]
    }
   ],
   "source": [
    "thisset[1]"
   ]
  },
  {
   "cell_type": "code",
   "execution_count": null,
   "metadata": {},
   "outputs": [],
   "source": []
  }
 ],
 "metadata": {
  "kernelspec": {
   "display_name": "Python 3 (ipykernel)",
   "language": "python",
   "name": "python3"
  },
  "language_info": {
   "codemirror_mode": {
    "name": "ipython",
    "version": 3
   },
   "file_extension": ".py",
   "mimetype": "text/x-python",
   "name": "python",
   "nbconvert_exporter": "python",
   "pygments_lexer": "ipython3",
   "version": "3.12.7"
  }
 },
 "nbformat": 4,
 "nbformat_minor": 4
}
