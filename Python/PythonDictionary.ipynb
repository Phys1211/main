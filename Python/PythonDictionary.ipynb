{
 "cells": [
  {
   "cell_type": "markdown",
   "id": "c13c50c4",
   "metadata": {},
   "source": [
    "# Dictionaries in Python\n",
    "The basic data container in Python is a list. A `list` can hold a variety of data types. Once a `list` exists, it can be appended, have elements deleted, and be transformed into `arrays` or `tuples`. Of course, there are more sophisicated ways of storing/accessing/processing data in Python. Let's look at `dictionaries`. Content below is generously sampled from http://openbookproject.net/thinkcs/python/english3e/dictionaries.html.\n",
    "\n",
    "Dictionaries are lists of values that are indexed by `keys`. In other languages, these dictionaries are often referred to `associative arrays` because it is a way to associate `keys` with values.\n",
    "\n",
    "Creating dictionaries allows you to form a one-to-one association between 2 pieces of data, one referred to as a `value` the other as a `key`. Values in dictionaries can be any datatype and can be duplicated. Keys, on the other hand, must be unique and cannot be repeated within the same dictionary. \n",
    "Examples of using dictionaries:\n",
    "* English to Spainish dictionary"
   ]
  },
  {
   "cell_type": "code",
   "execution_count": 23,
   "id": "9c83e85e",
   "metadata": {},
   "outputs": [
    {
     "data": {
      "text/plain": [
       "'dos'"
      ]
     },
     "execution_count": 23,
     "metadata": {},
     "output_type": "execute_result"
    }
   ],
   "source": [
    "entosp = {\"one\":\"uno\",\"two\":\"dos\",\"three\":\"tres\"} # `key:value` elements\n",
    "entosp[\"two\"]"
   ]
  },
  {
   "cell_type": "markdown",
   "id": "44a874ca",
   "metadata": {},
   "source": [
    "* Inventory of supplies"
   ]
  },
  {
   "cell_type": "code",
   "execution_count": 24,
   "id": "02079184",
   "metadata": {},
   "outputs": [
    {
     "data": {
      "text/plain": [
       "500"
      ]
     },
     "execution_count": 24,
     "metadata": {},
     "output_type": "execute_result"
    }
   ],
   "source": [
    "office = {\"highlighters\":200,\"pencils\":300,\"pens\":500}\n",
    "office['pens']"
   ]
  },
  {
   "cell_type": "markdown",
   "id": "f6510240",
   "metadata": {},
   "source": [
    "* Dictionary for a encryption code:"
   ]
  },
  {
   "cell_type": "code",
   "execution_count": 25,
   "id": "fb9bfe99",
   "metadata": {},
   "outputs": [
    {
     "name": "stdout",
     "output_type": "stream",
     "text": [
      "{'a': 1, 'b': 2, 'c': 3, 'd': 4, 'e': 5, 'f': 6, 'g': 7, 'h': 8, 'i': 9, 'j': 10, 'k': 11, 'l': 12, 'm': 13, 'n': 14, 'o': 15, 'p': 16, 'q': 17, 'r': 18, 's': 19, 't': 20, 'u': 21, 'v': 22, 'w': 23, 'x': 24, 'y': 25}\n",
      "7\n"
     ]
    }
   ],
   "source": [
    "codex = { \"a\": 1, \"b\": 2, \"c\": 3, \"d\": 4, \"e\": 5, \"f\": 6, \"g\": 7, \"h\": 8, \"i\": 9, \"j\": 10,\"k\": 11,\"l\": 12,\"m\": 13,\"n\": 14,\n",
    "         \"o\": 15,\"p\": 16,\"q\": 17,\"r\": 18,\"s\": 19,\"t\": 20,\"u\": 21,\"v\": 22,\"w\": 23,\"x\": 24,\"y\": 25}\n",
    "print(codex)\n",
    "print(codex[\"g\"])"
   ]
  },
  {
   "cell_type": "markdown",
   "id": "bd7ca843",
   "metadata": {},
   "source": [
    "You can add new keys after the initial definiton:"
   ]
  },
  {
   "cell_type": "code",
   "execution_count": 26,
   "id": "d18056cd",
   "metadata": {},
   "outputs": [
    {
     "name": "stdout",
     "output_type": "stream",
     "text": [
      "{'a': 1, 'b': 2, 'c': 3, 'd': 4, 'e': 5, 'f': 6, 'g': 7, 'h': 8, 'i': 9, 'j': 10, 'k': 11, 'l': 12, 'm': 13, 'n': 14, 'o': 15, 'p': 16, 'q': 17, 'r': 18, 's': 19, 't': 20, 'u': 21, 'v': 22, 'w': 23, 'x': 24, 'y': 25, 'z': 26}\n"
     ]
    }
   ],
   "source": [
    "codex[\"z\"]=26\n",
    "print(codex)"
   ]
  },
  {
   "cell_type": "markdown",
   "id": "84674540",
   "metadata": {},
   "source": [
    "You can update the values in the dictionary"
   ]
  },
  {
   "cell_type": "code",
   "execution_count": 28,
   "id": "f392331b",
   "metadata": {},
   "outputs": [
    {
     "name": "stdout",
     "output_type": "stream",
     "text": [
      "{'highlighters': 200, 'pencils': 300, 'pens': 1100}\n"
     ]
    }
   ],
   "source": [
    "office[\"pens\"]+=200\n",
    "office['pens'] = office['pens']+200\n",
    "print(office)"
   ]
  },
  {
   "cell_type": "markdown",
   "id": "6f4797dd",
   "metadata": {},
   "source": [
    "You can find out how many `key:values` pairs a dictionary has"
   ]
  },
  {
   "cell_type": "code",
   "execution_count": 29,
   "id": "9a1c20ef",
   "metadata": {},
   "outputs": [
    {
     "data": {
      "text/plain": [
       "26"
      ]
     },
     "execution_count": 29,
     "metadata": {},
     "output_type": "execute_result"
    }
   ],
   "source": [
    "len(codex)"
   ]
  },
  {
   "cell_type": "markdown",
   "id": "63af7869",
   "metadata": {},
   "source": [
    "## Dictionary Methods\n",
    "Dictionaries are a type of class in Python, and classes have functions associated with them called `methods`. Methods allow you to perform operations on and with the dictionary. \n",
    "You can always get the keys and the values from any dictionary, using the methods `keys` and `values`"
   ]
  },
  {
   "cell_type": "code",
   "execution_count": 30,
   "id": "b535388f",
   "metadata": {},
   "outputs": [
    {
     "data": {
      "text/plain": [
       "dict"
      ]
     },
     "execution_count": 30,
     "metadata": {},
     "output_type": "execute_result"
    }
   ],
   "source": [
    "type(office)"
   ]
  },
  {
   "cell_type": "code",
   "execution_count": 37,
   "id": "4b9eba2c",
   "metadata": {},
   "outputs": [
    {
     "name": "stdout",
     "output_type": "stream",
     "text": [
      "<class 'dict_values'>\n"
     ]
    },
    {
     "ename": "TypeError",
     "evalue": "'dict_keys' object is not subscriptable",
     "output_type": "error",
     "traceback": [
      "\u001b[1;31m---------------------------------------------------------------------------\u001b[0m",
      "\u001b[1;31mTypeError\u001b[0m                                 Traceback (most recent call last)",
      "Cell \u001b[1;32mIn[37], line 2\u001b[0m\n\u001b[0;32m      1\u001b[0m \u001b[38;5;28mprint\u001b[39m(\u001b[38;5;28mtype\u001b[39m(office\u001b[38;5;241m.\u001b[39mvalues()))\n\u001b[1;32m----> 2\u001b[0m \u001b[38;5;28mprint\u001b[39m(office\u001b[38;5;241m.\u001b[39mkeys()[\u001b[38;5;241m1\u001b[39m])\n\u001b[0;32m      3\u001b[0m \u001b[38;5;66;03m# Don't forget about typecasting\u001b[39;00m\n\u001b[0;32m      4\u001b[0m \u001b[38;5;28mprint\u001b[39m(\u001b[38;5;28mlist\u001b[39m(office\u001b[38;5;241m.\u001b[39mkeys()))\n",
      "\u001b[1;31mTypeError\u001b[0m: 'dict_keys' object is not subscriptable"
     ]
    }
   ],
   "source": [
    "print(type(office.values()))\n",
    "print(office.keys())\n",
    "# Don't forget about typecasting\n",
    "print(list(office.keys())) "
   ]
  },
  {
   "cell_type": "markdown",
   "id": "46d7ccaf",
   "metadata": {},
   "source": [
    "You can run over all the keys to process the values or run through the values explicitly."
   ]
  },
  {
   "cell_type": "code",
   "execution_count": 33,
   "id": "cb6f99c1",
   "metadata": {},
   "outputs": [
    {
     "name": "stdout",
     "output_type": "stream",
     "text": [
      "Let's count in Spanish\n",
      "one\n",
      "uno\n",
      "two\n",
      "dos\n",
      "three\n",
      "tres\n"
     ]
    }
   ],
   "source": [
    "print(\"Let's count in Spanish\")\n",
    "for k in entosp.keys():  \n",
    "    print(k)\n",
    "    print(entosp[k])\n"
   ]
  },
  {
   "cell_type": "code",
   "execution_count": 34,
   "id": "bbd1d7cf",
   "metadata": {},
   "outputs": [
    {
     "name": "stdout",
     "output_type": "stream",
     "text": [
      "Let's look at the code\n",
      "a oops\n",
      "b oops\n",
      "c oops\n",
      "d oops\n",
      "e oops\n",
      "f oops\n",
      "g oops\n",
      "h oops\n",
      "i oops\n",
      "j oops\n",
      "k oops\n",
      "l oops\n",
      "m oops\n",
      "n oops\n",
      "o oops\n",
      "p oops\n",
      "q oops\n",
      "r oops\n",
      "s oops\n",
      "t oops\n",
      "u oops\n",
      "v oops\n",
      "w oops\n",
      "x oops\n",
      "y oops\n",
      "z oops\n"
     ]
    }
   ],
   "source": [
    "print(\"Let's look at the code\")\n",
    "for k in codex:   # The order of the k's is defined\n",
    "   print(k,\"oops\") # "
   ]
  },
  {
   "cell_type": "markdown",
   "id": "ab67e496",
   "metadata": {},
   "source": [
    "The method `items` can be used to iterate over the keys and values or to grab both the keys and the values."
   ]
  },
  {
   "cell_type": "code",
   "execution_count": 35,
   "id": "866e9b16",
   "metadata": {},
   "outputs": [
    {
     "name": "stdout",
     "output_type": "stream",
     "text": [
      "<class 'tuple'>\n",
      "[('highlighters', 200), ('pencils', 300), ('pens', 1100)]\n",
      "[('highlighters', 200), ('pencils', 300), ('pens', 1100), ('staplers', 900)]\n"
     ]
    }
   ],
   "source": [
    "x=list(office.items())\n",
    "print(type(x[0]))\n",
    "print(x)\n",
    "x.append(('staplers',900))\n",
    "print(x)"
   ]
  },
  {
   "cell_type": "code",
   "execution_count": 36,
   "id": "5ac4198c",
   "metadata": {},
   "outputs": [
    {
     "name": "stdout",
     "output_type": "stream",
     "text": [
      "a = 1\n",
      "b = 2\n",
      "c = 3\n",
      "d = 4\n",
      "e = 5\n",
      "f = 6\n",
      "g = 7\n",
      "h = 8\n",
      "i = 9\n",
      "j = 10\n",
      "k = 11\n",
      "l = 12\n",
      "m = 13\n",
      "n = 14\n",
      "o = 15\n",
      "p = 16\n",
      "q = 17\n",
      "r = 18\n",
      "s = 19\n",
      "t = 20\n",
      "u = 21\n",
      "v = 22\n",
      "w = 23\n",
      "x = 24\n",
      "y = 25\n",
      "z = 26\n"
     ]
    }
   ],
   "source": [
    "for (k,v) in codex.items():\n",
    "    print(k, \"=\", v)"
   ]
  },
  {
   "cell_type": "markdown",
   "id": "5d3a2fc7-1fd9-4e61-88d1-fdac6f7df07e",
   "metadata": {},
   "source": [
    "# Exercise: Simple Harmonic Motion Lab Data\n",
    "Assume you've just completed a simple harmonic motion lab measuring both pendulums and spring systems. The data has been organized for analysis using dictionaries."
   ]
  },
  {
   "cell_type": "code",
   "execution_count": 39,
   "id": "780a1690-ef5f-4d9d-80cc-230c5cf858f2",
   "metadata": {},
   "outputs": [],
   "source": [
    "import numpy as np\n",
    "\n",
    "# Simple Harmonic Motion Lab - organized experimental data\n",
    "lab_data = {\n",
    "    \"pendulum\": {\n",
    "        \"lengths\": [0.25, 0.50, 0.75, 1.00, 1.25],  # meters\n",
    "        \"periods\": [1.0, 1.42, 1.74, 2.01, 2.24],   # seconds\n",
    "        \"setup_status\": \"complete\"\n",
    "    },\n",
    "    \"spring_system\": {\n",
    "        \"masses\": np.array([0.1, 0.2, 0.3, 0.4, 0.5]),      # kg\n",
    "        \"periods\": np.array([0.63, 0.89, 1.09, 1.26, 1.41]), # seconds  \n",
    "        \"spring_constant\": 25.0,  # N/m (theoretical)\n",
    "        \"setup_status\": \"complete\"\n",
    "    },\n",
    "    \"lab_info\": {\n",
    "        \"date\": \"2025-09-15\",\n",
    "        \"temperature\": 22.5,  # Celsius\n",
    "        \"group_members\": 4,\n",
    "        \"lab_complete\": True\n",
    "    }\n",
    "}\n",
    "\n",
    "g_assumed = 9.81  # m/s^2"
   ]
  },
  {
   "cell_type": "markdown",
   "id": "be95de6d-4cf1-4726-91e6-c5fbae5c191d",
   "metadata": {},
   "source": [
    "**Questions**\n",
    "1. Extract the values of the masses used in the spring experiment. Extract the periods measured in the spring experiment. Calculate the spring constants from the data. Create a new field `exp_spring_constant` in the dictionary. What is the percent error of the average calculated spring constant given the theoretical spring constant?\n",
    "2. How many pendulum lengths were used in the pendulum experiment? Find the longest pendulum length used. What was the period of the longest pendulum?\n",
    "3. Write a summary statement including the completion date, temperature, and number of group members using an f string."
   ]
  },
  {
   "cell_type": "code",
   "execution_count": 45,
   "id": "85e53e08-65eb-46a5-9dcf-2da8f76395ad",
   "metadata": {},
   "outputs": [
    {
     "name": "stdout",
     "output_type": "stream",
     "text": [
      "[0.63 0.89 1.09 1.26 1.41]\n",
      "[0.1 0.2 0.3 0.4 0.5]\n"
     ]
    }
   ],
   "source": [
    "m = lab_data['spring_system']['masses']\n",
    "T = lab_data['spring_system']['periods']\n",
    "print(T)\n",
    "print(m)"
   ]
  },
  {
   "cell_type": "code",
   "execution_count": 76,
   "id": "d66b6352-aadd-43bd-bd94-a69894d52dac",
   "metadata": {},
   "outputs": [
    {
     "data": {
      "text/plain": [
       "1.25"
      ]
     },
     "execution_count": 76,
     "metadata": {},
     "output_type": "execute_result"
    }
   ],
   "source": [
    "le=lab_data['pendulum']['lengths']\n",
    "np.max(le)"
   ]
  },
  {
   "cell_type": "code",
   "execution_count": 56,
   "id": "05694d4c-9948-4879-9994-7974b66a169f",
   "metadata": {},
   "outputs": [
    {
     "data": {
      "text/plain": [
       "'Experiment data of pendulum lengths is [0.25, 0.5, 0.75, 1.0, 1.25] meters'"
      ]
     },
     "execution_count": 56,
     "metadata": {},
     "output_type": "execute_result"
    }
   ],
   "source": [
    "f'Experiment data of pendulum lengths is {lab_data['pendulum']['lengths']} meters'"
   ]
  },
  {
   "cell_type": "markdown",
   "id": "68f53372",
   "metadata": {},
   "source": [
    "## Dictionaries and json files\n",
    "One of the more useful applications of dictionaries in python are processing [json files](https://stackoverflow.blog/2022/06/02/a-beginners-guide-to-json-the-data-format-for-the-internet/). JSON files have a format that looks familiar:\n",
    "``` python \n",
    "{\n",
    "  \"key\": \"String\",\n",
    "  \"Number\": 1,\n",
    "  \"array\": [1,2,3],\t\n",
    "  \"nested\": {\n",
    "\t\"literals\": true\n",
    "  }\t\n",
    "}\n",
    "```\n",
    "Yes, this is the exact syntax of a dictionary in Python (this is actually a nested dictionary). Many organizations and cites format their data using `json` formats. \n",
    "\n",
    "Python can pull and process this information directly. People use many packages to pull data from the internet; one of the common packages is `requests`. Using this package's functions you can pull the information contained in any website. The following examples are pulling directly from `json` files.\n",
    "\n",
    "### Particle Data"
   ]
  },
  {
   "cell_type": "code",
   "execution_count": 57,
   "id": "64f945d7",
   "metadata": {},
   "outputs": [
    {
     "name": "stdout",
     "output_type": "stream",
     "text": [
      "<Response [200]>\n"
     ]
    },
    {
     "data": {
      "text/plain": [
       "list"
      ]
     },
     "execution_count": 57,
     "metadata": {},
     "output_type": "execute_result"
    }
   ],
   "source": [
    "import requests as rq\n",
    "particle  = rq.get(\"https://pdg.lbl.gov/2022/pdgid/PDGIdentifiers-2022v0.json\")\n",
    "print(particle)\n",
    "particle_data = particle.json()\n",
    "type(particle_data)"
   ]
  },
  {
   "cell_type": "code",
   "execution_count": 58,
   "id": "5f155c90",
   "metadata": {},
   "outputs": [
    {
     "name": "stdout",
     "output_type": "stream",
     "text": [
      "<class 'dict'>\n"
     ]
    },
    {
     "data": {
      "text/plain": [
       "{'description': 'gamma (photon)', 'pdgId': 'S000'}"
      ]
     },
     "execution_count": 58,
     "metadata": {},
     "output_type": "execute_result"
    }
   ],
   "source": [
    "print(type(particle_data[0]))\n",
    "particle_data[0]"
   ]
  },
  {
   "cell_type": "code",
   "execution_count": 59,
   "id": "78f7cd1c",
   "metadata": {},
   "outputs": [
    {
     "data": {
      "text/plain": [
       "11374"
      ]
     },
     "execution_count": 59,
     "metadata": {},
     "output_type": "execute_result"
    }
   ],
   "source": [
    "print(particle_data[0]['description'])\n",
    "len(particle_data)"
   ]
  },
  {
   "cell_type": "code",
   "execution_count": 60,
   "id": "78620ddf",
   "metadata": {},
   "outputs": [
    {
     "data": {
      "text/plain": [
       "dict_values(['<N(rho+-)>', 'S044RHC'])"
      ]
     },
     "execution_count": 60,
     "metadata": {},
     "output_type": "execute_result"
    }
   ],
   "source": [
    "particle_data[114].values()"
   ]
  },
  {
   "cell_type": "markdown",
   "id": "989b224e",
   "metadata": {},
   "source": [
    "### Time-Date\n",
    "You can pull the current GMT time and Unix epoch time (the number of milliseconds elapsed since January 1, 1970)."
   ]
  },
  {
   "cell_type": "code",
   "execution_count": 61,
   "id": "3bc4a1eb",
   "metadata": {},
   "outputs": [
    {
     "ename": "ConnectionError",
     "evalue": "HTTPConnectionPool(host='date.jsontest.com', port=80): Max retries exceeded with url: / (Caused by NameResolutionError(\"<urllib3.connection.HTTPConnection object at 0x000002504DAA68D0>: Failed to resolve 'date.jsontest.com' ([Errno 11001] getaddrinfo failed)\"))",
     "output_type": "error",
     "traceback": [
      "\u001b[1;31m---------------------------------------------------------------------------\u001b[0m",
      "\u001b[1;31mgaierror\u001b[0m                                  Traceback (most recent call last)",
      "File \u001b[1;32m~\\anaconda3\\Lib\\site-packages\\urllib3\\connection.py:199\u001b[0m, in \u001b[0;36mHTTPConnection._new_conn\u001b[1;34m(self)\u001b[0m\n\u001b[0;32m    198\u001b[0m \u001b[38;5;28;01mtry\u001b[39;00m:\n\u001b[1;32m--> 199\u001b[0m     sock \u001b[38;5;241m=\u001b[39m connection\u001b[38;5;241m.\u001b[39mcreate_connection(\n\u001b[0;32m    200\u001b[0m         (\u001b[38;5;28mself\u001b[39m\u001b[38;5;241m.\u001b[39m_dns_host, \u001b[38;5;28mself\u001b[39m\u001b[38;5;241m.\u001b[39mport),\n\u001b[0;32m    201\u001b[0m         \u001b[38;5;28mself\u001b[39m\u001b[38;5;241m.\u001b[39mtimeout,\n\u001b[0;32m    202\u001b[0m         source_address\u001b[38;5;241m=\u001b[39m\u001b[38;5;28mself\u001b[39m\u001b[38;5;241m.\u001b[39msource_address,\n\u001b[0;32m    203\u001b[0m         socket_options\u001b[38;5;241m=\u001b[39m\u001b[38;5;28mself\u001b[39m\u001b[38;5;241m.\u001b[39msocket_options,\n\u001b[0;32m    204\u001b[0m     )\n\u001b[0;32m    205\u001b[0m \u001b[38;5;28;01mexcept\u001b[39;00m socket\u001b[38;5;241m.\u001b[39mgaierror \u001b[38;5;28;01mas\u001b[39;00m e:\n",
      "File \u001b[1;32m~\\anaconda3\\Lib\\site-packages\\urllib3\\util\\connection.py:60\u001b[0m, in \u001b[0;36mcreate_connection\u001b[1;34m(address, timeout, source_address, socket_options)\u001b[0m\n\u001b[0;32m     58\u001b[0m     \u001b[38;5;28;01mraise\u001b[39;00m LocationParseError(\u001b[38;5;124mf\u001b[39m\u001b[38;5;124m\"\u001b[39m\u001b[38;5;124m'\u001b[39m\u001b[38;5;132;01m{\u001b[39;00mhost\u001b[38;5;132;01m}\u001b[39;00m\u001b[38;5;124m'\u001b[39m\u001b[38;5;124m, label empty or too long\u001b[39m\u001b[38;5;124m\"\u001b[39m) \u001b[38;5;28;01mfrom\u001b[39;00m \u001b[38;5;28;01mNone\u001b[39;00m\n\u001b[1;32m---> 60\u001b[0m \u001b[38;5;28;01mfor\u001b[39;00m res \u001b[38;5;129;01min\u001b[39;00m socket\u001b[38;5;241m.\u001b[39mgetaddrinfo(host, port, family, socket\u001b[38;5;241m.\u001b[39mSOCK_STREAM):\n\u001b[0;32m     61\u001b[0m     af, socktype, proto, canonname, sa \u001b[38;5;241m=\u001b[39m res\n",
      "File \u001b[1;32m~\\anaconda3\\Lib\\socket.py:976\u001b[0m, in \u001b[0;36mgetaddrinfo\u001b[1;34m(host, port, family, type, proto, flags)\u001b[0m\n\u001b[0;32m    975\u001b[0m addrlist \u001b[38;5;241m=\u001b[39m []\n\u001b[1;32m--> 976\u001b[0m \u001b[38;5;28;01mfor\u001b[39;00m res \u001b[38;5;129;01min\u001b[39;00m _socket\u001b[38;5;241m.\u001b[39mgetaddrinfo(host, port, family, \u001b[38;5;28mtype\u001b[39m, proto, flags):\n\u001b[0;32m    977\u001b[0m     af, socktype, proto, canonname, sa \u001b[38;5;241m=\u001b[39m res\n",
      "\u001b[1;31mgaierror\u001b[0m: [Errno 11001] getaddrinfo failed",
      "\nThe above exception was the direct cause of the following exception:\n",
      "\u001b[1;31mNameResolutionError\u001b[0m                       Traceback (most recent call last)",
      "File \u001b[1;32m~\\anaconda3\\Lib\\site-packages\\urllib3\\connectionpool.py:789\u001b[0m, in \u001b[0;36mHTTPConnectionPool.urlopen\u001b[1;34m(self, method, url, body, headers, retries, redirect, assert_same_host, timeout, pool_timeout, release_conn, chunked, body_pos, preload_content, decode_content, **response_kw)\u001b[0m\n\u001b[0;32m    788\u001b[0m \u001b[38;5;66;03m# Make the request on the HTTPConnection object\u001b[39;00m\n\u001b[1;32m--> 789\u001b[0m response \u001b[38;5;241m=\u001b[39m \u001b[38;5;28mself\u001b[39m\u001b[38;5;241m.\u001b[39m_make_request(\n\u001b[0;32m    790\u001b[0m     conn,\n\u001b[0;32m    791\u001b[0m     method,\n\u001b[0;32m    792\u001b[0m     url,\n\u001b[0;32m    793\u001b[0m     timeout\u001b[38;5;241m=\u001b[39mtimeout_obj,\n\u001b[0;32m    794\u001b[0m     body\u001b[38;5;241m=\u001b[39mbody,\n\u001b[0;32m    795\u001b[0m     headers\u001b[38;5;241m=\u001b[39mheaders,\n\u001b[0;32m    796\u001b[0m     chunked\u001b[38;5;241m=\u001b[39mchunked,\n\u001b[0;32m    797\u001b[0m     retries\u001b[38;5;241m=\u001b[39mretries,\n\u001b[0;32m    798\u001b[0m     response_conn\u001b[38;5;241m=\u001b[39mresponse_conn,\n\u001b[0;32m    799\u001b[0m     preload_content\u001b[38;5;241m=\u001b[39mpreload_content,\n\u001b[0;32m    800\u001b[0m     decode_content\u001b[38;5;241m=\u001b[39mdecode_content,\n\u001b[0;32m    801\u001b[0m     \u001b[38;5;241m*\u001b[39m\u001b[38;5;241m*\u001b[39mresponse_kw,\n\u001b[0;32m    802\u001b[0m )\n\u001b[0;32m    804\u001b[0m \u001b[38;5;66;03m# Everything went great!\u001b[39;00m\n",
      "File \u001b[1;32m~\\anaconda3\\Lib\\site-packages\\urllib3\\connectionpool.py:495\u001b[0m, in \u001b[0;36mHTTPConnectionPool._make_request\u001b[1;34m(self, conn, method, url, body, headers, retries, timeout, chunked, response_conn, preload_content, decode_content, enforce_content_length)\u001b[0m\n\u001b[0;32m    494\u001b[0m \u001b[38;5;28;01mtry\u001b[39;00m:\n\u001b[1;32m--> 495\u001b[0m     conn\u001b[38;5;241m.\u001b[39mrequest(\n\u001b[0;32m    496\u001b[0m         method,\n\u001b[0;32m    497\u001b[0m         url,\n\u001b[0;32m    498\u001b[0m         body\u001b[38;5;241m=\u001b[39mbody,\n\u001b[0;32m    499\u001b[0m         headers\u001b[38;5;241m=\u001b[39mheaders,\n\u001b[0;32m    500\u001b[0m         chunked\u001b[38;5;241m=\u001b[39mchunked,\n\u001b[0;32m    501\u001b[0m         preload_content\u001b[38;5;241m=\u001b[39mpreload_content,\n\u001b[0;32m    502\u001b[0m         decode_content\u001b[38;5;241m=\u001b[39mdecode_content,\n\u001b[0;32m    503\u001b[0m         enforce_content_length\u001b[38;5;241m=\u001b[39menforce_content_length,\n\u001b[0;32m    504\u001b[0m     )\n\u001b[0;32m    506\u001b[0m \u001b[38;5;66;03m# We are swallowing BrokenPipeError (errno.EPIPE) since the server is\u001b[39;00m\n\u001b[0;32m    507\u001b[0m \u001b[38;5;66;03m# legitimately able to close the connection after sending a valid response.\u001b[39;00m\n\u001b[0;32m    508\u001b[0m \u001b[38;5;66;03m# With this behaviour, the received response is still readable.\u001b[39;00m\n",
      "File \u001b[1;32m~\\anaconda3\\Lib\\site-packages\\urllib3\\connection.py:441\u001b[0m, in \u001b[0;36mHTTPConnection.request\u001b[1;34m(self, method, url, body, headers, chunked, preload_content, decode_content, enforce_content_length)\u001b[0m\n\u001b[0;32m    440\u001b[0m     \u001b[38;5;28mself\u001b[39m\u001b[38;5;241m.\u001b[39mputheader(header, value)\n\u001b[1;32m--> 441\u001b[0m \u001b[38;5;28mself\u001b[39m\u001b[38;5;241m.\u001b[39mendheaders()\n\u001b[0;32m    443\u001b[0m \u001b[38;5;66;03m# If we're given a body we start sending that in chunks.\u001b[39;00m\n",
      "File \u001b[1;32m~\\anaconda3\\Lib\\http\\client.py:1331\u001b[0m, in \u001b[0;36mHTTPConnection.endheaders\u001b[1;34m(self, message_body, encode_chunked)\u001b[0m\n\u001b[0;32m   1330\u001b[0m     \u001b[38;5;28;01mraise\u001b[39;00m CannotSendHeader()\n\u001b[1;32m-> 1331\u001b[0m \u001b[38;5;28mself\u001b[39m\u001b[38;5;241m.\u001b[39m_send_output(message_body, encode_chunked\u001b[38;5;241m=\u001b[39mencode_chunked)\n",
      "File \u001b[1;32m~\\anaconda3\\Lib\\http\\client.py:1091\u001b[0m, in \u001b[0;36mHTTPConnection._send_output\u001b[1;34m(self, message_body, encode_chunked)\u001b[0m\n\u001b[0;32m   1090\u001b[0m \u001b[38;5;28;01mdel\u001b[39;00m \u001b[38;5;28mself\u001b[39m\u001b[38;5;241m.\u001b[39m_buffer[:]\n\u001b[1;32m-> 1091\u001b[0m \u001b[38;5;28mself\u001b[39m\u001b[38;5;241m.\u001b[39msend(msg)\n\u001b[0;32m   1093\u001b[0m \u001b[38;5;28;01mif\u001b[39;00m message_body \u001b[38;5;129;01mis\u001b[39;00m \u001b[38;5;129;01mnot\u001b[39;00m \u001b[38;5;28;01mNone\u001b[39;00m:\n\u001b[0;32m   1094\u001b[0m \n\u001b[0;32m   1095\u001b[0m     \u001b[38;5;66;03m# create a consistent interface to message_body\u001b[39;00m\n",
      "File \u001b[1;32m~\\anaconda3\\Lib\\http\\client.py:1035\u001b[0m, in \u001b[0;36mHTTPConnection.send\u001b[1;34m(self, data)\u001b[0m\n\u001b[0;32m   1034\u001b[0m \u001b[38;5;28;01mif\u001b[39;00m \u001b[38;5;28mself\u001b[39m\u001b[38;5;241m.\u001b[39mauto_open:\n\u001b[1;32m-> 1035\u001b[0m     \u001b[38;5;28mself\u001b[39m\u001b[38;5;241m.\u001b[39mconnect()\n\u001b[0;32m   1036\u001b[0m \u001b[38;5;28;01melse\u001b[39;00m:\n",
      "File \u001b[1;32m~\\anaconda3\\Lib\\site-packages\\urllib3\\connection.py:279\u001b[0m, in \u001b[0;36mHTTPConnection.connect\u001b[1;34m(self)\u001b[0m\n\u001b[0;32m    278\u001b[0m \u001b[38;5;28;01mdef\u001b[39;00m \u001b[38;5;21mconnect\u001b[39m(\u001b[38;5;28mself\u001b[39m) \u001b[38;5;241m-\u001b[39m\u001b[38;5;241m>\u001b[39m \u001b[38;5;28;01mNone\u001b[39;00m:\n\u001b[1;32m--> 279\u001b[0m     \u001b[38;5;28mself\u001b[39m\u001b[38;5;241m.\u001b[39msock \u001b[38;5;241m=\u001b[39m \u001b[38;5;28mself\u001b[39m\u001b[38;5;241m.\u001b[39m_new_conn()\n\u001b[0;32m    280\u001b[0m     \u001b[38;5;28;01mif\u001b[39;00m \u001b[38;5;28mself\u001b[39m\u001b[38;5;241m.\u001b[39m_tunnel_host:\n\u001b[0;32m    281\u001b[0m         \u001b[38;5;66;03m# If we're tunneling it means we're connected to our proxy.\u001b[39;00m\n",
      "File \u001b[1;32m~\\anaconda3\\Lib\\site-packages\\urllib3\\connection.py:206\u001b[0m, in \u001b[0;36mHTTPConnection._new_conn\u001b[1;34m(self)\u001b[0m\n\u001b[0;32m    205\u001b[0m \u001b[38;5;28;01mexcept\u001b[39;00m socket\u001b[38;5;241m.\u001b[39mgaierror \u001b[38;5;28;01mas\u001b[39;00m e:\n\u001b[1;32m--> 206\u001b[0m     \u001b[38;5;28;01mraise\u001b[39;00m NameResolutionError(\u001b[38;5;28mself\u001b[39m\u001b[38;5;241m.\u001b[39mhost, \u001b[38;5;28mself\u001b[39m, e) \u001b[38;5;28;01mfrom\u001b[39;00m \u001b[38;5;21;01me\u001b[39;00m\n\u001b[0;32m    207\u001b[0m \u001b[38;5;28;01mexcept\u001b[39;00m SocketTimeout \u001b[38;5;28;01mas\u001b[39;00m e:\n",
      "\u001b[1;31mNameResolutionError\u001b[0m: <urllib3.connection.HTTPConnection object at 0x000002504DAA68D0>: Failed to resolve 'date.jsontest.com' ([Errno 11001] getaddrinfo failed)",
      "\nThe above exception was the direct cause of the following exception:\n",
      "\u001b[1;31mMaxRetryError\u001b[0m                             Traceback (most recent call last)",
      "File \u001b[1;32m~\\anaconda3\\Lib\\site-packages\\requests\\adapters.py:667\u001b[0m, in \u001b[0;36mHTTPAdapter.send\u001b[1;34m(self, request, stream, timeout, verify, cert, proxies)\u001b[0m\n\u001b[0;32m    666\u001b[0m \u001b[38;5;28;01mtry\u001b[39;00m:\n\u001b[1;32m--> 667\u001b[0m     resp \u001b[38;5;241m=\u001b[39m conn\u001b[38;5;241m.\u001b[39murlopen(\n\u001b[0;32m    668\u001b[0m         method\u001b[38;5;241m=\u001b[39mrequest\u001b[38;5;241m.\u001b[39mmethod,\n\u001b[0;32m    669\u001b[0m         url\u001b[38;5;241m=\u001b[39murl,\n\u001b[0;32m    670\u001b[0m         body\u001b[38;5;241m=\u001b[39mrequest\u001b[38;5;241m.\u001b[39mbody,\n\u001b[0;32m    671\u001b[0m         headers\u001b[38;5;241m=\u001b[39mrequest\u001b[38;5;241m.\u001b[39mheaders,\n\u001b[0;32m    672\u001b[0m         redirect\u001b[38;5;241m=\u001b[39m\u001b[38;5;28;01mFalse\u001b[39;00m,\n\u001b[0;32m    673\u001b[0m         assert_same_host\u001b[38;5;241m=\u001b[39m\u001b[38;5;28;01mFalse\u001b[39;00m,\n\u001b[0;32m    674\u001b[0m         preload_content\u001b[38;5;241m=\u001b[39m\u001b[38;5;28;01mFalse\u001b[39;00m,\n\u001b[0;32m    675\u001b[0m         decode_content\u001b[38;5;241m=\u001b[39m\u001b[38;5;28;01mFalse\u001b[39;00m,\n\u001b[0;32m    676\u001b[0m         retries\u001b[38;5;241m=\u001b[39m\u001b[38;5;28mself\u001b[39m\u001b[38;5;241m.\u001b[39mmax_retries,\n\u001b[0;32m    677\u001b[0m         timeout\u001b[38;5;241m=\u001b[39mtimeout,\n\u001b[0;32m    678\u001b[0m         chunked\u001b[38;5;241m=\u001b[39mchunked,\n\u001b[0;32m    679\u001b[0m     )\n\u001b[0;32m    681\u001b[0m \u001b[38;5;28;01mexcept\u001b[39;00m (ProtocolError, \u001b[38;5;167;01mOSError\u001b[39;00m) \u001b[38;5;28;01mas\u001b[39;00m err:\n",
      "File \u001b[1;32m~\\anaconda3\\Lib\\site-packages\\urllib3\\connectionpool.py:843\u001b[0m, in \u001b[0;36mHTTPConnectionPool.urlopen\u001b[1;34m(self, method, url, body, headers, retries, redirect, assert_same_host, timeout, pool_timeout, release_conn, chunked, body_pos, preload_content, decode_content, **response_kw)\u001b[0m\n\u001b[0;32m    841\u001b[0m     new_e \u001b[38;5;241m=\u001b[39m ProtocolError(\u001b[38;5;124m\"\u001b[39m\u001b[38;5;124mConnection aborted.\u001b[39m\u001b[38;5;124m\"\u001b[39m, new_e)\n\u001b[1;32m--> 843\u001b[0m retries \u001b[38;5;241m=\u001b[39m retries\u001b[38;5;241m.\u001b[39mincrement(\n\u001b[0;32m    844\u001b[0m     method, url, error\u001b[38;5;241m=\u001b[39mnew_e, _pool\u001b[38;5;241m=\u001b[39m\u001b[38;5;28mself\u001b[39m, _stacktrace\u001b[38;5;241m=\u001b[39msys\u001b[38;5;241m.\u001b[39mexc_info()[\u001b[38;5;241m2\u001b[39m]\n\u001b[0;32m    845\u001b[0m )\n\u001b[0;32m    846\u001b[0m retries\u001b[38;5;241m.\u001b[39msleep()\n",
      "File \u001b[1;32m~\\anaconda3\\Lib\\site-packages\\urllib3\\util\\retry.py:519\u001b[0m, in \u001b[0;36mRetry.increment\u001b[1;34m(self, method, url, response, error, _pool, _stacktrace)\u001b[0m\n\u001b[0;32m    518\u001b[0m     reason \u001b[38;5;241m=\u001b[39m error \u001b[38;5;129;01mor\u001b[39;00m ResponseError(cause)\n\u001b[1;32m--> 519\u001b[0m     \u001b[38;5;28;01mraise\u001b[39;00m MaxRetryError(_pool, url, reason) \u001b[38;5;28;01mfrom\u001b[39;00m \u001b[38;5;21;01mreason\u001b[39;00m  \u001b[38;5;66;03m# type: ignore[arg-type]\u001b[39;00m\n\u001b[0;32m    521\u001b[0m log\u001b[38;5;241m.\u001b[39mdebug(\u001b[38;5;124m\"\u001b[39m\u001b[38;5;124mIncremented Retry for (url=\u001b[39m\u001b[38;5;124m'\u001b[39m\u001b[38;5;132;01m%s\u001b[39;00m\u001b[38;5;124m'\u001b[39m\u001b[38;5;124m): \u001b[39m\u001b[38;5;132;01m%r\u001b[39;00m\u001b[38;5;124m\"\u001b[39m, url, new_retry)\n",
      "\u001b[1;31mMaxRetryError\u001b[0m: HTTPConnectionPool(host='date.jsontest.com', port=80): Max retries exceeded with url: / (Caused by NameResolutionError(\"<urllib3.connection.HTTPConnection object at 0x000002504DAA68D0>: Failed to resolve 'date.jsontest.com' ([Errno 11001] getaddrinfo failed)\"))",
      "\nDuring handling of the above exception, another exception occurred:\n",
      "\u001b[1;31mConnectionError\u001b[0m                           Traceback (most recent call last)",
      "Cell \u001b[1;32mIn[61], line 2\u001b[0m\n\u001b[0;32m      1\u001b[0m \u001b[38;5;28;01mimport\u001b[39;00m \u001b[38;5;21;01mrequests\u001b[39;00m \u001b[38;5;28;01mas\u001b[39;00m \u001b[38;5;21;01mrq\u001b[39;00m\n\u001b[1;32m----> 2\u001b[0m date \u001b[38;5;241m=\u001b[39m rq\u001b[38;5;241m.\u001b[39mget(\u001b[38;5;124m\"\u001b[39m\u001b[38;5;124mhttp://date.jsontest.com\u001b[39m\u001b[38;5;124m\"\u001b[39m)\n\u001b[0;32m      3\u001b[0m datetime \u001b[38;5;241m=\u001b[39m date\u001b[38;5;241m.\u001b[39mjson()\n",
      "File \u001b[1;32m~\\anaconda3\\Lib\\site-packages\\requests\\api.py:73\u001b[0m, in \u001b[0;36mget\u001b[1;34m(url, params, **kwargs)\u001b[0m\n\u001b[0;32m     62\u001b[0m \u001b[38;5;28;01mdef\u001b[39;00m \u001b[38;5;21mget\u001b[39m(url, params\u001b[38;5;241m=\u001b[39m\u001b[38;5;28;01mNone\u001b[39;00m, \u001b[38;5;241m*\u001b[39m\u001b[38;5;241m*\u001b[39mkwargs):\n\u001b[0;32m     63\u001b[0m \u001b[38;5;250m    \u001b[39m\u001b[38;5;124mr\u001b[39m\u001b[38;5;124;03m\"\"\"Sends a GET request.\u001b[39;00m\n\u001b[0;32m     64\u001b[0m \n\u001b[0;32m     65\u001b[0m \u001b[38;5;124;03m    :param url: URL for the new :class:`Request` object.\u001b[39;00m\n\u001b[1;32m   (...)\u001b[0m\n\u001b[0;32m     70\u001b[0m \u001b[38;5;124;03m    :rtype: requests.Response\u001b[39;00m\n\u001b[0;32m     71\u001b[0m \u001b[38;5;124;03m    \"\"\"\u001b[39;00m\n\u001b[1;32m---> 73\u001b[0m     \u001b[38;5;28;01mreturn\u001b[39;00m request(\u001b[38;5;124m\"\u001b[39m\u001b[38;5;124mget\u001b[39m\u001b[38;5;124m\"\u001b[39m, url, params\u001b[38;5;241m=\u001b[39mparams, \u001b[38;5;241m*\u001b[39m\u001b[38;5;241m*\u001b[39mkwargs)\n",
      "File \u001b[1;32m~\\anaconda3\\Lib\\site-packages\\requests\\api.py:59\u001b[0m, in \u001b[0;36mrequest\u001b[1;34m(method, url, **kwargs)\u001b[0m\n\u001b[0;32m     55\u001b[0m \u001b[38;5;66;03m# By using the 'with' statement we are sure the session is closed, thus we\u001b[39;00m\n\u001b[0;32m     56\u001b[0m \u001b[38;5;66;03m# avoid leaving sockets open which can trigger a ResourceWarning in some\u001b[39;00m\n\u001b[0;32m     57\u001b[0m \u001b[38;5;66;03m# cases, and look like a memory leak in others.\u001b[39;00m\n\u001b[0;32m     58\u001b[0m \u001b[38;5;28;01mwith\u001b[39;00m sessions\u001b[38;5;241m.\u001b[39mSession() \u001b[38;5;28;01mas\u001b[39;00m session:\n\u001b[1;32m---> 59\u001b[0m     \u001b[38;5;28;01mreturn\u001b[39;00m session\u001b[38;5;241m.\u001b[39mrequest(method\u001b[38;5;241m=\u001b[39mmethod, url\u001b[38;5;241m=\u001b[39murl, \u001b[38;5;241m*\u001b[39m\u001b[38;5;241m*\u001b[39mkwargs)\n",
      "File \u001b[1;32m~\\anaconda3\\Lib\\site-packages\\requests\\sessions.py:589\u001b[0m, in \u001b[0;36mSession.request\u001b[1;34m(self, method, url, params, data, headers, cookies, files, auth, timeout, allow_redirects, proxies, hooks, stream, verify, cert, json)\u001b[0m\n\u001b[0;32m    584\u001b[0m send_kwargs \u001b[38;5;241m=\u001b[39m {\n\u001b[0;32m    585\u001b[0m     \u001b[38;5;124m\"\u001b[39m\u001b[38;5;124mtimeout\u001b[39m\u001b[38;5;124m\"\u001b[39m: timeout,\n\u001b[0;32m    586\u001b[0m     \u001b[38;5;124m\"\u001b[39m\u001b[38;5;124mallow_redirects\u001b[39m\u001b[38;5;124m\"\u001b[39m: allow_redirects,\n\u001b[0;32m    587\u001b[0m }\n\u001b[0;32m    588\u001b[0m send_kwargs\u001b[38;5;241m.\u001b[39mupdate(settings)\n\u001b[1;32m--> 589\u001b[0m resp \u001b[38;5;241m=\u001b[39m \u001b[38;5;28mself\u001b[39m\u001b[38;5;241m.\u001b[39msend(prep, \u001b[38;5;241m*\u001b[39m\u001b[38;5;241m*\u001b[39msend_kwargs)\n\u001b[0;32m    591\u001b[0m \u001b[38;5;28;01mreturn\u001b[39;00m resp\n",
      "File \u001b[1;32m~\\anaconda3\\Lib\\site-packages\\requests\\sessions.py:703\u001b[0m, in \u001b[0;36mSession.send\u001b[1;34m(self, request, **kwargs)\u001b[0m\n\u001b[0;32m    700\u001b[0m start \u001b[38;5;241m=\u001b[39m preferred_clock()\n\u001b[0;32m    702\u001b[0m \u001b[38;5;66;03m# Send the request\u001b[39;00m\n\u001b[1;32m--> 703\u001b[0m r \u001b[38;5;241m=\u001b[39m adapter\u001b[38;5;241m.\u001b[39msend(request, \u001b[38;5;241m*\u001b[39m\u001b[38;5;241m*\u001b[39mkwargs)\n\u001b[0;32m    705\u001b[0m \u001b[38;5;66;03m# Total elapsed time of the request (approximately)\u001b[39;00m\n\u001b[0;32m    706\u001b[0m elapsed \u001b[38;5;241m=\u001b[39m preferred_clock() \u001b[38;5;241m-\u001b[39m start\n",
      "File \u001b[1;32m~\\anaconda3\\Lib\\site-packages\\requests\\adapters.py:700\u001b[0m, in \u001b[0;36mHTTPAdapter.send\u001b[1;34m(self, request, stream, timeout, verify, cert, proxies)\u001b[0m\n\u001b[0;32m    696\u001b[0m     \u001b[38;5;28;01mif\u001b[39;00m \u001b[38;5;28misinstance\u001b[39m(e\u001b[38;5;241m.\u001b[39mreason, _SSLError):\n\u001b[0;32m    697\u001b[0m         \u001b[38;5;66;03m# This branch is for urllib3 v1.22 and later.\u001b[39;00m\n\u001b[0;32m    698\u001b[0m         \u001b[38;5;28;01mraise\u001b[39;00m SSLError(e, request\u001b[38;5;241m=\u001b[39mrequest)\n\u001b[1;32m--> 700\u001b[0m     \u001b[38;5;28;01mraise\u001b[39;00m \u001b[38;5;167;01mConnectionError\u001b[39;00m(e, request\u001b[38;5;241m=\u001b[39mrequest)\n\u001b[0;32m    702\u001b[0m \u001b[38;5;28;01mexcept\u001b[39;00m ClosedPoolError \u001b[38;5;28;01mas\u001b[39;00m e:\n\u001b[0;32m    703\u001b[0m     \u001b[38;5;28;01mraise\u001b[39;00m \u001b[38;5;167;01mConnectionError\u001b[39;00m(e, request\u001b[38;5;241m=\u001b[39mrequest)\n",
      "\u001b[1;31mConnectionError\u001b[0m: HTTPConnectionPool(host='date.jsontest.com', port=80): Max retries exceeded with url: / (Caused by NameResolutionError(\"<urllib3.connection.HTTPConnection object at 0x000002504DAA68D0>: Failed to resolve 'date.jsontest.com' ([Errno 11001] getaddrinfo failed)\"))"
     ]
    }
   ],
   "source": [
    "import requests as rq\n",
    "date = rq.get(\"http://date.jsontest.com\")\n",
    "datetime = date.json()"
   ]
  },
  {
   "cell_type": "code",
   "execution_count": null,
   "id": "bbac8d12",
   "metadata": {},
   "outputs": [],
   "source": [
    "datetime['time']"
   ]
  },
  {
   "cell_type": "markdown",
   "id": "e5740d34",
   "metadata": {},
   "source": [
    "### New York City Bikes\n",
    "Organizations and governments can post loads of information for the public."
   ]
  },
  {
   "cell_type": "code",
   "execution_count": null,
   "id": "66964608",
   "metadata": {},
   "outputs": [],
   "source": [
    "import requests as rq\n",
    "bikes = rq.get(\"https://gbfs.citibikenyc.com/gbfs/en/station_information.json\")\n",
    "print(bikes)\n",
    "bikedata = bikes.json()"
   ]
  },
  {
   "cell_type": "code",
   "execution_count": 62,
   "id": "970b97c1",
   "metadata": {},
   "outputs": [
    {
     "data": {
      "text/plain": [
       "dict"
      ]
     },
     "execution_count": 62,
     "metadata": {},
     "output_type": "execute_result"
    }
   ],
   "source": [
    "type(bikedata)"
   ]
  },
  {
   "cell_type": "code",
   "execution_count": 63,
   "id": "ddf30dce",
   "metadata": {},
   "outputs": [
    {
     "data": {
      "text/plain": [
       "dict_keys(['data', 'last_updated', 'ttl', 'version'])"
      ]
     },
     "execution_count": 63,
     "metadata": {},
     "output_type": "execute_result"
    }
   ],
   "source": [
    "bikedata.keys()"
   ]
  },
  {
   "cell_type": "code",
   "execution_count": 65,
   "id": "2d4db5ab-07a4-4c7c-9b0e-4635c9fdb1be",
   "metadata": {},
   "outputs": [
    {
     "data": {
      "text/plain": [
       "dict_keys(['stations'])"
      ]
     },
     "execution_count": 65,
     "metadata": {},
     "output_type": "execute_result"
    }
   ],
   "source": [
    "bikedata['data'].keys()"
   ]
  },
  {
   "cell_type": "code",
   "execution_count": 73,
   "id": "ab26548a",
   "metadata": {},
   "outputs": [
    {
     "data": {
      "text/plain": [
       "{'lat': 40.62994,\n",
       " 'electric_bike_surcharge_waiver': False,\n",
       " 'eightd_has_key_dispenser': False,\n",
       " 'eightd_station_services': [],\n",
       " 'short_name': '2625.01',\n",
       " 'has_kiosk': False,\n",
       " 'lon': -74.03121,\n",
       " 'capacity': 0,\n",
       " 'name': '78 St & Ridge Blvd',\n",
       " 'region_id': '71',\n",
       " 'rental_uris': {'ios': 'https://bkn.lft.to/lastmile_qr_scan',\n",
       "  'android': 'https://bkn.lft.to/lastmile_qr_scan'},\n",
       " 'external_id': '2124036103510616644',\n",
       " 'station_id': '2124036103510616644',\n",
       " 'station_type': 'classic',\n",
       " 'rental_methods': ['KEY', 'CREDITCARD']}"
      ]
     },
     "execution_count": 73,
     "metadata": {},
     "output_type": "execute_result"
    }
   ],
   "source": [
    "bikedata['data']['stations'][0]"
   ]
  },
  {
   "cell_type": "code",
   "execution_count": 71,
   "id": "04432cc8",
   "metadata": {},
   "outputs": [
    {
     "data": {
      "text/plain": [
       "40.6686627"
      ]
     },
     "execution_count": 71,
     "metadata": {},
     "output_type": "execute_result"
    }
   ],
   "source": [
    "bikedata['data']['stations'][67]['lon']\n",
    "bikedata['data']['stations'][67]['lat']"
   ]
  },
  {
   "cell_type": "markdown",
   "id": "58cfc102-5b7a-41aa-adcc-ebbc4d077977",
   "metadata": {},
   "source": [
    "# Exercise: NYC Bikes Exploration\n",
    "Use the bike data at https://gbfs.citibikenyc.com/gbfs/en/station_information.json to answer the following questions about CitiBike. \n",
    "1. How many stations are there in the NYC database?\n",
    "2. What information is available for each station?\n",
    "3. Print the name and capacity of the first 3 stations.\n",
    "4. How many stations have a capacity greater than 50?\n",
    "5. Find and print all the station names that contain \"Brooklyn\" in their name. *(Hint: there is a `in` operator that could help here)*"
   ]
  },
  {
   "cell_type": "code",
   "execution_count": null,
   "id": "63ba721b-f830-4176-a3ab-dd87bf379271",
   "metadata": {},
   "outputs": [],
   "source": []
  }
 ],
 "metadata": {
  "kernelspec": {
   "display_name": "Python 3 (ipykernel)",
   "language": "python",
   "name": "python3"
  },
  "language_info": {
   "codemirror_mode": {
    "name": "ipython",
    "version": 3
   },
   "file_extension": ".py",
   "mimetype": "text/x-python",
   "name": "python",
   "nbconvert_exporter": "python",
   "pygments_lexer": "ipython3",
   "version": "3.12.7"
  }
 },
 "nbformat": 4,
 "nbformat_minor": 5
}
