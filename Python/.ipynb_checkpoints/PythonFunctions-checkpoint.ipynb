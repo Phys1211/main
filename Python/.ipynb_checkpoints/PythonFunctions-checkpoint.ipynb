{
 "cells": [
  {
   "cell_type": "markdown",
   "metadata": {},
   "source": [
    "# Importing Functions into Jupyter Notebooks\n",
    "Python allows users to write functions for specific tasks and to call those functions. Python function definitions allow you to specify input and output arguments. You can save functions to a file and call them from other scripts, notebooks, or functions that you write. But how do you call function written elsewhere in Jupyter Notebooks??\n",
    "\n",
    "For example, the files `fun.py` and `funcpass.py` are files that contains several functions around our projectile. We can load these files just as we load modules into python programs. In fact, we call python files that contain multiple function definitions and/or class definitions as modules.\n",
    "\n",
    "So, let's explore the modules `fun` and `funcpass`."
   ]
  },
  {
   "cell_type": "code",
   "execution_count": 16,
   "metadata": {
    "scrolled": true
   },
   "outputs": [
    {
     "name": "stdout",
     "output_type": "stream",
     "text": [
      "8.16326530612245\n"
     ]
    }
   ],
   "source": [
    "import fun as fun"
   ]
  },
  {
   "cell_type": "code",
   "execution_count": 22,
   "metadata": {},
   "outputs": [
    {
     "data": {
      "text/plain": [
       "(1.4285714285714286, 14.0)"
      ]
     },
     "execution_count": 22,
     "metadata": {},
     "output_type": "execute_result"
    }
   ],
   "source": [
    "fun.falling1D(10)"
   ]
  },
  {
   "cell_type": "code",
   "execution_count": 24,
   "metadata": {
    "scrolled": true
   },
   "outputs": [
    {
     "data": {
      "text/plain": [
       "(31.887755102040813, 2.5510204081632653)"
      ]
     },
     "execution_count": 24,
     "metadata": {},
     "output_type": "execute_result"
    }
   ],
   "source": [
    "fun.rising1D(25)"
   ]
  },
  {
   "cell_type": "code",
   "execution_count": 26,
   "metadata": {},
   "outputs": [
    {
     "data": {
      "text/plain": [
       "(25.0, 127.55102040816327, 5.1020408163265305, 31.887755102040813)"
      ]
     },
     "execution_count": 26,
     "metadata": {},
     "output_type": "execute_result"
    }
   ],
   "source": [
    "fun.projectile(25,30,9)"
   ]
  },
  {
   "cell_type": "code",
   "execution_count": 1,
   "metadata": {},
   "outputs": [],
   "source": [
    "import funcpass as fp"
   ]
  },
  {
   "cell_type": "markdown",
   "metadata": {},
   "source": [
    "I should note here that this is not the only way to load functions from a file in Python. You can also load specific functions:\n",
    "```python\n",
    "from funcpass import fpass\n",
    "```\n",
    "after which you may call the function like any other `fpass(arg1,...)`\n",
    "You can load all functions from a file\n",
    "```python\n",
    "from funcpass import *\n",
    "```\n",
    "after which you may again call any function in `funcpass` like any other function `fmap(arg,...)`.\n",
    "\n",
    "We can now use any functions defined with within this file. If you can't remember the functions defined in a file, you can always use the `dir` function,"
   ]
  },
  {
   "cell_type": "code",
   "execution_count": 30,
   "metadata": {},
   "outputs": [
    {
     "data": {
      "text/plain": [
       "['__builtins__',\n",
       " '__cached__',\n",
       " '__doc__',\n",
       " '__file__',\n",
       " '__loader__',\n",
       " '__name__',\n",
       " '__package__',\n",
       " '__spec__',\n",
       " 'fdict',\n",
       " 'feven',\n",
       " 'fmany',\n",
       " 'fmap',\n",
       " 'fpass',\n",
       " 'fsum',\n",
       " 'mh',\n",
       " 'np']"
      ]
     },
     "execution_count": 30,
     "metadata": {},
     "output_type": "execute_result"
    }
   ],
   "source": [
    "dir(fp)"
   ]
  },
  {
   "cell_type": "markdown",
   "metadata": {},
   "source": [
    "**Note**: Any parameter in the above list that is surrounded by double underscores (such as `__name__`) are system parameters. These have nothing to do with the names of user-defined functions within your file! \n",
    "\n",
    "The function names hold information about the function itself,"
   ]
  },
  {
   "cell_type": "code",
   "execution_count": 46,
   "metadata": {},
   "outputs": [
    {
     "data": {
      "text/plain": [
       "ModuleSpec(name='funcpass', loader=<_frozen_importlib_external.SourceFileLoader object at 0x000001B8848169D0>, origin='C:\\\\Users\\\\tomke\\\\My Drive\\\\Programs\\\\courses\\\\main\\\\Python\\\\funcpass.py')"
      ]
     },
     "execution_count": 46,
     "metadata": {},
     "output_type": "execute_result"
    }
   ],
   "source": [
    "type(fp.fpass)\n",
    "fp.__doc__"
   ]
  },
  {
   "cell_type": "markdown",
   "metadata": {},
   "source": [
    "## Passing functions to functions\n",
    "The example module `funcpass` contain functions that can take other functions as arguments. Passing functions into other functions provides another level of abstraction and control to more complicated programs.\n",
    "\n",
    "For example, `fpass` and `fmap` both take functions as arguments,"
   ]
  },
  {
   "cell_type": "code",
   "execution_count": 48,
   "metadata": {},
   "outputs": [
    {
     "data": {
      "text/plain": [
       "-1"
      ]
     },
     "execution_count": 48,
     "metadata": {},
     "output_type": "execute_result"
    }
   ],
   "source": [
    "fexample = lambda x: x**3-2*x+1\n",
    "fp.fpass(fexample, 1, 0)"
   ]
  },
  {
   "cell_type": "code",
   "execution_count": 50,
   "metadata": {},
   "outputs": [
    {
     "name": "stdout",
     "output_type": "stream",
     "text": [
      "[57, 5, 330, 712, 1]\n"
     ]
    },
    {
     "data": {
      "text/plain": [
       "[57, 5, 330, 712, 1]"
      ]
     },
     "execution_count": 50,
     "metadata": {},
     "output_type": "execute_result"
    }
   ],
   "source": [
    "explist = [4,2,7,9,0]\n",
    "fp.fmap(fexample, explist)"
   ]
  },
  {
   "cell_type": "markdown",
   "metadata": {},
   "source": [
    "The functions `fsum`, `fmany`, and `fdict` are examples of how you can write a function that takes an arbitrary number of arguments."
   ]
  },
  {
   "cell_type": "code",
   "execution_count": 52,
   "metadata": {},
   "outputs": [
    {
     "data": {
      "text/plain": [
       "812"
      ]
     },
     "execution_count": 52,
     "metadata": {},
     "output_type": "execute_result"
    }
   ],
   "source": [
    "fp.fsum(4,5,8,0,-3,6,4,9,779)"
   ]
  },
  {
   "cell_type": "code",
   "execution_count": 56,
   "metadata": {
    "scrolled": true
   },
   "outputs": [
    {
     "name": "stdout",
     "output_type": "stream",
     "text": [
      "You have entered:\n",
      "count \n",
      "\n",
      "3 \n",
      "\n",
      "4 \n",
      "\n",
      "{'a': 7, 'b': 8} \n",
      "\n",
      "7 \n",
      "\n",
      "4 \n",
      "\n"
     ]
    },
    {
     "data": {
      "text/plain": [
       "('count', 3, 4, {'a': 7, 'b': 8}, 7, 4)"
      ]
     },
     "execution_count": 56,
     "metadata": {},
     "output_type": "execute_result"
    }
   ],
   "source": [
    "fp.fmany('count',3,4,{'a':7,'b':8}, 7,4)"
   ]
  },
  {
   "cell_type": "markdown",
   "metadata": {},
   "source": [
    "The last function in the file `funcpass` involves using the argument that is often referred to as `**kwargs` in documentation. `kwargs` (*or whatever name you give it*) acts as a dictionary that you may refer to inside the function."
   ]
  },
  {
   "cell_type": "code",
   "execution_count": 3,
   "metadata": {},
   "outputs": [
    {
     "name": "stdout",
     "output_type": "stream",
     "text": [
      "a = [1, 1, 1]\n",
      "b = [-1, 3, 2]\n",
      "action = cross\n"
     ]
    },
    {
     "data": {
      "text/plain": [
       "array([-1, -3,  4])"
      ]
     },
     "execution_count": 3,
     "metadata": {},
     "output_type": "execute_result"
    }
   ],
   "source": [
    "v1=[1,1,1]\n",
    "v2=[-1,3,2]\n",
    "fp.fdict(a=v1,b=v2, action='cross' )"
   ]
  },
  {
   "cell_type": "code",
   "execution_count": 5,
   "metadata": {},
   "outputs": [
    {
     "name": "stdout",
     "output_type": "stream",
     "text": [
      "a = [1, 1, 1]\n",
      "action = magnitude\n"
     ]
    },
    {
     "data": {
      "text/plain": [
       "1.7320508075688772"
      ]
     },
     "execution_count": 5,
     "metadata": {},
     "output_type": "execute_result"
    }
   ],
   "source": [
    "fp.fdict(a=v1, action = 'magnitude')"
   ]
  },
  {
   "cell_type": "code",
   "execution_count": 7,
   "metadata": {},
   "outputs": [
    {
     "ename": "NameError",
     "evalue": "name 'np' is not defined",
     "output_type": "error",
     "traceback": [
      "\u001b[1;31m---------------------------------------------------------------------------\u001b[0m",
      "\u001b[1;31mNameError\u001b[0m                                 Traceback (most recent call last)",
      "Cell \u001b[1;32mIn[7], line 1\u001b[0m\n\u001b[1;32m----> 1\u001b[0m np\u001b[38;5;241m.\u001b[39marray([\u001b[38;5;241m4\u001b[39m,\u001b[38;5;241m5\u001b[39m])\n",
      "\u001b[1;31mNameError\u001b[0m: name 'np' is not defined"
     ]
    }
   ],
   "source": [
    "np.array([4,5])"
   ]
  },
  {
   "cell_type": "code",
   "execution_count": 9,
   "metadata": {},
   "outputs": [
    {
     "data": {
      "text/plain": [
       "array([4, 5])"
      ]
     },
     "execution_count": 9,
     "metadata": {},
     "output_type": "execute_result"
    }
   ],
   "source": [
    "fp.np.array([4,5])"
   ]
  },
  {
   "cell_type": "code",
   "execution_count": null,
   "metadata": {},
   "outputs": [],
   "source": []
  }
 ],
 "metadata": {
  "kernelspec": {
   "display_name": "Python 3 (ipykernel)",
   "language": "python",
   "name": "python3"
  },
  "language_info": {
   "codemirror_mode": {
    "name": "ipython",
    "version": 3
   },
   "file_extension": ".py",
   "mimetype": "text/x-python",
   "name": "python",
   "nbconvert_exporter": "python",
   "pygments_lexer": "ipython3",
   "version": "3.12.7"
  }
 },
 "nbformat": 4,
 "nbformat_minor": 4
}
