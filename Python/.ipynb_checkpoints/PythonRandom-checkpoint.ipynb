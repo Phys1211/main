{
 "cells": [
  {
   "cell_type": "markdown",
   "metadata": {},
   "source": [
    "# Random sequences\n",
    "\n",
    "\n",
    "Imagine a bingo draw, where numbered balls are picked randomly. If you\n",
    "want to reproduce this process with a computer, you will find that it is\n",
    "not as easy as you might think. Computing is completely deterministic by\n",
    "nature, and reproducing or simulating naturally random processes is a\n",
    "particularly delicate matter.\n",
    "\n",
    "The problem is how to use a computer to generate random numbers. In\n",
    "fact, this is impossible! We can program a computer to generate a\n",
    "sequence of numbers, following certain law. Although the output values\n",
    "of this sequence might look random (according to some rules that we will\n",
    "discuss in this section), the existence of a deterministic law behind\n",
    "them is telling us that precisely, these are not random numbers at all!\n",
    "\n",
    "**We define a sequence of numbers $\\{r_1,r_2,...r_n\\}$ as “random” if\n",
    "there are no correlations among the numbers in the sequence.** A random\n",
    "sequence can have a distribution, <span>*i. e.*</span> the probability\n",
    "of a number to appear in the sequence would correspond to some\n",
    "distribution. If the distribution is uniform, all numbers are equally\n",
    "probable to appear. Mathematically, the likehood of a number to occur is\n",
    "described by a distribution function $P(r)$. This means that the\n",
    "probability of finding $r_i$ in the interval $[r,r+dr]$ is given by\n",
    "$P(r)dr$. The usual random number generators provided by compilers or\n",
    "libraries generate a uniform distribution between 0 and 1, that means\n",
    "$P(r)=1$. Ideally this numbers have equal probability, and it is\n",
    "independent of the previous one. In other words, a random sequence should satify:\n",
    "\n",
    "- unpredictability,\n",
    "- independence,\n",
    "- without pattern.\n",
    "\n",
    "In a computer, the sequences are “pseudo-random” because knowing a number\n",
    "$r_m$ and the preceeding $r_i$, we can predict the next one $r_{m+1}$.\n",
    "This is evident in the correlations. Some sophisticated psudo-random\n",
    "number generators do a good job hiding this fact from our eyes, although\n",
    "if you look hard enough, you will eventually figure it out.\n",
    "\n",
    "# Pseudo-random number generators\n",
    "\n",
    "In this section we will simply review some possible alternatives for\n",
    "pseudo-random number generators. These go from the simplest\n",
    "“congruential” or “power residue” algorithm to more sophisticated ones\n",
    "that can be found in the literature. We will limit ourselves to\n",
    "understand this simple example. We want to generate a sequence $\\{r_i\\}$\n",
    "over an interval $[0,M-1]$. You multiply the previous random number\n",
    "$r_i$ by a constant $a$, add on another constant $c$, take the modulus\n",
    "by $M$, and then keep just the fractional part, the reminder, as the\n",
    "next random number $r_{i+1}$:\n",
    "\n",
    "$$r_{i+1}=(ar_i+c)\\mathrm{mod}{M}=\\mathrm{remainder}\\left(\\frac{ar_i+c}{M}\\right).$$\n",
    "\n",
    "The value $r_1$ has to be supplied by the user, and it is called the\n",
    "“seed” of the sequence. The sequence will be uniquely pre-determined by\n",
    "the seed.\n",
    "\n",
    "As an example, let us pick $c=1$, $a=4$, $M=9$ and $r_1=3$. We obtain the\n",
    "sequence: \n",
    "\n",
    "$$\\begin{aligned}\n",
    "r_1 &=& & & 3,\\\\\n",
    "r_2 &=& (4\\times 3+1)\\mathrm{mod}{9}&=&4,\\\\\n",
    "r_3 &=& (4\\times 4+1)\\mathrm{mod}{9}&=&8,\\\\\n",
    "r_4 &=& (4\\times 8+1)\\mathrm{mod}{9}&=&6,\\\\\n",
    "& & & &, 7, 2, 0, 1, 5, 3, ...\\end{aligned}$$ \n",
    "\n",
    "We get a sequence of length $M=9$\n",
    "after which the entire sequence repeats. This means that the “period” of\n",
    "the sequence is $M-1$. If we want the numbers in the range $[0,1]$ we\n",
    "would divide these values by $M$. This algorithm is extremely simple and\n",
    "portable, and it’s particularly suitable for simple applications. As we\n",
    "have seen, the longer the $M$, the longer the “period” of the sequence.\n",
    "Using large integer raises the problem of protability. Most processors\n",
    "use 32-bit representation for integers (some 64). This limits the\n",
    "largest possible integer that can be used. However, there are ways to\n",
    "work around this issue.\n",
    "\n",
    "A common way to generate\n",
    "independent sequences is to use the internal clock of the computer to\n",
    "generate a relatively random seed.\n",
    "\n",
    "## Period\n",
    "\n",
    "The period of a general linear congruantial generator (LCG) is at most $M$, and for some choices of factor a much less than that. The LCG will have a full period for all seed values if and only if:\n",
    "\n",
    "- $M$ and the offset $c$ are relatively prime,\n",
    "- $a - 1$ is divisible by all prime factors of $M$\n",
    "- $a - 1$ is divisible by 4 if $M$ is divisible by 4.\n",
    "\n",
    "These three requirements are referred to as the *Hull-Dobell Theorem*. While LCGs are capable of producing pseudorandom numbers which can pass formal tests for randomness, this is extremely sensitive to the choice of the parameters $c$, $M$, and $a$.\n",
    "\n",
    "Historically, poor choices had led to ineffective implementations of LCGs. A particularly illustrative example of this is RANDU, which was widely used in the early 1970s and led to many results which are currently being questioned because of the use of this poor LCG.\n",
    "\n",
    "For more on random number generators read Knuth, Numerical Recipes, and Wikipedia.\n",
    "\n",
    "## Random generator wish list\n",
    "\n",
    "- Efficient (you’ll need lots of them)\n",
    "\n",
    "- Long cycle: many techniques require a lot of generated random deviates, and you don’t want them to repeat any earlier than necessary.\n",
    "\n",
    "- Repeatable (no fair starting with a clock input—must be able to debug).\n",
    "\n",
    "- Resumeable: must be able to recall location in the sequence\n",
    "\n",
    "- Splittable: would like to be able to start parallel jobs with different sequences.\n",
    "\n",
    "- No correlations\n",
    "\n",
    "http://www.drdobbs.com/testing-random-number-generators/184403185?pgno=1\n",
    "\n",
    "Below is an example of a Linear Congruential Random Number Generator. The parameters for a famous mistake in random processes in included. In the 1960s, IBM chose certain parameters for their Linear Congruential Random Number Generator that produces highly correlated random numbers."
   ]
  },
  {
   "cell_type": "code",
   "execution_count": null,
   "metadata": {},
   "outputs": [],
   "source": [
    "%matplotlib inline\n",
    "import numpy as np\n",
    "from matplotlib import pyplot\n",
    "\n",
    "N = 50002\n",
    "r = np.zeros(N+1)\n",
    "# This is my arbitrary pick (large, and *probably* primes -- haven't checked)\n",
    "#bigint = 6537169170218971\n",
    "#coef = 52361276312121\n",
    "\n",
    "# This the infamous RANDU\n",
    "coef = 65539\n",
    "bigint = 2**31\n",
    "\n",
    "# Just some bad choice of numbers\n",
    "#coef = 112\n",
    "#bigint=2555\n",
    "\n",
    "seed = 1.\n",
    "r[0] = seed\n",
    "for i in range(1,N+1):\n",
    "    r[i] = (coef*r[i-1])%bigint\n",
    "        \n",
    "r1 = np.zeros(int(N/2))\n",
    "r2 = np.zeros(int(N/2))\n",
    "for i in range(0,N,2):\n",
    "    r1[int(i/2)] = float(r[i])/float(bigint)\n",
    "    r2[int(i/2)] = float(r[i+1])/float(bigint)\n",
    "    \n",
    "pyplot.plot(r1,r2,marker='o',linestyle='None');\n",
    "    "
   ]
  },
  {
   "cell_type": "code",
   "execution_count": null,
   "metadata": {},
   "outputs": [],
   "source": [
    "r1 = np.zeros(int(N/3))\n",
    "r2 = np.zeros(int(N/3))\n",
    "r3 = np.zeros(int(N/3))\n",
    "\n",
    "for i in range(0,N-1,3):\n",
    "    r1[int(i/3)] = r[i]/float(bigint)\n",
    "    r2[int(i/3)] = r[i+1]/float(bigint)\n",
    "    r3[int(i/3)] = r[i+2]/float(bigint)\n",
    "\n",
    "fig = pyplot.figure()\n",
    "ax = fig.add_subplot(projection='3d')\n",
    "ax.view_init(elev=20., azim=60)\n",
    "\n",
    "ax.scatter(r1,r2,r3,marker=\"o\");    "
   ]
  },
  {
   "cell_type": "markdown",
   "metadata": {},
   "source": [
    "\n",
    "# Testing for randomness and uniformity\n",
    "\n",
    "\n",
    "<img src=\"figures/dilbertrandom.gif\">\n",
    "\n",
    "Since the random numbers are generated according to a deterministic\n",
    "rule, the numbers in the sequence must be correlated in a certain way.\n",
    "This can affect a simulation that assumes random events.Therefore it is\n",
    "wise to test a generator before you use it.\n",
    "\n",
    "## Statistical errors\n",
    "\n",
    "If you run a simulation using a pesudo-random generator, you may expect\n",
    "your measurements (of some quantity, and observable for instance) to be\n",
    "distributed according to some statistics. If your results do not satisfy\n",
    "these statistics, then you should pick another generator. If you know a\n",
    "good random-number generator (you usually try to avoid this kind because\n",
    "they are time-consuming), it is a good idea to compare your results for\n",
    "a short run, to see if they agree or not.\n",
    "\n",
    "## Moments\n",
    "\n",
    "The $kth$ moment of a distribution is defined as:\n",
    "$$\\langle x^k \\rangle=\\frac{1}{N} \\sum_{i=1}^N x_i^k.\n",
    "$$ If the numbers are distributed with a uniform\n",
    "probability distribution $P(x)$, then $\\langle x^k \\rangle$ must\n",
    "correspond to the moment of $P$:\n",
    "$$\\int _0^1 {x^kP(x)dx} \\sim \\frac{1}{k+1}.$$ If this holds for your\n",
    "generator, then you know that the distribution is uniform. If the\n",
    "deviation from this varies as $1/\\sqrt(N)$, then you can be more confident that the \n",
    "distribution is random."
   ]
  },
  {
   "cell_type": "code",
   "execution_count": null,
   "metadata": {
    "scrolled": true
   },
   "outputs": [],
   "source": [
    "#Moments of random\n",
    "N = 1000  \n",
    "k=4\n",
    "rlist = np.random.random(N)\n",
    "xk = sum(rlist**k)/N\n",
    "print(xk)\n",
    "print(1/(k+1))"
   ]
  },
  {
   "cell_type": "code",
   "execution_count": null,
   "metadata": {},
   "outputs": [],
   "source": [
    "krange=range(1,10)\n",
    "xnum = []\n",
    "kdomain = []\n",
    "for num in krange:\n",
    "    rlist = np.random.random(N)\n",
    "    xk = sum(rlist**num)/N\n",
    "    xnum.append(xk)\n",
    "    kdomain.append(1/(num+1))\n",
    "pyplot.plot(list(krange),xnum)\n",
    "pyplot.plot(list(krange),kdomain)"
   ]
  },
  {
   "cell_type": "markdown",
   "metadata": {},
   "source": [
    "## Autocorrelation\n",
    "\n",
    "Another simple test determines the near-neighbor correlation in your\n",
    "random sequence by taking the sum of products at a “distance” $m$:\n",
    "$$C(m)=\\langle x_i x_{i+m} \\rangle = \\frac{1}{N} \\sum_{i=1}^N {x_ix_{i+m}}.\n",
    "$$\n",
    "\n",
    "If your random numbers are distributed with a joint probability\n",
    "distribution $P(x_i,x_{i+m})$ and are independent and uniform, then\n",
    "$C(m)$ must compare to the integral:\n",
    "$$\\int _0^1 {dx \\int _0^1{dy\\, P(x,y)xy}}.$$"
   ]
  },
  {
   "cell_type": "code",
   "execution_count": null,
   "metadata": {
    "scrolled": true
   },
   "outputs": [],
   "source": [
    "#Autocorrelations\n",
    "def autocor(m,x):\n",
    "    ac = 0\n",
    "    for i in range(len(x)):\n",
    "        if i+m<len(x):\n",
    "            ac =+ x[i]*x[i+m]\n",
    "    ac = ac/len(x)   \n",
    "    return ac\n",
    "rlist = np.random.random(N)\n",
    "print(autocor(7,rlist))\n",
    "print(1/(4*len(rlist)))"
   ]
  },
  {
   "cell_type": "code",
   "execution_count": null,
   "metadata": {},
   "outputs": [],
   "source": []
  },
  {
   "cell_type": "markdown",
   "metadata": {},
   "source": [
    "## Visual test\n",
    "\n",
    "If you plot the points $(r_{2i},r_{2i+1})$ and you notice some sort of\n",
    "regularity, the sequence is not random. If the points are random, they\n",
    "should uniforminly fill a square with no discernible pattern."
   ]
  },
  {
   "cell_type": "code",
   "execution_count": null,
   "metadata": {},
   "outputs": [],
   "source": [
    "# Python's method for generating random numbers between 0 and 1\n",
    "x = np.random.random(N+1)\n",
    "x1 = np.zeros(int(N/2))\n",
    "x2 = np.zeros(int(N/2))\n",
    "for i in range(0,N,2):\n",
    "    x1[int(i/2)] = x[i]\n",
    "    x2[int(i/2)] = x[i+1]\n",
    "    \n",
    "pyplot.plot(x1,x2,marker='o',linestyle='None');"
   ]
  },
  {
   "cell_type": "code",
   "execution_count": null,
   "metadata": {},
   "outputs": [],
   "source": [
    "N"
   ]
  },
  {
   "cell_type": "code",
   "execution_count": null,
   "metadata": {},
   "outputs": [],
   "source": [
    "x1 = np.zeros(int(N/3))\n",
    "x2 = np.zeros(int(N/3))\n",
    "x3 = np.zeros(int(N/3))\n",
    "\n",
    "for i in range(0,N-1,3):\n",
    "    x1[int(i/3)] = x[i]/float(bigint)\n",
    "    x2[int(i/3)] = x[i+1]/float(bigint)\n",
    "    x3[int(i/3)] = x[i+2]/float(bigint)\n",
    "\n",
    "fig = pyplot.figure()\n",
    "ax = fig.add_subplot(111,projection='3d')\n",
    "ax.view_init(elev=10., azim=60)\n",
    "\n",
    "ax.scatter(x1,x2,x3,marker=\"o\");    "
   ]
  },
  {
   "cell_type": "markdown",
   "metadata": {},
   "source": [
    "# Python `Random` Packages\n",
    "\n",
    "Python contains two useful packages for producing random numbers. The subpackage `numpy.random` contains a number of random number generators that work well with numpy arrays and numpy functions. Python does contain the package `random` that contains more specialized functions. A good explainer of both these packages is located at https://machinelearningmastery.com/how-to-generate-random-numbers-in-python/. \n",
    "\n",
    "Looking at numpy.random first, the base functions include:\n",
    "* random\n",
    "* randint\n",
    "* randn"
   ]
  },
  {
   "cell_type": "code",
   "execution_count": null,
   "metadata": {},
   "outputs": [],
   "source": [
    "# Generating pseudo random numbers between 0 and 1\n",
    "import numpy.random as npr\n",
    "rvec= npr.random(10)\n",
    "rarray = npr.random([4,4])\n",
    "print(rvec,'\\n', rarray)\n",
    "print(type(rarray))"
   ]
  },
  {
   "cell_type": "code",
   "execution_count": null,
   "metadata": {},
   "outputs": [],
   "source": [
    "# Generating random integers\n",
    "ri = npr.randint(0,100,40)\n",
    "ri2 = npr.randint(56,89)\n",
    "print(ri)\n",
    "print(ri2)"
   ]
  },
  {
   "cell_type": "code",
   "execution_count": null,
   "metadata": {},
   "outputs": [],
   "source": [
    "# Generating random numbers from normal distribution\n",
    "import matplotlib.pyplot as pyp\n",
    "rg = npr.randn(100) # Draw numbers from a normal distribution with mean = mu = 0, and std = 1\n",
    "mean =-3;\n",
    "std = 10;\n",
    "rgscale = mean+rg*std # scale distribution\n",
    "pyp.hist(rg)\n",
    "pyp.hist(rgscale)\n"
   ]
  },
  {
   "cell_type": "markdown",
   "metadata": {},
   "source": [
    "## Useful Things to Know\n",
    "`random` and `numpy.random` contains a number of functions used to make random choices or permutations"
   ]
  },
  {
   "cell_type": "code",
   "execution_count": null,
   "metadata": {},
   "outputs": [],
   "source": [
    "import numpy.random as npr\n",
    "import random as rn\n",
    "numlist = [4,5,9,4,6,7,12]\n",
    "alphalist = ['A','B','C','D','E']\n",
    "numb = npr.permutation(numlist)\n",
    "alpha = rn.shuffle(alphalist)"
   ]
  },
  {
   "cell_type": "code",
   "execution_count": null,
   "metadata": {},
   "outputs": [],
   "source": [
    "print(numb)\n",
    "print(alphalist)"
   ]
  },
  {
   "cell_type": "code",
   "execution_count": null,
   "metadata": {
    "scrolled": true
   },
   "outputs": [],
   "source": [
    "nchoice = npr.choice(alphalist)\n",
    "rchoice = rn.choice(alphalist)"
   ]
  },
  {
   "cell_type": "code",
   "execution_count": null,
   "metadata": {},
   "outputs": [],
   "source": [
    "print(nchoice)\n",
    "print(rchoice)"
   ]
  },
  {
   "cell_type": "code",
   "execution_count": null,
   "metadata": {},
   "outputs": [],
   "source": [
    "rn.randrange(1,100,7)"
   ]
  },
  {
   "cell_type": "markdown",
   "metadata": {},
   "source": [
    "# Exercise: Random Walk Simulation\n",
    "\n",
    "**Physical Context:**\n",
    "Random walks are fundamental to understanding diffusion and Brownian motion in physics. When a particle undergoes thermal collisions with surrounding molecules, its path appears random - moving unpredictably in different directions. This simple model helps us understand phenomena ranging from the spread of pollutants in air to the motion of pollen grains in water that Einstein analyzed in 1905.\n",
    "\n",
    "**Task:**\n",
    "Write a function called `random_walk_2d(nsteps)` that simulates a particle performing a 2D random walk on a grid. The particle starts at the origin and at each time step randomly moves one unit in one of the four cardinal directions (up, down, left, right). The function should:\n",
    "\n",
    "- Accept `nsteps` as the number of steps to simulate\n",
    "- Start the particle at position (0, 0)\n",
    "- Randomly select directions at each step\n",
    "- Track and return the x and y coordinates at each step as arrays\n",
    "- After calling the function with 1000 steps, plot the path using `pyplot.plot()` with markers showing the trajectory\n",
    "- Mark the starting point in green and the ending point in red on your plot\n",
    "\n",
    "**Extension (if time permits):**\n",
    "- Calculate and print the final distance from the origin\n",
    "- Generate multiple random walks (3-5) on the same plot using different colors to see the variability in paths"
   ]
  },
  {
   "cell_type": "code",
   "execution_count": null,
   "metadata": {},
   "outputs": [],
   "source": []
  }
 ],
 "metadata": {
  "kernelspec": {
   "display_name": "Python 3 (ipykernel)",
   "language": "python",
   "name": "python3"
  },
  "language_info": {
   "codemirror_mode": {
    "name": "ipython",
    "version": 3
   },
   "file_extension": ".py",
   "mimetype": "text/x-python",
   "name": "python",
   "nbconvert_exporter": "python",
   "pygments_lexer": "ipython3",
   "version": "3.12.7"
  }
 },
 "nbformat": 4,
 "nbformat_minor": 4
}
