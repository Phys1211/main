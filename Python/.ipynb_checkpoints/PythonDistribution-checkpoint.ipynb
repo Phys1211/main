{
 "cells": [
  {
   "cell_type": "markdown",
   "id": "imported-ultimate",
   "metadata": {},
   "source": [
    "# Drawing from Probability Distributions\n",
    "A key part of any Monte Carlo simulation is drawing random numbers from known distributions. We model certain physical systems according to various statistical behaviors characterized by probability distributions. \n",
    "\n",
    "# Drawing from non-uniform random distributions\n",
    "\n",
    "In the previous section we learned how to generate random numbers from\n",
    "a uniform probability distribution in an interval $[a,b]$. This\n",
    "distribution was normalized, so that $$\\int _a^b {P(x)dx}=1.$$ Hence, the uniform distribution *by definition* is\n",
    "$P(x)=1/(b-a)$.\n",
    "\n",
    "Now, suppose that we generate a sequence $\\{x_i\\}$ and we take some\n",
    "function of it to generate $\\{y(x_i)\\}=\\{y_i\\}$. This new sequence is\n",
    "going to be distributed according to some probability density $P(y)$,\n",
    "such that $$P(y)dy=P(x)dx$$ or $$P(y)=P(x)\\frac{dx}{dy}.$$\n",
    "\n",
    "If we want to generate a desired normalized distribution $P(y)$ from a uniform distribution $P(x)$, we need\n",
    "to solve the differential equation: $$\\frac{dx}{dy}=P(y).$$ But the\n",
    "solution of this is $$x=\\int _0^y {P(y')dy'}=F(y).$$ $F(y)$ is often called the Cumulative Distribution Function (CDF). Therefore,\n",
    "$$y(x)=F^{-1}(x),$$ where $F^{-1}$ is the inverse of $F$.\n",
    "\n",
    "### Example: Exponential distribution\n",
    "\n",
    "As an example, let us take $y(x)=-\\ln{(x)}$ with $P(x)$ representing a\n",
    "uniform distribution in the interval $[0,1]$. Then\n",
    "$$P(y)=\\frac{dx}{dy}=e^{-y},$$ which is distributed exponentially. This\n",
    "distribution occurs frequently in real problems such as the radioactive\n",
    "decay of nuclei. You can also see that the quantity $y/\\lambda$ has the\n",
    "distribution $\\lambda\n",
    "e^{-\\lambda y}$.\n",
    "\n",
    "\n"
   ]
  },
  {
   "cell_type": "code",
   "execution_count": null,
   "id": "71960cd1-9ac9-4c99-81a1-ad2814d3e782",
   "metadata": {},
   "outputs": [],
   "source": [
    "%matplotlib qt\n",
    "import pie\n",
    "pie.piestimator(1000)"
   ]
  },
  {
   "cell_type": "code",
   "execution_count": null,
   "id": "irish-harvey",
   "metadata": {
    "scrolled": true
   },
   "outputs": [],
   "source": [
    "%matplotlib inline\n",
    "import numpy as np\n",
    "from matplotlib import pyplot\n",
    "\n",
    "N = 10000\n",
    "# draw from a uniform distribution\n",
    "r = np.random.random(N) \n",
    "\n",
    "xlambda = 0.1 \n",
    "x = -np.log(r)/xlambda\n",
    "\n",
    "binwidth=xlambda*5\n",
    "\n",
    "pyplot.hist(x,bins=np.arange(0.,100., binwidth),density=True);\n",
    "pyplot.plot(np.arange(0.,100.,binwidth),xlambda*np.exp(-xlambda*np.arange(0.,100.,binwidth)),ls='-',c='red',lw=3);\n",
    "pyplot.show()"
   ]
  },
  {
   "cell_type": "markdown",
   "id": "658115ce-804c-4ce2-9322-2c89440f4c2f",
   "metadata": {},
   "source": [
    "### Example: Cauchy (Lorentzian) Distribution\n",
    "\n",
    "The Cauchy distribution, also known as the Lorentzian distribution in physics, is fundamental to understanding resonance phenomena. It appears in nuclear magnetic resonance, spectral line broadening, and particle physics as the relativistic Breit-Wigner distribution that describes unstable particle masses (as we'll see later in this notebook).\n",
    "\n",
    "The Cauchy distribution is given by:\n",
    "$$P(y) = \\frac{1}{\\pi} \\frac{\\gamma}{(y-y_0)^2 + \\gamma^2}$$\n",
    "\n",
    "where $y_0$ is the location parameter (the peak position) and $\\gamma$ is the scale parameter (half-width at half-maximum). This distribution is notable because it has no defined mean or variance—the integrals diverge!\n",
    "\n",
    "To generate random numbers from this distribution using the inverse transform method, we need to find the cumulative distribution function and then invert it.\n",
    "\n",
    "The CDF is:\n",
    "$$F(y) = \\int_{-\\infty}^{y} P(y') dy' = \\frac{1}{\\pi}\\arctan\\left(\\frac{y-y_0}{\\gamma}\\right) + \\frac{1}{2}$$\n",
    "\n",
    "Setting $F(y) = x$ where $x$ is uniformly distributed on $[0,1]$, we solve for $y$:\n",
    "$$x = \\frac{1}{\\pi}\\arctan\\left(\\frac{y-y_0}{\\gamma}\\right) + \\frac{1}{2}$$\n",
    "\n",
    "$$\\pi\\left(x - \\frac{1}{2}\\right) = \\arctan\\left(\\frac{y-y_0}{\\gamma}\\right)$$\n",
    "\n",
    "$$\\frac{y-y_0}{\\gamma} = \\tan\\left[\\pi\\left(x - \\frac{1}{2}\\right)\\right]$$\n",
    "\n",
    "Therefore:\n",
    "$$y(x) = y_0 + \\gamma \\tan\\left[\\pi\\left(x - \\frac{1}{2}\\right)\\right]$$\n",
    "\n",
    "This is our transformation from uniform random numbers $x$ to Cauchy-distributed random numbers $y$.\n"
   ]
  },
  {
   "cell_type": "code",
   "execution_count": null,
   "id": "a4e4da61-129e-40b3-ae65-ea9d2ca4e046",
   "metadata": {
    "scrolled": true
   },
   "outputs": [],
   "source": [
    "%matplotlib inline\n",
    "import numpy as np\n",
    "from matplotlib import pyplot\n",
    "\n",
    "N = 10000\n",
    "# draw from a uniform distribution\n",
    "r = np.random.random(N) \n",
    "\n",
    "# Parameters for Cauchy distribution\n",
    "y0 = 0.0     # location (peak position)\n",
    "gamma = 1.0  # scale (half-width at half-maximum)\n",
    "\n",
    "# Apply inverse transform\n",
    "y = y0 + gamma * np.tan(np.pi * (r - 0.5))\n",
    "\n",
    "# Plot histogram with theoretical curve\n",
    "# Note: we clip the range for visualization since Cauchy has heavy tails\n",
    "plot_range = np.linspace(-10, 10, 1000)\n",
    "theoretical = (1/np.pi) * gamma / ((plot_range - y0)**2 + gamma**2)\n",
    "\n",
    "pyplot.figure(figsize=(10, 6))\n",
    "pyplot.hist(y, bins=np.linspace(-10, 10, 100), density=True, alpha=0.7, label='Generated samples')\n",
    "pyplot.plot(plot_range, theoretical, 'r-', lw=3, label='Theoretical Cauchy')\n",
    "pyplot.xlim(-10, 10)\n",
    "pyplot.ylim(0, 0.35)\n",
    "pyplot.xlabel('y')\n",
    "pyplot.ylabel('P(y)')\n",
    "pyplot.legend()\n",
    "pyplot.title(f'Cauchy Distribution: $y_0={y0}$, $\\\\gamma={gamma}$')\n",
    "pyplot.show()"
   ]
  },
  {
   "cell_type": "markdown",
   "id": "04fb6974-1dc6-4092-98c2-debbd0ea4437",
   "metadata": {},
   "source": [
    "**Physical Interpretation:** In spectroscopy, $y$ would represent the frequency or energy of an emitted photon, $y_0$ is the resonance frequency, and $\\gamma$ is related to the natural linewidth and lifetime of the excited state through the energy-time uncertainty relation $\\Delta E \\cdot \\tau \\sim \\hbar$, where $\\tau \\sim 1/\\gamma$. The heavy tails of the Cauchy distribution (much heavier than a Gaussian) reflect the quantum mechanical uncertainty in energy for short-lived states.\n",
    "\n",
    "**Special Note:** The Cauchy distribution doesn't have a well-defined mean. We can see that if we try to calculate a mean for larger and larger samples."
   ]
  },
  {
   "cell_type": "code",
   "execution_count": null,
   "id": "c4c8688c-a170-450c-803d-fd396f125466",
   "metadata": {},
   "outputs": [],
   "source": [
    "# Watch the \"mean\" fail to converge\n",
    "sample_sizes = [100, 1000, 10000, 100000]\n",
    "for N in sample_sizes:\n",
    "    r = np.random.random(N)\n",
    "    y = gamma * np.tan(np.pi * (r - 0.5))\n",
    "    print(f\"N = {N:6d}, 'mean' = {np.mean(y):8.2f}\")"
   ]
  },
  {
   "cell_type": "markdown",
   "id": "formed-riverside",
   "metadata": {},
   "source": [
    "# Drawing random numbers from distributions\n",
    "You can draw random numbers from known distributions by using a subpackage of `scipy` called [`scipy.stats`](https://docs.scipy.org/doc/scipy/reference/stats.html) or using the `random` package. `scipy.stats` contains functions relating to statistical tests and statistical distributions, both continuous and discrete. Keep this package in mind!\n",
    "\n",
    "Here is small program that models the decay of Thallium to Lead."
   ]
  },
  {
   "cell_type": "code",
   "execution_count": null,
   "id": "favorite-symbol",
   "metadata": {
    "scrolled": true
   },
   "outputs": [],
   "source": [
    "from scipy.stats import expon\n",
    "import numpy as np\n",
    "import matplotlib.pyplot as mp\n",
    "#Script models the decay of 1000 Thallium atoms to lead by drawing from a nonuniform probability distribution\n",
    "NT = 1000;\n",
    "NPb = 0\n",
    "#lifetime of Thallium in minutes\n",
    "lifetime = 3.053/np.log(2) \n",
    "\n",
    "# draw exp distribution to produce a Monte Carlo Simulation\n",
    "from scipy.stats import expon\n",
    "#draw from exponential distribution\n",
    "data_expon = expon.rvs(scale=lifetime,loc=0,size=1000)\n",
    "#decays happen at random points according to exponential distribution\n",
    "timepoints = np.sort(data_expon)\n",
    "Tpoints = np.linspace(NT,0,NT)\n",
    "Pbpoints = np.linspace(0,NT,NT)\n",
    "mp.plot(timepoints,Tpoints,'r',label=\"Thallium\")\n",
    "mp.plot(timepoints,Pbpoints,'b',label=\"Lead\")\n",
    "mp.axvline(x=lifetime*np.log(2), color='k', linestyle='--')\n",
    "mp.xlabel(\"time in minutes\")\n",
    "mp.ylabel(\"Number of particles\")\n",
    "mp.legend()"
   ]
  },
  {
   "cell_type": "markdown",
   "id": "3deda431",
   "metadata": {},
   "source": [
    "# Particle Physics\n",
    "Many of the particles produced at accelerators like the Large Hadron Collider (LHC), Fermilab, and the Relativistic Heavy Ion Collider (RHIC) are classified as \"resonances\". In practical terms resonances are just unstable particles, that is particles that decay. These resonances are subject to the energy-time uncertainty principle $$\\Delta E \\Delta t \\sim \\hbar$$ that is, the mass of resonances take a range of possible values depending on their lifetime. \n",
    "\n",
    "The mass values of resonances are modeled using a Breit-Wigner distribution:\n",
    "$$f(E) = \\frac{k}{(E^2-M^2)^2 + \\Gamma^2 M^2}$$\n",
    "where\n",
    "$$k = \\frac{2\\sqrt{2}M\\Gamma\\gamma}{\\pi(M^2+\\gamma)},\\quad \\gamma = \\sqrt{M^2(M^2+\\Gamma^2)}$$\n",
    "where *E* is the center of mass energy of the collision, *M* the central mass of the resonance, and $\\Gamma$ is the decay width where the lifetime, $\\tau$ is $$\\tau = \\frac{\\hbar}{\\Gamma}.$$\n",
    "\n",
    "This should look familiar! The Breit-Wigner distribution is closely related to the Cauchy distribution we saw earlier. In fact, in the non-relativistic limit (when $E \\approx M$), the Breit-Wigner reduces to a Cauchy distribution centered at $M$ with width $\\Gamma$. This connection makes physical sense: both describe resonance phenomena where the uncertainty principle relates the width of the distribution to the lifetime of the state. Just as we saw that the Cauchy distribution has heavy tails and no defined mean, particle resonances can show up at energies significantly far from their central mass value due to quantum uncertainty.\n",
    "\n",
    "The package `scipy.stats` contains functions that allow us to draw from Breit-Wigner distributions. This allows us to produce monte carlo simulations of particle interactions, compare the simulations to data, and determine whether physical theories are failing to describe some phenomena."
   ]
  },
  {
   "cell_type": "code",
   "execution_count": null,
   "id": "7a097397",
   "metadata": {},
   "outputs": [],
   "source": [
    "#magic command to force display of graphics \n",
    "%matplotlib inline\n",
    "import numpy as np\n",
    "from scipy.stats import rel_breitwigner\n",
    "import matplotlib.pyplot as mp"
   ]
  },
  {
   "cell_type": "code",
   "execution_count": null,
   "id": "242978bc",
   "metadata": {},
   "outputs": [],
   "source": [
    "#For the Z0 boson\n",
    "M = 91.1876 #GeV\n",
    "gamma = 2.4952 #GeV\n",
    "#the rel_breitwigner distribution takes two parameters\n",
    "rZ = rel_breitwigner.rvs(M/gamma,scale = gamma, size=1000)\n",
    "print(rZ)"
   ]
  },
  {
   "cell_type": "code",
   "execution_count": null,
   "id": "0f472bea",
   "metadata": {},
   "outputs": [],
   "source": [
    "mp.hist(rZ,bins=100)\n",
    "mp.xlabel('Center of Mass Energy $E_{cm}$ (GeV)')\n",
    "mp.ylabel('Counts')\n",
    "mp.show()"
   ]
  },
  {
   "cell_type": "code",
   "execution_count": null,
   "id": "5db55b5e",
   "metadata": {},
   "outputs": [],
   "source": [
    "# For the Higgs boson\n",
    "mass = 125.3 #GeV\n",
    "width = 0.004 #GeV\n",
    "rho =mass/width\n",
    "sc = width\n",
    "rH = rel_breitwigner.rvs(rho,scale =sc, size=1000)\n",
    "print(rH)"
   ]
  },
  {
   "cell_type": "code",
   "execution_count": null,
   "id": "a7514c3f",
   "metadata": {
    "scrolled": true
   },
   "outputs": [],
   "source": [
    "mp.hist(rH,bins=100)\n",
    "mp.xlabel('Center of Mass Energy $E_{cm}$ (GeV)')\n",
    "mp.ylabel('Counts')\n",
    "mp.show()"
   ]
  },
  {
   "cell_type": "code",
   "execution_count": null,
   "id": "efb61b88",
   "metadata": {
    "scrolled": true
   },
   "outputs": [],
   "source": [
    "#combine random lists\n",
    "rT = np.concatenate((rZ,rH),axis=None)\n",
    "print(rT)"
   ]
  },
  {
   "cell_type": "code",
   "execution_count": null,
   "id": "9552d5ee",
   "metadata": {},
   "outputs": [],
   "source": [
    "#what the reconstruction from accelerator detectors would look like in an ideal world\n",
    "mp.hist(rT, bins=100)\n",
    "mp.xlabel('Center of Mass Energy $E_{cm}$ (GeV)')\n",
    "mp.ylabel('Counts')\n",
    "mp.show()"
   ]
  },
  {
   "cell_type": "markdown",
   "id": "german-indiana",
   "metadata": {},
   "source": [
    "## The key difference between `random` and `numpy.random` and `scipy.stats`\n",
    "You can draw from the same distributions whether using the `random`, `numpy.random`, or the `scipy.stats` package. The difference comes down to convenience. 'random' package functions tend to only draw 1 number at a time. "
   ]
  },
  {
   "cell_type": "code",
   "execution_count": null,
   "id": "9d29f084",
   "metadata": {},
   "outputs": [],
   "source": [
    "import random as rn\n",
    "rn.expovariate(lambd = 9)"
   ]
  },
  {
   "cell_type": "code",
   "execution_count": null,
   "id": "1b834010",
   "metadata": {},
   "outputs": [],
   "source": [
    "#More machinary is needed to get multiple numbers from expovariate\n",
    "exp = []\n",
    "for k in range(1, 1000):\n",
    "    rando = rn.expovariate(lambd=2)\n",
    "    exp.append(rando)\n",
    "mp.hist(exp,bins=100)\n",
    "mp.show()"
   ]
  },
  {
   "cell_type": "markdown",
   "id": "cac52ad6-2a8f-4f8b-9105-54a1113511ed",
   "metadata": {},
   "source": [
    "# Exercise: Radioactive Decay Simulation\n",
    "\n",
    "## Background\n",
    "Carbon-14 is a radioactive isotope used in radiocarbon dating. It has a half-life of 5,730 years. You'll simulate the decay of a sample of C-14 atoms to explore exponential distributions and compare different methods of generating random numbers from distributions.\n",
    "\n",
    "## Part 1: Manual Transformation Method\n",
    "\n",
    "**Task:** Generate an exponential distribution using the transformation method from uniform random numbers.\n",
    "\n",
    "1. Create 5000 uniform random numbers between 0 and 1 using `np.random.random()`\n",
    "2. Calculate the mean lifetime: τ = 5730/ln(2) years (you'll need `np.log()` for natural log)\n",
    "3. Transform them to follow an exponential distribution using the formula: `t = -τ * ln(r)`\n",
    "4. Create a histogram with 50 bins showing the distribution of decay times\n",
    "5. Add appropriate axis labels (\"Time (years)\" and \"Number of Decays\")\n",
    "\n",
    "**Questions to consider:**\n",
    "- What does the shape of this distribution tell you about when most decays occur?\n",
    "\n",
    "## Part 2: Using scipy.stats and Comparison\n",
    "\n",
    "**Task:** Generate the same exponential distribution using `scipy.stats.expon` and compare\n",
    "\n",
    "1. Import `expon` from `scipy.stats`\n",
    "2. Generate 5000 random decay times using `expon.rvs()` with the appropriate `scale` parameter (scale = τ)\n",
    "3. On the **same plot** as Part 1, add this new histogram with a different color and some transparency (use `alpha=0.5`)\n",
    "4. Add a legend to distinguish the two methods\n",
    "\n",
    "**Questions to consider:**\n",
    "- How do the two histograms compare?\n",
    "- Which method is more convenient? When might you prefer the manual transformation approach?\n",
    "\n",
    "## Helpful Code Snippets\n",
    "```python\n",
    "# Imports you'll need\n",
    "import numpy as np\n",
    "from scipy.stats import expon\n",
    "import matplotlib.pyplot as mp\n",
    "\n",
    "# Creating overlapping histograms\n",
    "mp.hist(data1, bins=50, alpha=0.5, label='Manual transformation', color='blue')\n",
    "mp.hist(data2, bins=50, alpha=0.5, label='scipy.stats', color='red')\n",
    "mp.legend()\n",
    "```"
   ]
  },
  {
   "cell_type": "code",
   "execution_count": null,
   "id": "ad3482b0-266e-438b-a50f-de7eeefb0083",
   "metadata": {},
   "outputs": [],
   "source": []
  }
 ],
 "metadata": {
  "kernelspec": {
   "display_name": "Python 3 (ipykernel)",
   "language": "python",
   "name": "python3"
  },
  "language_info": {
   "codemirror_mode": {
    "name": "ipython",
    "version": 3
   },
   "file_extension": ".py",
   "mimetype": "text/x-python",
   "name": "python",
   "nbconvert_exporter": "python",
   "pygments_lexer": "ipython3",
   "version": "3.12.7"
  }
 },
 "nbformat": 4,
 "nbformat_minor": 5
}
