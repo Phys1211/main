{
 "cells": [
  {
   "cell_type": "markdown",
   "metadata": {},
   "source": [
    "# Functions in Python\n",
    "Python allows users to write functions for specific tasks and then build larger, more complicated programs from those function. Functions take specific input (input arguments), carries out a task, and returns output arguments. You can save functions to a file and call them from other scripts, notebooks, or functions that you write. \n",
    "To define a function in Python use the following syntax:\n",
    "\n",
    "``` python\n",
    "def func1(input1, input2,...):\n",
    "    indented code statements\n",
    "    return output(s)\n",
    "```\n",
    "### Keep in mind, indentation is **everything in Python**. The function ends whenever the indentation ends. \n"
   ]
  },
  {
   "cell_type": "markdown",
   "metadata": {},
   "source": [
    "## Why write functions\n",
    "- Allow you to conceptualize the program in smaller sub-steps, one function per sub-step\n",
    "- Allow you to reuse code instead of rewriting the same process\n",
    "- Allow you to keep the  variable namespace clean, variables only exist while a given function excutes\n",
    "- Allow us to test smaller parts of the overall program in isolation"
   ]
  },
  {
   "cell_type": "markdown",
   "metadata": {},
   "source": [
    " ## Scope\n",
    " Scope refers to the availability of any variable within a program. Variables are usually only available in the scope in which they are created.\n",
    " ### Local Scope\n",
    " A `local variable` is one created inside a function. This local variable only exists with its function, referred to as the `local scope`.\n",
    " ### Global Scope\n",
    " `Global variables` are created in the main body of any Python program. They are available anywhere in the program, that is they have `global scope`. "
   ]
  },
  {
   "cell_type": "code",
   "execution_count": 32,
   "metadata": {},
   "outputs": [],
   "source": [
    "import numpy as np\n",
    "def expand(size):\n",
    "    x = np.array([size, size**2, size**(-1)])\n",
    "    return x\n",
    "def pythagoras(a=7,b=8):\n",
    "    c = np.sqrt(a*a + b*b)\n",
    "    return c\n",
    "def newfunc(a):\n",
    "    x = expand(x)\n",
    "    return x"
   ]
  },
  {
   "cell_type": "code",
   "execution_count": 33,
   "metadata": {},
   "outputs": [
    {
     "name": "stdout",
     "output_type": "stream",
     "text": [
      "[ 5.  25.   0.2]\n"
     ]
    }
   ],
   "source": [
    "y= expand(5)\n",
    "print(y)"
   ]
  },
  {
   "cell_type": "code",
   "execution_count": 34,
   "metadata": {},
   "outputs": [
    {
     "ename": "NameError",
     "evalue": "name 'x' is not defined",
     "output_type": "error",
     "traceback": [
      "\u001b[1;31m---------------------------------------------------------------------------\u001b[0m",
      "\u001b[1;31mNameError\u001b[0m                                 Traceback (most recent call last)",
      "Cell \u001b[1;32mIn[34], line 1\u001b[0m\n\u001b[1;32m----> 1\u001b[0m x\n",
      "\u001b[1;31mNameError\u001b[0m: name 'x' is not defined"
     ]
    }
   ],
   "source": [
    "x"
   ]
  },
  {
   "cell_type": "markdown",
   "metadata": {},
   "source": [
    "## `print` vs `return`\n",
    "Any program should produce some output. However, the way you deliver the output affects whether you can do anything with that output. We have larger relied on `print` to deliver output, but printing results doesn't allow you to refer back to those results later in the code. "
   ]
  },
  {
   "cell_type": "code",
   "execution_count": 45,
   "metadata": {},
   "outputs": [
    {
     "name": "stdout",
     "output_type": "stream",
     "text": [
      "7\n"
     ]
    }
   ],
   "source": [
    "def first(arg):\n",
    "    print(arg)\n",
    "\n",
    "def second(arg): \n",
    "    return arg\n",
    "\n",
    "x = first(7)\n",
    "y = second(48.9954)"
   ]
  },
  {
   "cell_type": "code",
   "execution_count": 46,
   "metadata": {},
   "outputs": [
    {
     "data": {
      "text/plain": [
       "float"
      ]
     },
     "execution_count": 46,
     "metadata": {},
     "output_type": "execute_result"
    }
   ],
   "source": [
    "type(y)"
   ]
  },
  {
   "cell_type": "code",
   "execution_count": 43,
   "metadata": {},
   "outputs": [
    {
     "data": {
      "text/plain": [
       "16"
      ]
     },
     "execution_count": 43,
     "metadata": {},
     "output_type": "execute_result"
    }
   ],
   "source": [
    "4*second(4)"
   ]
  },
  {
   "cell_type": "markdown",
   "metadata": {},
   "source": [
    "## `lambda` functions\n",
    "`lambda` functions in Python allow you to define simple, one-line functions."
   ]
  },
  {
   "cell_type": "code",
   "execution_count": 47,
   "metadata": {},
   "outputs": [],
   "source": [
    "# lambda function with input x and output as x**2\n",
    "quad = lambda x: x**2"
   ]
  },
  {
   "cell_type": "code",
   "execution_count": 48,
   "metadata": {
    "scrolled": true
   },
   "outputs": [
    {
     "name": "stdout",
     "output_type": "stream",
     "text": [
      "4900\n"
     ]
    }
   ],
   "source": [
    "a=quad(70)\n",
    "print(a)"
   ]
  },
  {
   "cell_type": "code",
   "execution_count": 52,
   "metadata": {},
   "outputs": [],
   "source": [
    "magn = lambda a,b=9: np.sqrt(a*a+b*b)"
   ]
  },
  {
   "cell_type": "code",
   "execution_count": 53,
   "metadata": {},
   "outputs": [
    {
     "data": {
      "text/plain": [
       "12.041594578792296"
      ]
     },
     "execution_count": 53,
     "metadata": {},
     "output_type": "execute_result"
    }
   ],
   "source": [
    "magn(8)"
   ]
  },
  {
   "cell_type": "markdown",
   "metadata": {},
   "source": [
    "# Take home messages about Python Functions\n",
    "There are several things that you should notice about the function file above:\n",
    "* Anything that outside of function definitions is global, (any function can use it). This is useful when many separate functions need similar data.\n",
    "* Functions can call other functions within the same file. The ordering of the functions doesn't matter.\n",
    "*  `lambda` functions are Python's 'anonymous functions', functions that are defined in 1 line. The syntax takes the form:\n",
    "```python\n",
    "mtokm = lambda x: x/1000;\n",
    "```\n",
    "You can then call `mtokm` as any other function with an input argument `mtokm(x)`\n",
    "\n",
    "* Default arguments are defined in the function definition using `=` sign (not an assignment operator unless there is no input argurment in its place). You may set default values for any of your arguments, but cannot skip arguments in your functions calls.\n",
    "```python\n",
    "def satellite(T,grph = 0,unit='hr'):\n",
    "```\n",
    "That is you cannot call satellite using a call of `satellite(3.5, , 'min')` and hope that the default argument for `unit` will be used (because it won't). "
   ]
  },
  {
   "cell_type": "code",
   "execution_count": 62,
   "metadata": {},
   "outputs": [],
   "source": [
    "import satellite as st"
   ]
  },
  {
   "cell_type": "code",
   "execution_count": 56,
   "metadata": {},
   "outputs": [
    {
     "data": {
      "text/plain": [
       "35748.97077961276"
      ]
     },
     "execution_count": 56,
     "metadata": {},
     "output_type": "execute_result"
    }
   ],
   "source": [
    "st.altitude(86000)"
   ]
  },
  {
   "cell_type": "markdown",
   "metadata": {},
   "source": [
    "# Exercise: Temperature Data Analysis Function\n",
    "\n",
    "Write a function called `analyze_temps(year_start, year_end, threshold=0.0)` that:\n",
    "\n",
    "1. Takes two required arguments: `year_start` and `year_end`\n",
    "2. Has an optional `threshold` parameter (default = 0.0)\n",
    "3. Returns a dictionary with three keys:\n",
    "   - `'count'`: number of years in the range where temperature anomaly exceeds the threshold\n",
    "   - `'average'`: average temperature anomaly for years in that range\n",
    "   - `'years_above'`: a list of years where temperature exceeded the threshold\n",
    "\n",
    "**Hints:**\n",
    "- You'll need to read the globaltemps.txt data (using methods from PythonInput)\n",
    "- Use control structures (if statements, for loops) from PythonControls\n",
    "- Work with lists and dictionaries from PythonDatatypes\n",
    "\n",
    "**Part 2:** Create/Modify two versions of your `analyze_temps` function:\n",
    "- Version A: Uses `print()` to display the dictionary\n",
    "- Version B: Uses `return` to output the dictionary\n",
    "\n",
    "Test both versions by running:\n",
    "```python\n",
    "result_A = analyze_temps(2000, 2023, threshold=0.5)\n",
    "result_B = analyze_temps(2000, 2023, threshold=0.5)\n",
    "```\n",
    "Then try to access specific values like `result_A['count']` and `result_B['count']`. What happens with each version? Explain why one works and the other doesn't, and why this matters when you want to use the output in further calculations."
   ]
  },
  {
   "cell_type": "code",
   "execution_count": 1,
   "metadata": {},
   "outputs": [],
   "source": [
    "import pandas as pd\n",
    "def analyze_temps(year_start, year_end, threshold=0.0):\n",
    "    dftemps = pd.read_csv('data//globaltemps.txt',sep='\\t',header=None, names = ['year','temp'])\n",
    "    return dftemps"
   ]
  },
  {
   "cell_type": "code",
   "execution_count": 2,
   "metadata": {},
   "outputs": [],
   "source": [
    "dftemps = analyze_temps(2002,2006)"
   ]
  },
  {
   "cell_type": "code",
   "execution_count": 11,
   "metadata": {},
   "outputs": [
    {
     "data": {
      "text/html": [
       "<div>\n",
       "<style scoped>\n",
       "    .dataframe tbody tr th:only-of-type {\n",
       "        vertical-align: middle;\n",
       "    }\n",
       "\n",
       "    .dataframe tbody tr th {\n",
       "        vertical-align: top;\n",
       "    }\n",
       "\n",
       "    .dataframe thead th {\n",
       "        text-align: right;\n",
       "    }\n",
       "</style>\n",
       "<table border=\"1\" class=\"dataframe\">\n",
       "  <thead>\n",
       "    <tr style=\"text-align: right;\">\n",
       "      <th></th>\n",
       "      <th>year</th>\n",
       "      <th>temp</th>\n",
       "    </tr>\n",
       "  </thead>\n",
       "  <tbody>\n",
       "    <tr>\n",
       "      <th>0</th>\n",
       "      <td>1850</td>\n",
       "      <td>-0.17</td>\n",
       "    </tr>\n",
       "    <tr>\n",
       "      <th>1</th>\n",
       "      <td>1851</td>\n",
       "      <td>-0.09</td>\n",
       "    </tr>\n",
       "    <tr>\n",
       "      <th>2</th>\n",
       "      <td>1852</td>\n",
       "      <td>-0.10</td>\n",
       "    </tr>\n",
       "    <tr>\n",
       "      <th>3</th>\n",
       "      <td>1853</td>\n",
       "      <td>-0.12</td>\n",
       "    </tr>\n",
       "    <tr>\n",
       "      <th>4</th>\n",
       "      <td>1854</td>\n",
       "      <td>-0.11</td>\n",
       "    </tr>\n",
       "    <tr>\n",
       "      <th>...</th>\n",
       "      <td>...</td>\n",
       "      <td>...</td>\n",
       "    </tr>\n",
       "    <tr>\n",
       "      <th>150</th>\n",
       "      <td>2000</td>\n",
       "      <td>0.43</td>\n",
       "    </tr>\n",
       "    <tr>\n",
       "      <th>151</th>\n",
       "      <td>2001</td>\n",
       "      <td>0.55</td>\n",
       "    </tr>\n",
       "    <tr>\n",
       "      <th>152</th>\n",
       "      <td>2002</td>\n",
       "      <td>0.62</td>\n",
       "    </tr>\n",
       "    <tr>\n",
       "      <th>153</th>\n",
       "      <td>2003</td>\n",
       "      <td>0.63</td>\n",
       "    </tr>\n",
       "    <tr>\n",
       "      <th>154</th>\n",
       "      <td>2004</td>\n",
       "      <td>0.55</td>\n",
       "    </tr>\n",
       "  </tbody>\n",
       "</table>\n",
       "<p>155 rows × 2 columns</p>\n",
       "</div>"
      ],
      "text/plain": [
       "     year  temp\n",
       "0    1850 -0.17\n",
       "1    1851 -0.09\n",
       "2    1852 -0.10\n",
       "3    1853 -0.12\n",
       "4    1854 -0.11\n",
       "..    ...   ...\n",
       "150  2000  0.43\n",
       "151  2001  0.55\n",
       "152  2002  0.62\n",
       "153  2003  0.63\n",
       "154  2004  0.55\n",
       "\n",
       "[155 rows x 2 columns]"
      ]
     },
     "execution_count": 11,
     "metadata": {},
     "output_type": "execute_result"
    }
   ],
   "source": [
    "dftemps[(dftemps.year<2005)]"
   ]
  },
  {
   "cell_type": "code",
   "execution_count": 74,
   "metadata": {},
   "outputs": [
    {
     "ename": "TypeError",
     "evalue": "'>' not supported between instances of 'list' and 'int'",
     "output_type": "error",
     "traceback": [
      "\u001b[1;31m---------------------------------------------------------------------------\u001b[0m",
      "\u001b[1;31mTypeError\u001b[0m                                 Traceback (most recent call last)",
      "Cell \u001b[1;32mIn[74], line 1\u001b[0m\n\u001b[1;32m----> 1\u001b[0m mask \u001b[38;5;241m=\u001b[39m dftemps[\u001b[38;5;124m'\u001b[39m\u001b[38;5;124myear\u001b[39m\u001b[38;5;124m'\u001b[39m]\u001b[38;5;241m.\u001b[39mtolist()\u001b[38;5;241m>\u001b[39m\u001b[38;5;241m1910\u001b[39m \u001b[38;5;129;01mand\u001b[39;00m dftemps[\u001b[38;5;124m'\u001b[39m\u001b[38;5;124myear\u001b[39m\u001b[38;5;124m'\u001b[39m]\u001b[38;5;241m.\u001b[39mtolist()\u001b[38;5;241m<\u001b[39m\u001b[38;5;241m1960\u001b[39m\n\u001b[0;32m      2\u001b[0m dftemps[\u001b[38;5;124m'\u001b[39m\u001b[38;5;124mtemp\u001b[39m\u001b[38;5;124m'\u001b[39m]\n",
      "\u001b[1;31mTypeError\u001b[0m: '>' not supported between instances of 'list' and 'int'"
     ]
    }
   ],
   "source": [
    "\n",
    "dftemps['temp']"
   ]
  },
  {
   "cell_type": "code",
   "execution_count": null,
   "metadata": {},
   "outputs": [],
   "source": []
  }
 ],
 "metadata": {
  "kernelspec": {
   "display_name": "Python 3 (ipykernel)",
   "language": "python",
   "name": "python3"
  },
  "language_info": {
   "codemirror_mode": {
    "name": "ipython",
    "version": 3
   },
   "file_extension": ".py",
   "mimetype": "text/x-python",
   "name": "python",
   "nbconvert_exporter": "python",
   "pygments_lexer": "ipython3",
   "version": "3.12.7"
  }
 },
 "nbformat": 4,
 "nbformat_minor": 4
}
