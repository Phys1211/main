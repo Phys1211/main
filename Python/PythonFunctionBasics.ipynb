{
 "cells": [
  {
   "cell_type": "markdown",
   "metadata": {},
   "source": [
    "# Functions in Python\n",
    "Python allows users to write functions for specific tasks and then build larger, more complicated programs from those function. Functions take specific input (input arguments), carries out a task, and returns output arguments. You can save functions to a file and call them from other scripts, notebooks, or functions that you write. \n",
    "To define a function in Python use the following syntax:\n",
    "\n",
    "``` python\n",
    "def func1(input1, input2,...):\n",
    "    indented code statements\n",
    "    return output(s)\n",
    "```\n",
    "### Keep in mind, indentation is **everything in Python**. The function ends whenever the indentation ends. \n"
   ]
  },
  {
   "cell_type": "markdown",
   "metadata": {},
   "source": [
    "## Why write functions\n",
    "- Allow you to conceptualize the program in smaller sub-steps, one function per sub-step\n",
    "- Allow you to reuse code instead of rewriting the same process\n",
    "- Allow you to keep the  variable namespace clean, variables only exist while a given function excutes\n",
    "- Allow us to test smaller parts of the overall program in isolation"
   ]
  },
  {
   "cell_type": "markdown",
   "metadata": {},
   "source": [
    " ## Scope\n",
    " Scope refers to the availability of any variable within a program. Variables are usually only available in the scope in which they are created.\n",
    " ### Local Scope\n",
    " A `local variable` is one created inside a function. This local variable only exists with its function, referred to as the `local scope`.\n",
    " ### Global Scope\n",
    " `Global variables` are created in the main body of any Python program. They are available anywhere in the program, that is they have `global scope`. "
   ]
  },
  {
   "cell_type": "code",
   "execution_count": 8,
   "metadata": {},
   "outputs": [],
   "source": [
    "import numpy as np\n",
    "def expand(size):\n",
    "    x = np.array([size, size**2, size**(-1)])\n",
    "    return x\n",
    "def pythagoras(a,b):\n",
    "    c = np.sqrt(a*a + b*b)\n",
    "    return c"
   ]
  },
  {
   "cell_type": "code",
   "execution_count": 10,
   "metadata": {},
   "outputs": [
    {
     "data": {
      "text/plain": [
       "5.0"
      ]
     },
     "execution_count": 10,
     "metadata": {},
     "output_type": "execute_result"
    }
   ],
   "source": [
    "pythagoras(3,4)"
   ]
  },
  {
   "cell_type": "markdown",
   "metadata": {},
   "source": [
    "## `print` vs `return`\n",
    "Any program should produce some output. However, the way you deliver the output affects whether you can do anything with that output. We have larger relied on `print` to deliver output, but printing results doesn't allow you to refer back to those results later in the code. "
   ]
  },
  {
   "cell_type": "code",
   "execution_count": 12,
   "metadata": {},
   "outputs": [
    {
     "name": "stdout",
     "output_type": "stream",
     "text": [
      "7\n"
     ]
    }
   ],
   "source": [
    "def first(arg):\n",
    "    print(arg)\n",
    "\n",
    "def second(arg): \n",
    "    return arg\n",
    "\n",
    "x = first(7)\n",
    "y = second(48)"
   ]
  },
  {
   "cell_type": "code",
   "execution_count": 22,
   "metadata": {},
   "outputs": [
    {
     "data": {
      "text/plain": [
       "48"
      ]
     },
     "execution_count": 22,
     "metadata": {},
     "output_type": "execute_result"
    }
   ],
   "source": [
    "second(48)"
   ]
  },
  {
   "cell_type": "markdown",
   "metadata": {},
   "source": [
    "## `lambda` functions\n",
    "`lambda` functions in Python allow you to define simple, one-line functions."
   ]
  },
  {
   "cell_type": "code",
   "execution_count": 24,
   "metadata": {},
   "outputs": [],
   "source": [
    "# lambda function with input x and output as x**2\n",
    "quad = lambda x: x**2"
   ]
  },
  {
   "cell_type": "code",
   "execution_count": 26,
   "metadata": {
    "scrolled": true
   },
   "outputs": [
    {
     "name": "stdout",
     "output_type": "stream",
     "text": [
      "4900\n"
     ]
    }
   ],
   "source": [
    "a=quad(70)\n",
    "print(a)"
   ]
  },
  {
   "cell_type": "code",
   "execution_count": 28,
   "metadata": {},
   "outputs": [],
   "source": [
    "magn = lambda a,b: np.sqrt(a*a+b*b)"
   ]
  },
  {
   "cell_type": "code",
   "execution_count": 34,
   "metadata": {},
   "outputs": [
    {
     "ename": "TypeError",
     "evalue": "<lambda>() missing 1 required positional argument: 'b'",
     "output_type": "error",
     "traceback": [
      "\u001b[1;31m---------------------------------------------------------------------------\u001b[0m",
      "\u001b[1;31mTypeError\u001b[0m                                 Traceback (most recent call last)",
      "Cell \u001b[1;32mIn[34], line 1\u001b[0m\n\u001b[1;32m----> 1\u001b[0m magn(\u001b[38;5;241m8\u001b[39m)\n",
      "\u001b[1;31mTypeError\u001b[0m: <lambda>() missing 1 required positional argument: 'b'"
     ]
    }
   ],
   "source": [
    "magn(8)"
   ]
  },
  {
   "cell_type": "markdown",
   "metadata": {},
   "source": [
    "# Take home messages about Python Functions\n",
    "There are several things that you should notice about the function file above:\n",
    "* Anything that outside of function definitions is global, (any function can use it). This is useful when many separate functions need similar data.\n",
    "* Functions can call other functions within the same file. The ordering of the functions doesn't matter.\n",
    "*  `lambda` functions are Python's 'anonymous functions', functions that are defined in 1 line. The syntax takes the form:\n",
    "```python\n",
    "mtokm = lambda x: x/1000;\n",
    "```\n",
    "You can then call `mtokm` as any other function with an input argument `mtokm(x)`\n",
    "\n",
    "* Default arguments are defined in the function definition using `=` sign (not an assignment operator unless there is no input argurment in its place). You may set default values for any of your arguments, but cannot skip arguments in your functions calls.\n",
    "```python\n",
    "def satellite(T,grph = 0,unit='hr'):\n",
    "```\n",
    "That is you cannot call satellite using a call of `satellite(3.5, , 'min')` and hope that the default argument for `unit` will be used (because it won't). "
   ]
  },
  {
   "cell_type": "code",
   "execution_count": null,
   "metadata": {},
   "outputs": [],
   "source": []
  },
  {
   "cell_type": "markdown",
   "metadata": {},
   "source": [
    "# Exercise: Temperature Data Analysis Function\n",
    "\n",
    "Write a function called `analyze_temps(year_start, year_end, threshold=0.0)` that:\n",
    "\n",
    "1. Takes two required arguments: `year_start` and `year_end`\n",
    "2. Has an optional `threshold` parameter (default = 0.0)\n",
    "3. Returns a dictionary with three keys:\n",
    "   - `'count'`: number of years in the range where temperature anomaly exceeds the threshold\n",
    "   - `'average'`: average temperature anomaly for years in that range\n",
    "   - `'years_above'`: a list of years where temperature exceeded the threshold\n",
    "\n",
    "**Hints:**\n",
    "- You'll need to read the globaltemps.txt data (using methods from PythonInput)\n",
    "- Use control structures (if statements, for loops) from PythonControls\n",
    "- Work with lists and dictionaries from PythonDatatypes\n",
    "\n",
    "**Part 2:** Create/Modify two versions of your `analyze_temps` function:\n",
    "- Version A: Uses `print()` to display the dictionary\n",
    "- Version B: Uses `return` to output the dictionary\n",
    "\n",
    "Test both versions by running:\n",
    "```python\n",
    "result_A = analyze_temps(2000, 2023, threshold=0.5)\n",
    "result_B = analyze_temps(2000, 2023, threshold=0.5)\n",
    "```\n",
    "TThen try to access specific values like `result_A['count']` and `result_B['count']`. What happens with each version? Explain why one works and the other doesn't, and why this matters when you want to use the output in further calculations."
   ]
  },
  {
   "cell_type": "code",
   "execution_count": null,
   "metadata": {},
   "outputs": [],
   "source": []
  }
 ],
 "metadata": {
  "kernelspec": {
   "display_name": "Python 3 (ipykernel)",
   "language": "python",
   "name": "python3"
  },
  "language_info": {
   "codemirror_mode": {
    "name": "ipython",
    "version": 3
   },
   "file_extension": ".py",
   "mimetype": "text/x-python",
   "name": "python",
   "nbconvert_exporter": "python",
   "pygments_lexer": "ipython3",
   "version": "3.12.7"
  }
 },
 "nbformat": 4,
 "nbformat_minor": 4
}
