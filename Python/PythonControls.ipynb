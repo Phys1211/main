{
 "cells": [
  {
   "cell_type": "markdown",
   "metadata": {},
   "source": [
    "# Python Control Statements\n",
    "The so-called \"control statments\" allow the inputted and/or calculated values in the program to determine the next command executed. `if`, `for`, and `while` statements all fall under the category of control statements. \n",
    "## `if` statements\n",
    "`if` statements test a condition and then executes a command depending on whether that condition returns `true` (1) or `false` (0). An `if` can be supplemented with a `else` or and `elsif` for further refinement.\n",
    "\n",
    "<img src=\"figures/ifelifelse.jpg\" width=300>\n"
   ]
  },
  {
   "cell_type": "code",
   "execution_count": null,
   "metadata": {},
   "outputs": [],
   "source": [
    "z = 4;\n",
    "if z % 2 == 0:\n",
    "    print(\"z is even\")"
   ]
  },
  {
   "cell_type": "markdown",
   "metadata": {},
   "source": [
    "**Wait!** What is this `%` mean? Well, it is the modulo operator. It returns the remainder of the division problem."
   ]
  },
  {
   "cell_type": "code",
   "execution_count": null,
   "metadata": {},
   "outputs": [],
   "source": [
    "113%3"
   ]
  },
  {
   "cell_type": "code",
   "execution_count": null,
   "metadata": {},
   "outputs": [],
   "source": [
    "z = 9;\n",
    "if z % 2 == 0:\n",
    "    print(\"z is even\")\n",
    "else:\n",
    "    print(\"z is odd\")"
   ]
  },
  {
   "cell_type": "code",
   "execution_count": null,
   "metadata": {},
   "outputs": [],
   "source": [
    "room = \"office\"\n",
    "area = 3\n",
    "if room ==\"kit\":\n",
    "    print(\"Looking in the kitchen\")\n",
    "elif room ==\"bed\":\n",
    "    print(\"Looking in the bedroom\")\n",
    "elif room ==\"liv\":\n",
    "    print(\"Looking in the living room\")\n",
    "else:\n",
    "    print(\"Looking elsewhere\")\n",
    "\n",
    "if area>15:\n",
    "    print(\"The \" +room+ \" is pretty big\")\n",
    "else:\n",
    "    print(\"The \"+room+ \" looks pretty small\")"
   ]
  },
  {
   "cell_type": "markdown",
   "metadata": {},
   "source": [
    "## `for` Loop\n",
    "A `for` loop is used to iterate over a sequence, or perform the same operation on a set of data. Most programming languages have another method of iterating over an arrays, lists, or dictionaries, but a `for` statement is still needed in some cases.\n",
    "\n",
    "<img src=\"figures/forloop.jpg\" width=300>"
   ]
  },
  {
   "cell_type": "code",
   "execution_count": null,
   "metadata": {},
   "outputs": [],
   "source": [
    "for k in range(0,13):\n",
    "    print(str(k) + \" Mississippi!\")"
   ]
  },
  {
   "cell_type": "code",
   "execution_count": null,
   "metadata": {},
   "outputs": [],
   "source": [
    "electoral = {\"Alabama\":9,\"Alaska\":3,\"Arizona\":11,\"Arkansas\":6,\"California\":54,\"Colorado\":10,\"Connecticut\":7,\"Delaware\":3,\"District of Columbia\":3,\"Florida\":30,\"Georgia\":16,\"Hawaii\":4,\"Idaho\":4,\"Illinois\":19,\"Indiana\":11,\"Iowa\":6,\"Kansas\":6,\"Kentucky\":8,\"Louisiana\":8,\"Maine\":4,\"Maryland\":10,\"Massachusetts\": 11,\"Michigan\":15,\"Minnesota\":10,\"Mississippi\":6,\"Missouri\":10,\"Montana\":4,\"Nebraska\":5,\"Nevada\":6,\"New Hampshire\":4,\"New Jersey\":14,\"New Mexico\":5,\"New York\":28,\"North Carolina\":16,\"North Dakota\":3,\"Ohio\":17,\"Oklahoma\":7,\"Oregon\":8,\"Pennsylvania\":19,\"Rhode Island\":4,\"South Carolina\":9,\"South Dakota\":3,\"Tennessee\":11,\"Texas\":40,\"Utah\":6,\"Vermont\":3,\"Virginia\":13,\"Washington\":12,\"West Virginia\":4,\"Wisconsin\":10,\"Wyoming\":3}\n",
    "type(electoral)\n",
    "electoral.keys()\n",
    "len(electoral)"
   ]
  },
  {
   "cell_type": "code",
   "execution_count": null,
   "metadata": {},
   "outputs": [],
   "source": [
    "total=0\n",
    "for k in electoral.keys():\n",
    "    if electoral[k]>20:\n",
    "        total=electoral[k]+total\n",
    "        print(k)\n",
    "print(total)\n"
   ]
  },
  {
   "cell_type": "markdown",
   "metadata": {},
   "source": [
    "## `while` Loop\n",
    "`while` statements will execute a set of commands until a specified condition is satisfied. In Python, you may include an `else` statement that executes after the while loop is done.\n",
    "\n",
    "<img src=\"figures/whileloop.png\" width = 300>"
   ]
  },
  {
   "cell_type": "code",
   "execution_count": null,
   "metadata": {},
   "outputs": [],
   "source": [
    "k=0\n",
    "while k<8:\n",
    "    k = k + 1;\n",
    "    print(k)\n"
   ]
  },
  {
   "cell_type": "code",
   "execution_count": null,
   "metadata": {},
   "outputs": [],
   "source": [
    "k=0\n",
    "while k<8:\n",
    "    k = k + 1;\n",
    "    print(k)\n",
    "else:\n",
    "    print(\"now I counted to \"+str(k))"
   ]
  },
  {
   "cell_type": "code",
   "execution_count": null,
   "metadata": {},
   "outputs": [],
   "source": [
    "sortedvotes = sorted(electoral.items(), key=lambda x: x[1], reverse=True)\n",
    "print(sortedvotes)"
   ]
  },
  {
   "cell_type": "code",
   "execution_count": null,
   "metadata": {},
   "outputs": [],
   "source": [
    "s=0;\n",
    "k=0;\n",
    "while s<270:\n",
    "    s = sortedvotes[k][1] +s\n",
    "    print(sortedvotes[k][0])\n",
    "    k+=1\n",
    "else: \n",
    "    print(\"It only takes \"+str(k)+ \" states to win the Presidency\")\n",
    "    "
   ]
  },
  {
   "cell_type": "code",
   "execution_count": null,
   "metadata": {},
   "outputs": [],
   "source": [
    "electoral.items()"
   ]
  },
  {
   "cell_type": "markdown",
   "metadata": {},
   "source": [
    "# Exercise: Control Flow\n",
    "You are analyzing temperature data from a physics experiment. Write a program that processes a list of temperature readings and categorizes them based on physical states of matter.\n",
    "Create a program that:\n",
    "\n",
    "1. Uses a `for` loop to iterate through all temperatures\n",
    "2. Uses `if`/`elif`/`else` statements to categorize each temperature:\n",
    "\n",
    " - Below 0°C: \"Solid\"\n",
    " - 0°C to 99.9°C: \"Liquid\"\n",
    " - 100°C and above: \"Gas\"\n",
    " - Exactly -273.15°C: \"Absolute zero!\" (special case)\n",
    " - Below -273.15°C: \"Impossible! (Below absolute zero)\" (error case)\n",
    "\n",
    "\n",
    "3. Counts how many readings fall into each category\n",
    "4. Uses a `while` loop to identify and remove all physically impossible temperatures (below absolute zero) from the list"
   ]
  },
  {
   "cell_type": "code",
   "execution_count": null,
   "metadata": {},
   "outputs": [],
   "source": [
    "temperatures = [-15.2, 0.0, 25.3, 100.5, 150.8, -5.1, 85.7, 200.2, -273.15, \n",
    "                50.9, 75.4, 120.6, -280.5, 45.0, -290.1, 99.9, 101.3, -273.15, \n",
    "                22.7, 180.4, -300.0, 37.2, 95.8]  # in Celsius"
   ]
  },
  {
   "cell_type": "markdown",
   "metadata": {},
   "source": [
    "# `Try`/`Except` Statements\n",
    "\n",
    "\n",
    "<img src=\"figures/trystatement.png\" width=400>\n",
    "`try`/`except` statements are used to catch exceptions (errors) that are thrown by Python. The advantage of using a `try` statement is that it allows your program to continue and possibly fix the problem. At the very least, it will allow you to clean up after the error.\n",
    "\n",
    "The `try` statement can contain several components. The code underneath `try` always executes. Only when that code throws an exception does the code underneath `except` run. You may also include an `else` statement that runs when no exception is thrown. Finally, you can include a `finally` statement that always executes. \n",
    "\n",
    "Whenever a step in your code is at risk of running into an error, you should think about putting a `try` statement before it. For example, when trying to open a file, a number of things can go wrong.   "
   ]
  },
  {
   "cell_type": "code",
   "execution_count": null,
   "metadata": {},
   "outputs": [],
   "source": [
    "try:\n",
    "    #open a non-existent file\n",
    "    fhandle = open('NotAFile.txt','r')\n",
    "except:\n",
    "    #print something in the case of an error\n",
    "    print(\"Something went wrong with the file\")"
   ]
  },
  {
   "cell_type": "code",
   "execution_count": null,
   "metadata": {},
   "outputs": [],
   "source": [
    "try:\n",
    "    #open an existent file?\n",
    "    fhandle = open('test1.txt','r')\n",
    "except:\n",
    "    print(\"Something went wrong with the file\")\n",
    "else:\n",
    "    x = fhandle.readline()\n",
    "    print(x)\n",
    "    fhandle.close()"
   ]
  },
  {
   "cell_type": "markdown",
   "metadata": {},
   "source": [
    "## Example: The Collatz Conjecture\n",
    "\n",
    "The **Collatz Conjecture** (also known as the **3n+1 problem** or **hailstone sequence**) is one of mathematics' most famous unsolved problems.\n",
    "\n",
    "### The Algorithm\n",
    "Starting with any positive integer *n*:\n",
    "- If *n* is even: *n* → *n*/2  \n",
    "- If *n* is odd: *n* → 3*n*+1\n",
    "- Repeat until reaching 1\n",
    "\n",
    "### The Conjecture\n",
    "No matter what positive integer you start with, you will always eventually reach 1. For example, starting with 7: \n",
    "7 → 22 → 11 → 34 → 17 → 52 → 26 → 13 → 40 → 20 → 10 → 5 → 16 → 8 → 4 → 2 → 1\n",
    "\n",
    "Despite computational verification for numbers up to ~2^68, no general proof exists.\n",
    "\n",
    "Let's quickly code it and see a `try/except` statement in action."
   ]
  },
  {
   "cell_type": "code",
   "execution_count": null,
   "metadata": {},
   "outputs": [],
   "source": [
    "listing = []\n",
    "try: \n",
    "    print(variable)\n",
    "except:\n",
    "    print('no such variable')\n",
    "else:\n",
    "    while variable != 1:\n",
    "        if variable % 2:\n",
    "            variable = 3*variable + 1\n",
    "            listing.append(variable)\n",
    "        else:\n",
    "            variable = variable/2\n",
    "            listing.append(variable)\n",
    "finally:\n",
    "    print(listing)"
   ]
  },
  {
   "cell_type": "code",
   "execution_count": null,
   "metadata": {},
   "outputs": [],
   "source": [
    "variable=8987547"
   ]
  },
  {
   "cell_type": "markdown",
   "metadata": {},
   "source": [
    "# Exercise: Error Handling\n",
    "When trying to open files in a program, it's a good idea to anticipate issues (missing files, corrupted data, etc.). Write a `try`/`except` statement:\n",
    "1. Try opening a file names 'experimental_data.txt'. *This will fail (unless you have a file with that name, I'm assuming you do not)*.\n",
    "2. If the file doesn't exist, use `fallback_data` if the file fails to open.\n",
    "3. Now, with the data: try to convert each value to float, skip any values that can't be converted (but print a warning), and calculate/print the average value of the valid numbers."
   ]
  },
  {
   "cell_type": "code",
   "execution_count": null,
   "metadata": {},
   "outputs": [],
   "source": [
    "fallback_data = [\"20.5\", \"25.1\", \"bad_value\", \"30.2\", \"19.8\", \"\", \"22.7\", \"invalid\", \n",
    "                    \"18.9\", \"26.3\", \"NaN\", \"21.4\", \"28.7\", \"error\", \"24.0\", \"17.6\", \n",
    "                    \"23.8\", \"\", \"27.1\", \"corrupt_data\", \"19.3\", \"25.9\"]"
   ]
  }
 ],
 "metadata": {
  "kernelspec": {
   "display_name": "Python 3 (ipykernel)",
   "language": "python",
   "name": "python3"
  },
  "language_info": {
   "codemirror_mode": {
    "name": "ipython",
    "version": 3
   },
   "file_extension": ".py",
   "mimetype": "text/x-python",
   "name": "python",
   "nbconvert_exporter": "python",
   "pygments_lexer": "ipython3",
   "version": "3.12.7"
  }
 },
 "nbformat": 4,
 "nbformat_minor": 4
}
