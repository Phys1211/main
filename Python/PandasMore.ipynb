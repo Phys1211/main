{
 "cells": [
  {
   "cell_type": "markdown",
   "metadata": {},
   "source": [
    "# More on Pandas\n",
    "Pandas contains multitudes of functions and methods that make data wrangling much easier. Lets import the example files from `Pandas.ipynb`"
   ]
  },
  {
   "cell_type": "code",
   "execution_count": null,
   "metadata": {},
   "outputs": [],
   "source": [
    "import numpy as np\n",
    "import pandas as pd\n",
    "#Create dataframes\n",
    "dfcarbon = pd.read_excel('data/GlobalCarbonBudget2022.xlsx','Global Carbon Budget', header=0, skiprows=20)\n",
    "dfcarbon"
   ]
  },
  {
   "cell_type": "markdown",
   "metadata": {},
   "source": [
    "Let's construct the `dfcarbon` dataframe as we did the other day. Below is the code we used to rename the columns using shorter names:"
   ]
  },
  {
   "cell_type": "code",
   "execution_count": null,
   "metadata": {
    "scrolled": true
   },
   "outputs": [],
   "source": [
    "# Rename columns\n",
    "name_dict = {}\n",
    "for name in dfcarbon.columns:\n",
    "    namelist = name.split(' ')\n",
    "    name_dict[name] = ' '.join(namelist[0:2])\n",
    "newdfcarbon = dfcarbon.rename(columns = name_dict)\n",
    "# Create new column\n",
    "newdfcarbon['total carbon'] = newdfcarbon['fossil emissions'] + newdfcarbon['land-use change'] \n",
    "newdfcarbon = newdfcarbon.iloc[:,[0,1,2,8,3,4,5,6,7]]"
   ]
  },
  {
   "cell_type": "code",
   "execution_count": null,
   "metadata": {},
   "outputs": [],
   "source": [
    "newdfcarbon"
   ]
  },
  {
   "cell_type": "markdown",
   "metadata": {},
   "source": [
    "## Filtering\n",
    "Dataframes can be sliced (indexed) using logical statements. This can be useful when filtering data based on the values within each record. You can select rows from any dataframe by using a boolean statement as an index. "
   ]
  },
  {
   "cell_type": "code",
   "execution_count": null,
   "metadata": {
    "scrolled": true
   },
   "outputs": [],
   "source": [
    "# boolean indexing\n",
    "newdfcarbon[(newdfcarbon['land-use change']<1.32) & (newdfcarbon['total carbon']<6.1)]"
   ]
  },
  {
   "cell_type": "code",
   "execution_count": null,
   "metadata": {},
   "outputs": [],
   "source": [
    "newdfcarbon['total carbon'].tolist()"
   ]
  },
  {
   "cell_type": "code",
   "execution_count": null,
   "metadata": {
    "scrolled": true
   },
   "outputs": [],
   "source": [
    "newdfcarbon['total carbon'][newdfcarbon.Year>2010]"
   ]
  },
  {
   "cell_type": "code",
   "execution_count": null,
   "metadata": {},
   "outputs": [],
   "source": [
    "maxcarbon = max(newdfcarbon['total carbon'])\n",
    "newdfcarbon[newdfcarbon['total carbon']==maxcarbon]"
   ]
  },
  {
   "cell_type": "markdown",
   "metadata": {},
   "source": [
    "You can also use the `query` method to filter data based on values. However, formatting queries takes a little more thinking. Please refer to [Dataframe query](https://pandas.pydata.org/docs/reference/api/pandas.DataFrame.query.html) for formatting information"
   ]
  },
  {
   "cell_type": "code",
   "execution_count": null,
   "metadata": {},
   "outputs": [],
   "source": [
    "newdf = newdfcarbon.query('Year>2000')\n",
    "newdf1 = newdfcarbon.query('`total carbon`>10 and `land-use change`>1.3')"
   ]
  },
  {
   "cell_type": "code",
   "execution_count": null,
   "metadata": {},
   "outputs": [],
   "source": [
    "newdf1"
   ]
  },
  {
   "cell_type": "markdown",
   "metadata": {},
   "source": [
    "## Filter Method\n",
    "`Pandas` also contains an explicit `filter` method that allows you to pick out rows or columns of particular interest."
   ]
  },
  {
   "cell_type": "code",
   "execution_count": null,
   "metadata": {},
   "outputs": [],
   "source": [
    "newdfcarbon"
   ]
  },
  {
   "cell_type": "code",
   "execution_count": null,
   "metadata": {
    "scrolled": true
   },
   "outputs": [],
   "source": [
    "newdfcarbon.filter(items = [\"Year\",\"total carbon\",\"fossil emissions\", \"land-use change\"], inplace=True)"
   ]
  },
  {
   "cell_type": "markdown",
   "metadata": {},
   "source": [
    "# Exploration\n",
    "Let's try to use some of the `pandas` functionality to explore the exoplanet data in our file `Exoplanet_Archive10.2025.csv`"
   ]
  },
  {
   "cell_type": "code",
   "execution_count": null,
   "metadata": {},
   "outputs": [],
   "source": [
    "#create exoplanet dataframe\n",
    "dfplanets = pd.read_csv('data/Exoplanet_Archive10.2025.csv', header=0,  skiprows=95)\n",
    "dfplanets"
   ]
  },
  {
   "cell_type": "code",
   "execution_count": null,
   "metadata": {},
   "outputs": [],
   "source": [
    "dfplanets.columns.to_list()"
   ]
  },
  {
   "cell_type": "code",
   "execution_count": null,
   "metadata": {},
   "outputs": [],
   "source": [
    "dfplanets.filter(items = [\"pl_name\",\"default_flag\"], axis=1)"
   ]
  },
  {
   "cell_type": "code",
   "execution_count": null,
   "metadata": {},
   "outputs": [],
   "source": [
    "dfplanets = dfplanets[dfplanets.default_flag==1]\n",
    "#setting index - not strictly needed\n",
    "dfplanets.set_index(\"pl_name\")"
   ]
  },
  {
   "cell_type": "code",
   "execution_count": null,
   "metadata": {},
   "outputs": [],
   "source": [
    "sum(dfplanets['sy_snum'][dfplanets.sy_snum>1])"
   ]
  },
  {
   "cell_type": "code",
   "execution_count": null,
   "metadata": {},
   "outputs": [],
   "source": [
    "import statistics as st\n",
    "Kratio = 7.496*10**(-6)\n",
    "ratio = dfplanets.pl_orbsmax**3/dfplanets.pl_orbper**2"
   ]
  },
  {
   "cell_type": "code",
   "execution_count": null,
   "metadata": {},
   "outputs": [],
   "source": [
    "len(dfplanets.st_mass)"
   ]
  },
  {
   "cell_type": "code",
   "execution_count": null,
   "metadata": {},
   "outputs": [],
   "source": [
    "len(dfplanets.st_mass[dfplanets.sy_snum==1])"
   ]
  },
  {
   "cell_type": "code",
   "execution_count": null,
   "metadata": {},
   "outputs": [],
   "source": [
    "sum(dfplanets.pl_orbsmax<0.5)"
   ]
  },
  {
   "cell_type": "code",
   "execution_count": null,
   "metadata": {},
   "outputs": [],
   "source": [
    "dfplanets.pl_rade.hist(bins=20)"
   ]
  },
  {
   "cell_type": "code",
   "execution_count": null,
   "metadata": {},
   "outputs": [],
   "source": []
  },
  {
   "cell_type": "code",
   "execution_count": null,
   "metadata": {},
   "outputs": [],
   "source": []
  }
 ],
 "metadata": {
  "kernelspec": {
   "display_name": "Python 3 (ipykernel)",
   "language": "python",
   "name": "python3"
  },
  "language_info": {
   "codemirror_mode": {
    "name": "ipython",
    "version": 3
   },
   "file_extension": ".py",
   "mimetype": "text/x-python",
   "name": "python",
   "nbconvert_exporter": "python",
   "pygments_lexer": "ipython3",
   "version": "3.12.7"
  }
 },
 "nbformat": 4,
 "nbformat_minor": 4
}
